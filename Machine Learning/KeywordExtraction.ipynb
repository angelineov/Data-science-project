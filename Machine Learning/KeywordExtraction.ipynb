{
  "nbformat": 4,
  "nbformat_minor": 0,
  "metadata": {
    "colab": {
      "name": "Untitled4.ipynb",
      "provenance": []
    },
    "kernelspec": {
      "name": "python3",
      "display_name": "Python 3"
    }
  },
  "cells": [
    {
      "cell_type": "code",
      "metadata": {
        "colab": {
          "base_uri": "https://localhost:8080/"
        },
        "id": "6uPtAIgWcrnI",
        "outputId": "2fae36a5-c39d-42b7-ac3e-b5a319926f6e"
      },
      "source": [
        "import numpy as np\r\n",
        "import matplotlib.pyplot as plt\r\n",
        "import pandas as pd\r\n",
        "import seaborn as sns\r\n",
        "import statsmodels as sm\r\n",
        "\r\n",
        "from sklearn.feature_extraction.text import CountVectorizer\r\n",
        "from sklearn.feature_extraction.text import TfidfTransformer\r\n",
        "!pip install git+https://github.com/boudinfl/pke.git\r\n",
        "!python -m nltk.downloader stopwords\r\n",
        "!python -m nltk.downloader universal_tagset\r\n",
        "!python -m spacy download en # download the english model\r\n",
        "\r\n",
        "import nltk\r\n",
        "nltk.download('punkt')\r\n",
        "nltk.download('stopwords')\r\n",
        "nltk.download('wordnet')\r\n",
        "from nltk.stem import WordNetLemmatizer\r\n",
        "from nltk.tokenize import word_tokenize\r\n",
        "from nltk.corpus import stopwords\r\n",
        "import string\r\n",
        "import re\r\n",
        "!pip install langcodes\r\n",
        "import pke\r\n",
        "nltk.download('averaged_perceptron_tagger')\r\n",
        "!pip install wikipedia\r\n",
        "import wikipedia as wiki"
      ],
      "execution_count": 1,
      "outputs": [
        {
          "output_type": "stream",
          "text": [
            "Collecting git+https://github.com/boudinfl/pke.git\n",
            "  Cloning https://github.com/boudinfl/pke.git to /tmp/pip-req-build-2rz0_g25\n",
            "  Running command git clone -q https://github.com/boudinfl/pke.git /tmp/pip-req-build-2rz0_g25\n",
            "Requirement already satisfied (use --upgrade to upgrade): pke==1.8.1 from git+https://github.com/boudinfl/pke.git in /usr/local/lib/python3.6/dist-packages\n",
            "Requirement already satisfied: nltk in /usr/local/lib/python3.6/dist-packages (from pke==1.8.1) (3.2.5)\n",
            "Requirement already satisfied: networkx in /usr/local/lib/python3.6/dist-packages (from pke==1.8.1) (2.5)\n",
            "Requirement already satisfied: numpy in /usr/local/lib/python3.6/dist-packages (from pke==1.8.1) (1.19.4)\n",
            "Requirement already satisfied: scipy in /usr/local/lib/python3.6/dist-packages (from pke==1.8.1) (1.4.1)\n",
            "Requirement already satisfied: spacy in /usr/local/lib/python3.6/dist-packages (from pke==1.8.1) (2.2.4)\n",
            "Requirement already satisfied: six in /usr/local/lib/python3.6/dist-packages (from pke==1.8.1) (1.15.0)\n",
            "Requirement already satisfied: sklearn in /usr/local/lib/python3.6/dist-packages (from pke==1.8.1) (0.0)\n",
            "Requirement already satisfied: unidecode in /usr/local/lib/python3.6/dist-packages (from pke==1.8.1) (1.1.2)\n",
            "Requirement already satisfied: future in /usr/local/lib/python3.6/dist-packages (from pke==1.8.1) (0.16.0)\n",
            "Requirement already satisfied: joblib in /usr/local/lib/python3.6/dist-packages (from pke==1.8.1) (1.0.0)\n",
            "Requirement already satisfied: decorator>=4.3.0 in /usr/local/lib/python3.6/dist-packages (from networkx->pke==1.8.1) (4.4.2)\n",
            "Requirement already satisfied: thinc==7.4.0 in /usr/local/lib/python3.6/dist-packages (from spacy->pke==1.8.1) (7.4.0)\n",
            "Requirement already satisfied: murmurhash<1.1.0,>=0.28.0 in /usr/local/lib/python3.6/dist-packages (from spacy->pke==1.8.1) (1.0.5)\n",
            "Requirement already satisfied: wasabi<1.1.0,>=0.4.0 in /usr/local/lib/python3.6/dist-packages (from spacy->pke==1.8.1) (0.8.0)\n",
            "Requirement already satisfied: requests<3.0.0,>=2.13.0 in /usr/local/lib/python3.6/dist-packages (from spacy->pke==1.8.1) (2.23.0)\n",
            "Requirement already satisfied: srsly<1.1.0,>=1.0.2 in /usr/local/lib/python3.6/dist-packages (from spacy->pke==1.8.1) (1.0.5)\n",
            "Requirement already satisfied: tqdm<5.0.0,>=4.38.0 in /usr/local/lib/python3.6/dist-packages (from spacy->pke==1.8.1) (4.41.1)\n",
            "Requirement already satisfied: setuptools in /usr/local/lib/python3.6/dist-packages (from spacy->pke==1.8.1) (51.0.0)\n",
            "Requirement already satisfied: cymem<2.1.0,>=2.0.2 in /usr/local/lib/python3.6/dist-packages (from spacy->pke==1.8.1) (2.0.5)\n",
            "Requirement already satisfied: blis<0.5.0,>=0.4.0 in /usr/local/lib/python3.6/dist-packages (from spacy->pke==1.8.1) (0.4.1)\n",
            "Requirement already satisfied: plac<1.2.0,>=0.9.6 in /usr/local/lib/python3.6/dist-packages (from spacy->pke==1.8.1) (1.1.3)\n",
            "Requirement already satisfied: catalogue<1.1.0,>=0.0.7 in /usr/local/lib/python3.6/dist-packages (from spacy->pke==1.8.1) (1.0.0)\n",
            "Requirement already satisfied: preshed<3.1.0,>=3.0.2 in /usr/local/lib/python3.6/dist-packages (from spacy->pke==1.8.1) (3.0.5)\n",
            "Requirement already satisfied: scikit-learn in /usr/local/lib/python3.6/dist-packages (from sklearn->pke==1.8.1) (0.22.2.post1)\n",
            "Requirement already satisfied: certifi>=2017.4.17 in /usr/local/lib/python3.6/dist-packages (from requests<3.0.0,>=2.13.0->spacy->pke==1.8.1) (2020.12.5)\n",
            "Requirement already satisfied: chardet<4,>=3.0.2 in /usr/local/lib/python3.6/dist-packages (from requests<3.0.0,>=2.13.0->spacy->pke==1.8.1) (3.0.4)\n",
            "Requirement already satisfied: idna<3,>=2.5 in /usr/local/lib/python3.6/dist-packages (from requests<3.0.0,>=2.13.0->spacy->pke==1.8.1) (2.10)\n",
            "Requirement already satisfied: urllib3!=1.25.0,!=1.25.1,<1.26,>=1.21.1 in /usr/local/lib/python3.6/dist-packages (from requests<3.0.0,>=2.13.0->spacy->pke==1.8.1) (1.24.3)\n",
            "Requirement already satisfied: importlib-metadata>=0.20; python_version < \"3.8\" in /usr/local/lib/python3.6/dist-packages (from catalogue<1.1.0,>=0.0.7->spacy->pke==1.8.1) (3.3.0)\n",
            "Requirement already satisfied: zipp>=0.5 in /usr/local/lib/python3.6/dist-packages (from importlib-metadata>=0.20; python_version < \"3.8\"->catalogue<1.1.0,>=0.0.7->spacy->pke==1.8.1) (3.4.0)\n",
            "Requirement already satisfied: typing-extensions>=3.6.4; python_version < \"3.8\" in /usr/local/lib/python3.6/dist-packages (from importlib-metadata>=0.20; python_version < \"3.8\"->catalogue<1.1.0,>=0.0.7->spacy->pke==1.8.1) (3.7.4.3)\n",
            "Building wheels for collected packages: pke\n",
            "  Building wheel for pke (setup.py) ... \u001b[?25l\u001b[?25hdone\n",
            "  Created wheel for pke: filename=pke-1.8.1-cp36-none-any.whl size=8763600 sha256=0ad95fcd7a4063d85635f6ed7b951262057fe58339ca63bdff297d0f57eff164\n",
            "  Stored in directory: /tmp/pip-ephem-wheel-cache-_2ckjvqw/wheels/8d/24/54/6582e854e9e32dd6c632af6762b3a5d2f6b181c2992e165462\n",
            "Successfully built pke\n",
            "/usr/lib/python3.6/runpy.py:125: RuntimeWarning: 'nltk.downloader' found in sys.modules after import of package 'nltk', but prior to execution of 'nltk.downloader'; this may result in unpredictable behaviour\n",
            "  warn(RuntimeWarning(msg))\n",
            "[nltk_data] Downloading package stopwords to /root/nltk_data...\n",
            "[nltk_data]   Package stopwords is already up-to-date!\n",
            "/usr/lib/python3.6/runpy.py:125: RuntimeWarning: 'nltk.downloader' found in sys.modules after import of package 'nltk', but prior to execution of 'nltk.downloader'; this may result in unpredictable behaviour\n",
            "  warn(RuntimeWarning(msg))\n",
            "[nltk_data] Downloading package universal_tagset to /root/nltk_data...\n",
            "[nltk_data]   Package universal_tagset is already up-to-date!\n",
            "Requirement already satisfied: en_core_web_sm==2.2.5 from https://github.com/explosion/spacy-models/releases/download/en_core_web_sm-2.2.5/en_core_web_sm-2.2.5.tar.gz#egg=en_core_web_sm==2.2.5 in /usr/local/lib/python3.6/dist-packages (2.2.5)\n",
            "Requirement already satisfied: spacy>=2.2.2 in /usr/local/lib/python3.6/dist-packages (from en_core_web_sm==2.2.5) (2.2.4)\n",
            "Requirement already satisfied: blis<0.5.0,>=0.4.0 in /usr/local/lib/python3.6/dist-packages (from spacy>=2.2.2->en_core_web_sm==2.2.5) (0.4.1)\n",
            "Requirement already satisfied: srsly<1.1.0,>=1.0.2 in /usr/local/lib/python3.6/dist-packages (from spacy>=2.2.2->en_core_web_sm==2.2.5) (1.0.5)\n",
            "Requirement already satisfied: preshed<3.1.0,>=3.0.2 in /usr/local/lib/python3.6/dist-packages (from spacy>=2.2.2->en_core_web_sm==2.2.5) (3.0.5)\n",
            "Requirement already satisfied: wasabi<1.1.0,>=0.4.0 in /usr/local/lib/python3.6/dist-packages (from spacy>=2.2.2->en_core_web_sm==2.2.5) (0.8.0)\n",
            "Requirement already satisfied: cymem<2.1.0,>=2.0.2 in /usr/local/lib/python3.6/dist-packages (from spacy>=2.2.2->en_core_web_sm==2.2.5) (2.0.5)\n",
            "Requirement already satisfied: murmurhash<1.1.0,>=0.28.0 in /usr/local/lib/python3.6/dist-packages (from spacy>=2.2.2->en_core_web_sm==2.2.5) (1.0.5)\n",
            "Requirement already satisfied: plac<1.2.0,>=0.9.6 in /usr/local/lib/python3.6/dist-packages (from spacy>=2.2.2->en_core_web_sm==2.2.5) (1.1.3)\n",
            "Requirement already satisfied: requests<3.0.0,>=2.13.0 in /usr/local/lib/python3.6/dist-packages (from spacy>=2.2.2->en_core_web_sm==2.2.5) (2.23.0)\n",
            "Requirement already satisfied: setuptools in /usr/local/lib/python3.6/dist-packages (from spacy>=2.2.2->en_core_web_sm==2.2.5) (51.0.0)\n",
            "Requirement already satisfied: thinc==7.4.0 in /usr/local/lib/python3.6/dist-packages (from spacy>=2.2.2->en_core_web_sm==2.2.5) (7.4.0)\n",
            "Requirement already satisfied: numpy>=1.15.0 in /usr/local/lib/python3.6/dist-packages (from spacy>=2.2.2->en_core_web_sm==2.2.5) (1.19.4)\n",
            "Requirement already satisfied: tqdm<5.0.0,>=4.38.0 in /usr/local/lib/python3.6/dist-packages (from spacy>=2.2.2->en_core_web_sm==2.2.5) (4.41.1)\n",
            "Requirement already satisfied: catalogue<1.1.0,>=0.0.7 in /usr/local/lib/python3.6/dist-packages (from spacy>=2.2.2->en_core_web_sm==2.2.5) (1.0.0)\n",
            "Requirement already satisfied: chardet<4,>=3.0.2 in /usr/local/lib/python3.6/dist-packages (from requests<3.0.0,>=2.13.0->spacy>=2.2.2->en_core_web_sm==2.2.5) (3.0.4)\n",
            "Requirement already satisfied: urllib3!=1.25.0,!=1.25.1,<1.26,>=1.21.1 in /usr/local/lib/python3.6/dist-packages (from requests<3.0.0,>=2.13.0->spacy>=2.2.2->en_core_web_sm==2.2.5) (1.24.3)\n",
            "Requirement already satisfied: certifi>=2017.4.17 in /usr/local/lib/python3.6/dist-packages (from requests<3.0.0,>=2.13.0->spacy>=2.2.2->en_core_web_sm==2.2.5) (2020.12.5)\n",
            "Requirement already satisfied: idna<3,>=2.5 in /usr/local/lib/python3.6/dist-packages (from requests<3.0.0,>=2.13.0->spacy>=2.2.2->en_core_web_sm==2.2.5) (2.10)\n",
            "Requirement already satisfied: importlib-metadata>=0.20; python_version < \"3.8\" in /usr/local/lib/python3.6/dist-packages (from catalogue<1.1.0,>=0.0.7->spacy>=2.2.2->en_core_web_sm==2.2.5) (3.3.0)\n",
            "Requirement already satisfied: typing-extensions>=3.6.4; python_version < \"3.8\" in /usr/local/lib/python3.6/dist-packages (from importlib-metadata>=0.20; python_version < \"3.8\"->catalogue<1.1.0,>=0.0.7->spacy>=2.2.2->en_core_web_sm==2.2.5) (3.7.4.3)\n",
            "Requirement already satisfied: zipp>=0.5 in /usr/local/lib/python3.6/dist-packages (from importlib-metadata>=0.20; python_version < \"3.8\"->catalogue<1.1.0,>=0.0.7->spacy>=2.2.2->en_core_web_sm==2.2.5) (3.4.0)\n",
            "\u001b[38;5;2m✔ Download and installation successful\u001b[0m\n",
            "You can now load the model via spacy.load('en_core_web_sm')\n",
            "\u001b[38;5;2m✔ Linking successful\u001b[0m\n",
            "/usr/local/lib/python3.6/dist-packages/en_core_web_sm -->\n",
            "/usr/local/lib/python3.6/dist-packages/spacy/data/en\n",
            "You can now load the model via spacy.load('en')\n",
            "[nltk_data] Downloading package punkt to /root/nltk_data...\n",
            "[nltk_data]   Package punkt is already up-to-date!\n",
            "[nltk_data] Downloading package stopwords to /root/nltk_data...\n",
            "[nltk_data]   Package stopwords is already up-to-date!\n",
            "[nltk_data] Downloading package wordnet to /root/nltk_data...\n",
            "[nltk_data]   Package wordnet is already up-to-date!\n",
            "Requirement already satisfied: langcodes in /usr/local/lib/python3.6/dist-packages (2.1.0)\n",
            "Requirement already satisfied: marisa-trie in /usr/local/lib/python3.6/dist-packages (from langcodes) (0.7.5)\n",
            "[nltk_data] Downloading package averaged_perceptron_tagger to\n",
            "[nltk_data]     /root/nltk_data...\n",
            "[nltk_data]   Package averaged_perceptron_tagger is already up-to-\n",
            "[nltk_data]       date!\n",
            "Requirement already satisfied: wikipedia in /usr/local/lib/python3.6/dist-packages (1.4.0)\n",
            "Requirement already satisfied: beautifulsoup4 in /usr/local/lib/python3.6/dist-packages (from wikipedia) (4.6.3)\n",
            "Requirement already satisfied: requests<3.0.0,>=2.0.0 in /usr/local/lib/python3.6/dist-packages (from wikipedia) (2.23.0)\n",
            "Requirement already satisfied: urllib3!=1.25.0,!=1.25.1,<1.26,>=1.21.1 in /usr/local/lib/python3.6/dist-packages (from requests<3.0.0,>=2.0.0->wikipedia) (1.24.3)\n",
            "Requirement already satisfied: certifi>=2017.4.17 in /usr/local/lib/python3.6/dist-packages (from requests<3.0.0,>=2.0.0->wikipedia) (2020.12.5)\n",
            "Requirement already satisfied: chardet<4,>=3.0.2 in /usr/local/lib/python3.6/dist-packages (from requests<3.0.0,>=2.0.0->wikipedia) (3.0.4)\n",
            "Requirement already satisfied: idna<3,>=2.5 in /usr/local/lib/python3.6/dist-packages (from requests<3.0.0,>=2.0.0->wikipedia) (2.10)\n"
          ],
          "name": "stdout"
        }
      ]
    },
    {
      "cell_type": "code",
      "metadata": {
        "id": "lmikMjO-DFJM"
      },
      "source": [
        "# A list containing stop words for Wikipedia filtering \r\n",
        "stoplist=['also discus','still','well','present','drone','first','large','every','cause','sufficiently','streamlined','unique approach','using','current effort',\r\n",
        "'often','benchmark tool spatter','upcoming','several','poster present','technical detail','take','poster show','tackle','trust','well','previous work','defense method',\r\n",
        "'highly','relatively','asynchronous execution','currently','experience','neural chemistry','joining','combining','board range','furthermore','desire','getting lot',\r\n",
        "'like','faster','show breakthrough performance','various deep','model like mask','take lot','label noise','neighborhood ann search','massive scaling','ai solution',\r\n",
        "'ha moved beyond','moved beyond research','move faster','solving','target','many','tqi ha','highest quality','leading','domestic intelligent video','manually',\r\n",
        "'well introduce','owner still face','design factor','particle problem','featuring','since 2018','actively','provide','simple multicamera','multicamera medium server',\r\n",
        "'diverse combination','four gate','recent success','human feedback','video demostration','third person video','opensource ml framework','evaluate','three novel',\r\n",
        "'novel design criterion','recent','achieved','japan research','various','extract','discus','covering','social medium','deep learning ha','essential element',\r\n",
        "'product talk','clara','latest feature','continue','increasing','often','latest performance','reference framework','anomalous event','de novo','ai software',\r\n",
        "'dl application','patient journey','collectively','best treatment','shown promising','ai offer','analysis iga ha','san francisco','wideranging','powerful technique',\r\n",
        "'rapid advancement','opensource contribution','talk cover','feature like realtime','various consideration','scan time','substantially','dramatic','reinvneted',\r\n",
        "'skeletal injury','like much','iowa','taken many fields','relatively little use','ha begun','pacc help lower','language instruction','coffee maker','dl model',\r\n",
        "'current profiling','highly','characterize ideal','teaching kit','front line','last september','milwaukee','certain object feature','important task','active topic',\r\n",
        "'surface texture','drug response hidden','world however','present unique challenge','elevated','synthesis vid2vid','core application','md engine','shanghai jiao',\r\n",
        "'imply','well explain','sciencetific advancement','important reducing','minion device','well report','well present submit','without','completing','approach combine',\r\n",
        "'ongoing work','poster present','tasking framework','poster cover','making progress','resolving speed','cost challenge','realtime performance','immersive experience',\r\n",
        "'two decade','cpu render','biggest pain','widely','care center','continually looking','gtc 2019','substance alchemist','produce hole distortion','obscured part',\r\n",
        "'application like graph','rd team','video game technology','year wide','significant progress','system show great','show great performance','bike demand',\r\n",
        "'worldwide one','one important','create','product presentation design','presentation design review','vehicle industry ha','many company','core problem','broad range',\r\n",
        "'road user','deepti mahajan','daytoday life','related topic','topic first','hd map','current real world','employ','application workload','robust sensor',\r\n",
        "'panoptic segmentation deep','digital road','continued advance','autonomous vehicle company','well talk','also leading','onboard processing',\r\n",
        "'nvidias metropolis application','virtual validation vv','general strength','vv briefly','ha machine','ha machine learning','share insight','best architecture',\r\n",
        "'intelligent scenario','common solution many','project however','magnitude smaller','new possibility','exciting world','talk ill','streaming platform part',\r\n",
        "'platform part ','recent decade','knowledge quiz show','right question','dimension like never','player perform','jeopardy','active user','twitter',\r\n",
        "'training complex image','intelligently connecting','connecting','infinite world','new possibility','company around','michal would','best practice','painful pushing',\r\n",
        "'make split second','reallife story','method much effort','fun part','part ie training','favorite performance','intelligence give retailer','great opportunity',\r\n",
        "'experience convinience','cause issue','gaining insight','large amount','whole different','generating new','ha mature','offline analysis','lacked option','prominent comment',\r\n",
        "'building amazing','bi solution','basic building','innovative solution','require manually','development wa','phenomenal growth','many challenge','incredibly sophisticated',\r\n",
        "'short introduction','many different','empty phrase meaning','flank stack','phrase meaning everything','build fast','since everybody','sound super','vague sense',\r\n",
        "'organisation question','common use','provide tip','good practice','exciting yet getting','race wa','soviet union','beautiful window','pose real limit',\r\n",
        "'answer nontrivial question','key new challenge','industry 40','huge ethical gap','without leaving','build machine','best manage','huge mass','processing model ha',\r\n",
        "'otherwise inaccurate','widespread excitement','fairness accountability','practice case','ai kane','wide us','sucessful implementation','key enabler','session mat',\r\n",
        "'interesting segment','get high','web visitor','fast data','covid19','spreading across','posing','goverment try','since 2013','minimum passenger','overfilled vehicle',\r\n",
        "'idea development','ingesting billion','multiple','ai solution','significant challenge','comapny trying','ai technologist','keynote address','kristine','kristine dery',\r\n",
        "'people work','true anywhere organization','basic tenet','team attempt','katie king','confusion hype','surrounding','well fargo','christy punch','inside look',\r\n",
        "'responsible part','include redesigning','impact every aspect','work transformation','today workplace','still moving','often left','exceptional pace','exclusive group',\r\n",
        "'challenging part','biggest workplace','hootsuite ha','enjoyed rapid growth','rapid growth','since','best learning','invisible adjusting','team dwindling',\r\n",
        "'flexible working ha','support employee','employee journey','pandemic ha','new urgency','constant change','procedure come','siobhan','fagan','sarah kimmel',\r\n",
        "'report key','fast company','year interviewing','digital workplace experience','putting employee','disconnected application','exclusive group','connected culture',\r\n",
        "'exceed expectation','project team','change management','imperative grew','right','key trend across','across department function','workplace make','industry ha',\r\n",
        "'second look','ear organization','better business','company must','work otherwise','risk leaving','covid','hybrid','unifying platform','doe change','really feel like',\r\n",
        "'mass global shift','permeate','every','lower cost increase','explore nine','technology operating','impacting every','stay ahead','competition also','help reshape',\r\n",
        "'unified identity','development adoption','cloud present','coming next','development team','epm development leader','trailblazing customer','onpremises software',\r\n",
        "'inmemory functionality','lost person','land payload','people around','lightweight','model explosive weapon','finding']"
      ],
      "execution_count": 2,
      "outputs": []
    },
    {
      "cell_type": "code",
      "metadata": {
        "id": "5TkTzP-IdL_N"
      },
      "source": [
        "# Wikipedia filter\r\n",
        "def checkingInfo(word):\r\n",
        "  if not wiki.search(word):\r\n",
        "    return ''\r\n",
        "  else :\r\n",
        "    return wiki.search(word)[0]"
      ],
      "execution_count": 3,
      "outputs": []
    },
    {
      "cell_type": "code",
      "metadata": {
        "id": "w1RnYnytc4Ey"
      },
      "source": [
        "def keyWordsExtraction(input):\r\n",
        "\r\n",
        "  #Preprocessing\r\n",
        "  input_str = input.lower()                                                         #Convert text to lower case\r\n",
        "  input_str = input_str.translate(str.maketrans('', '', string.punctuation))        #Remove punctuation\r\n",
        "  input_str = input_str.strip()                                                     #Remove punctuation\r\n",
        "  lemmatizer=WordNetLemmatizer()                                                    #Lemmatization\r\n",
        "  input_str=word_tokenize(input_str)\r\n",
        "  input_str= ' '.join([lemmatizer.lemmatize(w) for w in input_str])\r\n",
        "\r\n",
        "  #Stopwords_list\r\n",
        "  stop_words = list(stopwords.words('english'))                                      \r\n",
        "  extras = list(['including'])\r\n",
        "\r\n",
        "  #Extraction\r\n",
        "  extractor = pke.unsupervised.TfIdf()                                                      #TfIdf extractor\r\n",
        "  extractor.load_document(input_str,language='en',normalization=True)\r\n",
        "  extractor.candidate_selection(n=3, stoplist=list(string.punctuation)+stop_words+extras)   #{1-3} gram candidate selection\r\n",
        "  extractor.candidate_weighting()\r\n",
        "  keyphrases= extractor.get_n_best(n=15,stemming=True,redundancy_removal=True)              #15-highest scored candidates\r\n",
        "\r\n",
        "  #Seperation between single words and phrases\r\n",
        "  unzip = [[ i for i, j in keyphrases],[ j for i, j in keyphrases ]] \r\n",
        "  words= unzip[0]\r\n",
        "  singleton = list()                                                      #List contains single word (will not be used further)\r\n",
        "  phrase = list()                                                         #List contains phrases\r\n",
        "  for x in words:\r\n",
        "    if ' ' in x :\r\n",
        "      phrase.append(x)\r\n",
        "    else :\r\n",
        "     singleton.append(x)\r\n",
        "\r\n",
        "  #Wikipedia filtering\r\n",
        "  a = nltk.pos_tag(phrase)                                                #Applying pos tagging from nltk\r\n",
        "  b = [word for word, tag in a if tag in ('NN', 'VBG')]                   #Selecting NN and VBG only\r\n",
        "  c = b.copy()\r\n",
        "\r\n",
        "  for k in range(0, len(b)):                                              #Refining the phrases list with the pre-Wikipedia filter\r\n",
        "    if any(element in b[k] for element in stoplist):\r\n",
        "     c.remove(b[k])\r\n",
        "\r\n",
        "  for i in range(0,len(c)):                                               #Applying Wikipedia filter\r\n",
        "    print([c[i],checkingInfo(c[i])]) \r\n",
        "\r\n",
        "  #Cleaning the results\r\n",
        "  result = ''\r\n",
        "  if len(c) != 0: \r\n",
        "   d = np.array([checkingInfo(item) for item in c]) \r\n",
        "   d = d[d!='']\r\n",
        "   result = ','.join(np.unique(d))\r\n",
        "  \r\n",
        "  return result"
      ],
      "execution_count": 4,
      "outputs": []
    },
    {
      "cell_type": "code",
      "metadata": {
        "colab": {
          "base_uri": "https://localhost:8080/",
          "height": 1000
        },
        "id": "tb5fB-kYv3l4",
        "outputId": "b9522fd2-5bd1-4fc3-afbf-feacacd49ea8"
      },
      "source": [
        "#gtc, oracle\r\n",
        "def get_comp_after_comma(input):\r\n",
        "  input = input.rsplit(', ', 1)[1]\r\n",
        "  return input\r\n",
        "#bigdata 2019\r\n",
        "def get_comp_before_comma(input):\r\n",
        "  input = input.rsplit(',', 1)[0]\r\n",
        "  return input\r\n",
        "#bigdata2020, digwork - else.\r\n",
        "\r\n",
        "\r\n",
        "#Pre-information\r\n",
        "text        = pd.read_csv('All_conf.csv')\r\n",
        "conference  = text['conference '].values.tolist()\r\n",
        "inc         = text['company'].values.tolist()\r\n",
        "title       = text['title'].values.tolist()\r\n",
        "description = text['description'].values.tolist()\r\n",
        "\r\n",
        "\r\n",
        "#Creating the dataframe\r\n",
        "final = pd.DataFrame ({}, columns = ['Conference','Inc','Title','Keywords']).astype(str)\r\n",
        "\r\n",
        "#Appending the dataframe\r\n",
        "for i in range(len(text)):\r\n",
        "  if conference[i] == 'NVIDIA GTC 2020':\r\n",
        "    inc[i] = get_comp_after_comma(inc[i])\r\n",
        "  elif conference[i] == 'Oracle 2020':\r\n",
        "    inc[i] = get_comp_after_comma(inc[i])\r\n",
        "  elif conference[i] == 'Big Data 2019':\r\n",
        "    inc[i] = get_comp_before_comma(inc[i])\r\n",
        "  else:\r\n",
        "    inc[i] = inc[i]\r\n",
        "  add = pd.DataFrame({\"Conference\": [conference[i]],\r\n",
        "                      \"Inc\": [inc[i]],\r\n",
        "                      \"Title\": [title[i]],\r\n",
        "                      \"Keywords\": [keyWordsExtraction(description[i])]                   \r\n",
        "                      })\r\n",
        "  final = final.append(add, ignore_index=True)\r\n",
        "\r\n",
        "#Displaying of result  \r\n",
        "final"
      ],
      "execution_count": 5,
      "outputs": [
        {
          "output_type": "stream",
          "text": [
            "WARNING:root:LoadFile._df_counts is hard coded to /usr/local/lib/python3.6/dist-packages/pke/models/df-semeval2010.tsv.gz\n"
          ],
          "name": "stderr"
        },
        {
          "output_type": "stream",
          "text": [
            "['unsupervised segmentation', 'Image segmentation']\n",
            "['sar polarimetric image', 'Synthetic-aperture radar']\n",
            "['multiband areal image', 'Brand']\n",
            "['special sensor', 'List of sensors']\n"
          ],
          "name": "stdout"
        },
        {
          "output_type": "stream",
          "text": [
            "WARNING:root:LoadFile._df_counts is hard coded to /usr/local/lib/python3.6/dist-packages/pke/models/df-semeval2010.tsv.gz\n"
          ],
          "name": "stderr"
        },
        {
          "output_type": "stream",
          "text": [
            "['extreme edge', 'Edge case']\n",
            "['data generation', 'Generation Z']\n",
            "['data capability', 'Process capability']\n",
            "['extreme environment', 'Extreme environment']\n"
          ],
          "name": "stdout"
        },
        {
          "output_type": "stream",
          "text": [
            "WARNING:root:LoadFile._df_counts is hard coded to /usr/local/lib/python3.6/dist-packages/pke/models/df-semeval2010.tsv.gz\n"
          ],
          "name": "stderr"
        },
        {
          "output_type": "stream",
          "text": [
            "['neural network', 'Neural network']\n",
            "['aircraft sensor', 'Proximity sensor']\n",
            "['aircraft sensor data', 'Sensor fusion']\n",
            "['shear complexity', 'Rheology']\n"
          ],
          "name": "stdout"
        },
        {
          "output_type": "stream",
          "text": [
            "WARNING:root:LoadFile._df_counts is hard coded to /usr/local/lib/python3.6/dist-packages/pke/models/df-semeval2010.tsv.gz\n"
          ],
          "name": "stderr"
        },
        {
          "output_type": "stream",
          "text": [
            "['new computational fluid', 'Computational fluid dynamics']\n",
            "['fluid dynamic approach', 'Fluid bearing']\n",
            "['extremely complex multiphase', 'DC-to-DC converter']\n"
          ],
          "name": "stdout"
        },
        {
          "output_type": "stream",
          "text": [
            "WARNING:root:LoadFile._df_counts is hard coded to /usr/local/lib/python3.6/dist-packages/pke/models/df-semeval2010.tsv.gz\n"
          ],
          "name": "stderr"
        },
        {
          "output_type": "stream",
          "text": [
            "['applying deep', 'DeepDream']\n",
            "['applying deep learning', 'Deep learning super sampling']\n",
            "['deep learning technology', 'Deep learning']\n"
          ],
          "name": "stdout"
        },
        {
          "output_type": "stream",
          "text": [
            "WARNING:root:LoadFile._df_counts is hard coded to /usr/local/lib/python3.6/dist-packages/pke/models/df-semeval2010.tsv.gz\n",
            "WARNING:root:LoadFile._df_counts is hard coded to /usr/local/lib/python3.6/dist-packages/pke/models/df-semeval2010.tsv.gz\n"
          ],
          "name": "stderr"
        },
        {
          "output_type": "stream",
          "text": [
            "['supersonic retropropulsion', 'Mars atmospheric entry']\n",
            "['enable human', 'Human']\n"
          ],
          "name": "stdout"
        },
        {
          "output_type": "stream",
          "text": [
            "WARNING:root:LoadFile._df_counts is hard coded to /usr/local/lib/python3.6/dist-packages/pke/models/df-semeval2010.tsv.gz\n"
          ],
          "name": "stderr"
        },
        {
          "output_type": "stream",
          "text": [
            "['landslide detection', 'Wireless sensor network']\n",
            "['tropical cyclone', 'Tropical cyclone']\n",
            "['resulting landslide', 'Landslide']\n"
          ],
          "name": "stdout"
        },
        {
          "output_type": "stream",
          "text": [
            "WARNING:root:LoadFile._df_counts is hard coded to /usr/local/lib/python3.6/dist-packages/pke/models/df-semeval2010.tsv.gz\n"
          ],
          "name": "stderr"
        },
        {
          "output_type": "stream",
          "text": [
            "['highresolution imaging', 'Pulmonary alveolar microlithiasis']\n",
            "['groundbased observatory', 'Solar observatory']\n",
            "['atmospheric turbulence', 'Turbulence']\n"
          ],
          "name": "stdout"
        },
        {
          "output_type": "stream",
          "text": [
            "WARNING:root:LoadFile._df_counts is hard coded to /usr/local/lib/python3.6/dist-packages/pke/models/df-semeval2010.tsv.gz\n"
          ],
          "name": "stderr"
        },
        {
          "output_type": "stream",
          "text": [
            "['post spacing', 'Cable railings']\n",
            "['elevation model', 'Digital elevation model']\n",
            "['elevation data', 'Digital elevation model']\n",
            "['digital elevation', 'Digital elevation model']\n",
            "['digital elevation model', 'Digital elevation model']\n",
            "['fixedgrid post spacing', '']\n"
          ],
          "name": "stdout"
        },
        {
          "output_type": "stream",
          "text": [
            "WARNING:root:LoadFile._df_counts is hard coded to /usr/local/lib/python3.6/dist-packages/pke/models/df-semeval2010.tsv.gz\n"
          ],
          "name": "stderr"
        },
        {
          "output_type": "stream",
          "text": [
            "['object detection', 'Object detection']\n",
            "['industry practitioner', 'Computer Society of Southern Africa']\n",
            "['data curation workflow', 'Data curation']\n"
          ],
          "name": "stdout"
        },
        {
          "output_type": "stream",
          "text": [
            "WARNING:root:LoadFile._df_counts is hard coded to /usr/local/lib/python3.6/dist-packages/pke/models/df-semeval2010.tsv.gz\n"
          ],
          "name": "stderr"
        },
        {
          "output_type": "stream",
          "text": [
            "['coupling highfidelity', '']\n",
            "['highfidelity computational physic', '']\n",
            "['physic gpubased solver', '']\n",
            "['software unity', 'Unity (game engine)']\n"
          ],
          "name": "stdout"
        },
        {
          "output_type": "stream",
          "text": [
            "WARNING:root:LoadFile._df_counts is hard coded to /usr/local/lib/python3.6/dist-packages/pke/models/df-semeval2010.tsv.gz\n"
          ],
          "name": "stderr"
        },
        {
          "output_type": "stream",
          "text": [
            "['wearable supercomputing', 'Supercomputer']\n",
            "['wearable supercomputing platform', 'Supercomputer']\n",
            "['person searchandrescue sar', '']\n"
          ],
          "name": "stdout"
        },
        {
          "output_type": "stream",
          "text": [
            "WARNING:root:LoadFile._df_counts is hard coded to /usr/local/lib/python3.6/dist-packages/pke/models/df-semeval2010.tsv.gz\n"
          ],
          "name": "stderr"
        },
        {
          "output_type": "stream",
          "text": [
            "['graphblas implementation', 'GraphBLAS']\n",
            "['deep neural network', 'Deep learning']\n",
            "['network graph challenge', 'Graph coloring']\n"
          ],
          "name": "stdout"
        },
        {
          "output_type": "stream",
          "text": [
            "WARNING:root:LoadFile._df_counts is hard coded to /usr/local/lib/python3.6/dist-packages/pke/models/df-semeval2010.tsv.gz\n"
          ],
          "name": "stderr"
        },
        {
          "output_type": "stream",
          "text": [
            "['accelerating graph', 'Bar chart']\n",
            "['accelerating graph algorithm', 'A* search algorithm']\n",
            "['energy leadership', 'Leadership in Energy and Environmental Design']\n",
            "['energy leadership system', 'Leadership in Energy and Environmental Design']\n",
            "['system graph method', 'Force-directed graph drawing']\n",
            "['key kernel', 'Magic SysRq key']\n"
          ],
          "name": "stdout"
        },
        {
          "output_type": "stream",
          "text": [
            "WARNING:root:LoadFile._df_counts is hard coded to /usr/local/lib/python3.6/dist-packages/pke/models/df-semeval2010.tsv.gz\n"
          ],
          "name": "stderr"
        },
        {
          "output_type": "stream",
          "text": [
            "['balancing act', 'Balancing Act']\n",
            "['modern gpus', 'Graphics processing unit']\n"
          ],
          "name": "stdout"
        },
        {
          "output_type": "stream",
          "text": [
            "WARNING:root:LoadFile._df_counts is hard coded to /usr/local/lib/python3.6/dist-packages/pke/models/df-semeval2010.tsv.gz\n"
          ],
          "name": "stderr"
        },
        {
          "output_type": "stream",
          "text": [
            "['signal processing', 'Signal processing']\n",
            "['spatiotemporal signal processing', 'Signal processing']\n",
            "['phased sensor', 'Sensor']\n",
            "['phased sensor array', 'Sensor array']\n",
            "['require singular value', 'Singular value decomposition']\n"
          ],
          "name": "stdout"
        },
        {
          "output_type": "stream",
          "text": [
            "WARNING:root:LoadFile._df_counts is hard coded to /usr/local/lib/python3.6/dist-packages/pke/models/df-semeval2010.tsv.gz\n"
          ],
          "name": "stderr"
        },
        {
          "output_type": "stream",
          "text": [
            "['assessing memory', 'Memory']\n",
            "['assessing memory system', 'Memory']\n",
            "['memory system architecture', 'Shared memory']\n"
          ],
          "name": "stdout"
        },
        {
          "output_type": "stream",
          "text": [
            "WARNING:root:LoadFile._df_counts is hard coded to /usr/local/lib/python3.6/dist-packages/pke/models/df-semeval2010.tsv.gz\n"
          ],
          "name": "stderr"
        },
        {
          "output_type": "stream",
          "text": [
            "['strong scaling', 'Scalability']\n"
          ],
          "name": "stdout"
        },
        {
          "output_type": "stream",
          "text": [
            "WARNING:root:LoadFile._df_counts is hard coded to /usr/local/lib/python3.6/dist-packages/pke/models/df-semeval2010.tsv.gz\n"
          ],
          "name": "stderr"
        },
        {
          "output_type": "stream",
          "text": [
            "['different architecture', 'Classical architecture']\n",
            "['code motivate maintenance', 'Code refactoring']\n",
            "['singlesource codebase', '']\n"
          ],
          "name": "stdout"
        },
        {
          "output_type": "stream",
          "text": [
            "WARNING:root:LoadFile._df_counts is hard coded to /usr/local/lib/python3.6/dist-packages/pke/models/df-semeval2010.tsv.gz\n"
          ],
          "name": "stderr"
        },
        {
          "output_type": "stream",
          "text": [
            "['neural network', 'Neural network']\n",
            "['earthquake hypocenter', 'Hypocenter']\n",
            "['solar radiation', 'Solar irradiance']\n",
            "['convolutional neural', 'Convolutional neural network']\n"
          ],
          "name": "stdout"
        },
        {
          "output_type": "stream",
          "text": [
            "WARNING:root:LoadFile._df_counts is hard coded to /usr/local/lib/python3.6/dist-packages/pke/models/df-semeval2010.tsv.gz\n"
          ],
          "name": "stderr"
        },
        {
          "output_type": "stream",
          "text": [
            "['open source', 'Open source']\n",
            "['open source multiplatform', 'Jitsi']\n",
            "['source multiplatform particleincell', '']\n",
            "['multiplatform particleincell code', '']\n",
            "['particleincell code scaling', '']\n",
            "['fastest supercomputer', 'TOP500']\n"
          ],
          "name": "stdout"
        },
        {
          "output_type": "stream",
          "text": [
            "WARNING:root:LoadFile._df_counts is hard coded to /usr/local/lib/python3.6/dist-packages/pke/models/df-semeval2010.tsv.gz\n"
          ],
          "name": "stderr"
        },
        {
          "output_type": "stream",
          "text": [
            "['jupyter notebook', 'Project Jupyter']\n",
            "['modern scientist', 'Scientist']\n",
            "['engineer toolbox', 'GrabCAD']\n",
            "['accelerated computing', 'IBM Power Systems']\n"
          ],
          "name": "stdout"
        },
        {
          "output_type": "stream",
          "text": [
            "WARNING:root:LoadFile._df_counts is hard coded to /usr/local/lib/python3.6/dist-packages/pke/models/df-semeval2010.tsv.gz\n"
          ],
          "name": "stderr"
        },
        {
          "output_type": "stream",
          "text": [
            "['molecular dynamic code', 'Molecular models of DNA']\n",
            "['dynamic code namd', 'Charm++']\n"
          ],
          "name": "stdout"
        },
        {
          "output_type": "stream",
          "text": [
            "WARNING:root:LoadFile._df_counts is hard coded to /usr/local/lib/python3.6/dist-packages/pke/models/df-semeval2010.tsv.gz\n"
          ],
          "name": "stderr"
        },
        {
          "output_type": "stream",
          "text": [
            "['physical science', 'Outline of physical science']\n",
            "['exceptionally complex', 'Exceptional memory']\n",
            "['highdimensional exhibiting', '']\n"
          ],
          "name": "stdout"
        },
        {
          "output_type": "stream",
          "text": [
            "WARNING:root:LoadFile._df_counts is hard coded to /usr/local/lib/python3.6/dist-packages/pke/models/df-semeval2010.tsv.gz\n"
          ],
          "name": "stderr"
        },
        {
          "output_type": "stream",
          "text": [
            "['gpudriven performance', '']\n",
            "['gpudriven performance enhancement', '']\n"
          ],
          "name": "stdout"
        },
        {
          "output_type": "stream",
          "text": [
            "WARNING:root:LoadFile._df_counts is hard coded to /usr/local/lib/python3.6/dist-packages/pke/models/df-semeval2010.tsv.gz\n"
          ],
          "name": "stderr"
        },
        {
          "output_type": "stream",
          "text": [
            "['currentgeneration supercomputer', '']\n",
            "['numerical challenge', 'Numeric keypad']\n"
          ],
          "name": "stdout"
        },
        {
          "output_type": "stream",
          "text": [
            "WARNING:root:LoadFile._df_counts is hard coded to /usr/local/lib/python3.6/dist-packages/pke/models/df-semeval2010.tsv.gz\n"
          ],
          "name": "stderr"
        },
        {
          "output_type": "stream",
          "text": [
            "['new architecture', 'New Classical architecture']\n"
          ],
          "name": "stdout"
        },
        {
          "output_type": "stream",
          "text": [
            "WARNING:root:LoadFile._df_counts is hard coded to /usr/local/lib/python3.6/dist-packages/pke/models/df-semeval2010.tsv.gz\n"
          ],
          "name": "stderr"
        },
        {
          "output_type": "stream",
          "text": [
            "['memory usage', 'Memory management']\n",
            "['japan atomic', 'Atomic bombings of Hiroshima and Nagasaki']\n"
          ],
          "name": "stdout"
        },
        {
          "output_type": "stream",
          "text": [
            "WARNING:root:LoadFile._df_counts is hard coded to /usr/local/lib/python3.6/dist-packages/pke/models/df-semeval2010.tsv.gz\n"
          ],
          "name": "stderr"
        },
        {
          "output_type": "stream",
          "text": [
            "['cuttingedge investigation', '']\n",
            "['material behavior', 'Material']\n",
            "['via classical molecular', 'Classical genetics']\n"
          ],
          "name": "stdout"
        },
        {
          "output_type": "stream",
          "text": [
            "WARNING:root:LoadFile._df_counts is hard coded to /usr/local/lib/python3.6/dist-packages/pke/models/df-semeval2010.tsv.gz\n"
          ],
          "name": "stderr"
        },
        {
          "output_type": "stream",
          "text": [
            "['sandia national laboratory', 'Sandia National Laboratories']\n",
            "['explosive weapon component', 'Binary explosive']\n"
          ],
          "name": "stdout"
        },
        {
          "output_type": "stream",
          "text": [
            "WARNING:root:LoadFile._df_counts is hard coded to /usr/local/lib/python3.6/dist-packages/pke/models/df-semeval2010.tsv.gz\n"
          ],
          "name": "stderr"
        },
        {
          "output_type": "stream",
          "text": [
            "['national energy technology', 'National Energy Technology Laboratory']\n",
            "['energy technology laboratory', 'National Energy Technology Laboratory']\n",
            "['technology laboratory netl', 'National Energy Technology Laboratory']\n",
            "['tensorflowbased computational fluid', '']\n"
          ],
          "name": "stdout"
        },
        {
          "output_type": "stream",
          "text": [
            "WARNING:root:LoadFile._df_counts is hard coded to /usr/local/lib/python3.6/dist-packages/pke/models/df-semeval2010.tsv.gz\n"
          ],
          "name": "stderr"
        },
        {
          "output_type": "stream",
          "text": [
            "['new geometric characterization', 'Geometric median']\n",
            "['network loss surface', 'Path loss']\n",
            "['call fromage', 'Fromage']\n"
          ],
          "name": "stdout"
        },
        {
          "output_type": "stream",
          "text": [
            "WARNING:root:LoadFile._df_counts is hard coded to /usr/local/lib/python3.6/dist-packages/pke/models/df-semeval2010.tsv.gz\n"
          ],
          "name": "stderr"
        },
        {
          "output_type": "stream",
          "text": [
            "['satellite observation', 'Earth observation satellite']\n",
            "['use deep learning', 'Deep learning']\n",
            "['weather forecasting', 'Weather forecasting']\n",
            "['weather forecasting climate', 'Weather forecasting']\n",
            "['forecasting climate modeling', 'Forecasting']\n"
          ],
          "name": "stdout"
        },
        {
          "output_type": "stream",
          "text": [
            "WARNING:root:LoadFile._df_counts is hard coded to /usr/local/lib/python3.6/dist-packages/pke/models/df-semeval2010.tsv.gz\n"
          ],
          "name": "stderr"
        },
        {
          "output_type": "stream",
          "text": [
            "['adversarial training', 'Generative adversarial network']\n",
            "['graph convolutional network', 'Graph Fourier Transform']\n",
            "['semisupervised learning', 'Semi-supervised learning']\n",
            "['adversarial perturbation', 'Energy based model']\n"
          ],
          "name": "stdout"
        },
        {
          "output_type": "stream",
          "text": [
            "WARNING:root:LoadFile._df_counts is hard coded to /usr/local/lib/python3.6/dist-packages/pke/models/df-semeval2010.tsv.gz\n"
          ],
          "name": "stderr"
        },
        {
          "output_type": "stream",
          "text": [
            "['taking advantage', 'Advantage gambling']\n",
            "['powerful compute', 'Turing completeness']\n",
            "['powerful compute node', 'Load balancing (computing)']\n",
            "['compute node multicore', 'Parallel computing']\n"
          ],
          "name": "stdout"
        },
        {
          "output_type": "stream",
          "text": [
            "WARNING:root:LoadFile._df_counts is hard coded to /usr/local/lib/python3.6/dist-packages/pke/models/df-semeval2010.tsv.gz\n"
          ],
          "name": "stderr"
        },
        {
          "output_type": "stream",
          "text": [
            "['image reconstruction visualization', '3D reconstruction']\n"
          ],
          "name": "stdout"
        },
        {
          "output_type": "stream",
          "text": [
            "WARNING:root:LoadFile._df_counts is hard coded to /usr/local/lib/python3.6/dist-packages/pke/models/df-semeval2010.tsv.gz\n"
          ],
          "name": "stderr"
        },
        {
          "output_type": "stream",
          "text": [
            "['particle collision', 'Safety of high-energy particle collision experiments']\n",
            "['performance consideration', 'Consideration']\n",
            "['system optimization', 'Program optimization']\n",
            "['gpubased realtime', '']\n"
          ],
          "name": "stdout"
        },
        {
          "output_type": "stream",
          "text": [
            "WARNING:root:LoadFile._df_counts is hard coded to /usr/local/lib/python3.6/dist-packages/pke/models/df-semeval2010.tsv.gz\n"
          ],
          "name": "stderr"
        },
        {
          "output_type": "stream",
          "text": [
            "['direct method', 'Direct method (education)']\n",
            "['kernelbased performance', '']\n",
            "['kernelbased performance evaluation', '']\n",
            "['modern hardware', 'Computer hardware']\n",
            "['modern hardware accelerator', 'Hardware acceleration']\n"
          ],
          "name": "stdout"
        },
        {
          "output_type": "stream",
          "text": [
            "WARNING:root:LoadFile._df_counts is hard coded to /usr/local/lib/python3.6/dist-packages/pke/models/df-semeval2010.tsv.gz\n",
            "WARNING:root:LoadFile._df_counts is hard coded to /usr/local/lib/python3.6/dist-packages/pke/models/df-semeval2010.tsv.gz\n"
          ],
          "name": "stderr"
        },
        {
          "output_type": "stream",
          "text": [
            "['operational ocean model', 'Wind wave model']\n",
            "['ocean model framework', 'Earth System Modeling Framework']\n",
            "['model framework nemo', 'Tofaş']\n",
            "['routine porting', 'Porting']\n"
          ],
          "name": "stdout"
        },
        {
          "output_type": "stream",
          "text": [
            "WARNING:root:LoadFile._df_counts is hard coded to /usr/local/lib/python3.6/dist-packages/pke/models/df-semeval2010.tsv.gz\n"
          ],
          "name": "stderr"
        },
        {
          "output_type": "stream",
          "text": [
            "['production system', 'Production system']\n",
            "['hpc system', 'HPC']\n",
            "['hpc system perlmutter', 'National Energy Research Scientific Computing Center']\n"
          ],
          "name": "stdout"
        },
        {
          "output_type": "stream",
          "text": [
            "WARNING:root:LoadFile._df_counts is hard coded to /usr/local/lib/python3.6/dist-packages/pke/models/df-semeval2010.tsv.gz\n"
          ],
          "name": "stderr"
        },
        {
          "output_type": "stream",
          "text": [
            "['rapid intensification', 'Rapid intensification']\n",
            "['tropical storm', 'Tropical cyclone']\n",
            "['major hurricane', 'Saffir–Simpson scale']\n",
            "['rapid intensification period', 'Rapid intensification']\n"
          ],
          "name": "stdout"
        },
        {
          "output_type": "stream",
          "text": [
            "WARNING:root:LoadFile._df_counts is hard coded to /usr/local/lib/python3.6/dist-packages/pke/models/df-semeval2010.tsv.gz\n"
          ],
          "name": "stderr"
        },
        {
          "output_type": "stream",
          "text": [
            "['computational fluid', 'Computational fluid dynamics']\n",
            "['chemical source term', 'Chemical substance']\n",
            "['new technique', 'Technique']\n",
            "['overcoming bottleneck', 'Kevin Systrom']\n"
          ],
          "name": "stdout"
        },
        {
          "output_type": "stream",
          "text": [
            "WARNING:root:LoadFile._df_counts is hard coded to /usr/local/lib/python3.6/dist-packages/pke/models/df-semeval2010.tsv.gz\n"
          ],
          "name": "stderr"
        },
        {
          "output_type": "stream",
          "text": [
            "['lowresolution sensor', '']\n",
            "['previous method', 'Modular exponentiation']\n",
            "['matrix multiplication', 'Matrix multiplication']\n",
            "['real time', 'Real-time']\n"
          ],
          "name": "stdout"
        },
        {
          "output_type": "stream",
          "text": [
            "WARNING:root:LoadFile._df_counts is hard coded to /usr/local/lib/python3.6/dist-packages/pke/models/df-semeval2010.tsv.gz\n"
          ],
          "name": "stderr"
        },
        {
          "output_type": "stream",
          "text": [
            "['stencil operation', 'Shadow volume']\n",
            "['directive option', 'Directive (programming)']\n",
            "['hpc application', 'Supercomputer']\n",
            "['optimization challenge', 'List of optimization software']\n"
          ],
          "name": "stdout"
        },
        {
          "output_type": "stream",
          "text": [
            "WARNING:root:LoadFile._df_counts is hard coded to /usr/local/lib/python3.6/dist-packages/pke/models/df-semeval2010.tsv.gz\n"
          ],
          "name": "stderr"
        },
        {
          "output_type": "stream",
          "text": [
            "['mp method', 'MP']\n",
            "['particlebased simulation', '']\n"
          ],
          "name": "stdout"
        },
        {
          "output_type": "stream",
          "text": [
            "WARNING:root:LoadFile._df_counts is hard coded to /usr/local/lib/python3.6/dist-packages/pke/models/df-semeval2010.tsv.gz\n"
          ],
          "name": "stderr"
        },
        {
          "output_type": "stream",
          "text": [
            "['gpuaccelerated application', '']\n"
          ],
          "name": "stdout"
        },
        {
          "output_type": "stream",
          "text": [
            "WARNING:root:LoadFile._df_counts is hard coded to /usr/local/lib/python3.6/dist-packages/pke/models/df-semeval2010.tsv.gz\n"
          ],
          "name": "stderr"
        },
        {
          "output_type": "stream",
          "text": [
            "['object detection', 'Object detection']\n",
            "['streaming asynchronous highthroughput', '']\n",
            "['traditional computer vision', 'Computer vision']\n",
            "['artificial intelligence', 'Artificial intelligence']\n",
            "['artificial intelligence inference', 'List of programming languages for artificial intelligence']\n"
          ],
          "name": "stdout"
        },
        {
          "output_type": "stream",
          "text": [
            "WARNING:root:LoadFile._df_counts is hard coded to /usr/local/lib/python3.6/dist-packages/pke/models/df-semeval2010.tsv.gz\n"
          ],
          "name": "stderr"
        },
        {
          "output_type": "stream",
          "text": [
            "['scalable application', 'Scalable Network Application Package']\n",
            "['artificial intelligence', 'Artificial intelligence']\n",
            "['massive data', 'Utah Data Center']\n",
            "['massive data set', 'Big data']\n"
          ],
          "name": "stdout"
        },
        {
          "output_type": "stream",
          "text": [
            "WARNING:root:LoadFile._df_counts is hard coded to /usr/local/lib/python3.6/dist-packages/pke/models/df-semeval2010.tsv.gz\n"
          ],
          "name": "stderr"
        },
        {
          "output_type": "stream",
          "text": [
            "['task queue', 'Scheduling (computing)']\n",
            "['irregular algorithm', 'Automatic parallelization']\n",
            "['tasking starting', 'Task Manager (Windows)']\n",
            "['finegrained task', '']\n"
          ],
          "name": "stdout"
        },
        {
          "output_type": "stream",
          "text": [
            "WARNING:root:LoadFile._df_counts is hard coded to /usr/local/lib/python3.6/dist-packages/pke/models/df-semeval2010.tsv.gz\n"
          ],
          "name": "stderr"
        },
        {
          "output_type": "stream",
          "text": [
            "['finegrained task', '']\n",
            "['finegrained task parallelism', '']\n",
            "['task parallelism occurring', 'Task parallelism']\n",
            "['available tasking', 'Task Manager (Windows)']\n",
            "['available tasking approach', 'Task-based language learning']\n"
          ],
          "name": "stdout"
        },
        {
          "output_type": "stream",
          "text": [
            "WARNING:root:LoadFile._df_counts is hard coded to /usr/local/lib/python3.6/dist-packages/pke/models/df-semeval2010.tsv.gz\n"
          ],
          "name": "stderr"
        },
        {
          "output_type": "stream",
          "text": [
            "['gpu computational power', 'Graphics processing unit']\n",
            "['machinelearning algorithm', 'Embryo Ranking Intelligent Classification Algorithm']\n",
            "['machinelearning algorithm could', 'Yann LeCun']\n"
          ],
          "name": "stdout"
        },
        {
          "output_type": "stream",
          "text": [
            "WARNING:root:LoadFile._df_counts is hard coded to /usr/local/lib/python3.6/dist-packages/pke/models/df-semeval2010.tsv.gz\n"
          ],
          "name": "stderr"
        },
        {
          "output_type": "stream",
          "text": [
            "['reduced model', 'Model order reduction']\n",
            "['fluid turbulence', 'Turbulence']\n",
            "['strong coupling', 'Coupling constant']\n"
          ],
          "name": "stdout"
        },
        {
          "output_type": "stream",
          "text": [
            "WARNING:root:LoadFile._df_counts is hard coded to /usr/local/lib/python3.6/dist-packages/pke/models/df-semeval2010.tsv.gz\n"
          ],
          "name": "stderr"
        },
        {
          "output_type": "stream",
          "text": [
            "['realtime computing', 'Real-time computing']\n",
            "['heterogeneous job', 'Hyperimmunoglobulin E syndrome']\n",
            "['national energy research', 'National Renewable Energy Laboratory']\n",
            "['energy research scientific', 'National Energy Research Scientific Computing Center']\n",
            "['research scientific computing', 'Computational science']\n"
          ],
          "name": "stdout"
        },
        {
          "output_type": "stream",
          "text": [
            "WARNING:root:LoadFile._df_counts is hard coded to /usr/local/lib/python3.6/dist-packages/pke/models/df-semeval2010.tsv.gz\n"
          ],
          "name": "stderr"
        },
        {
          "output_type": "stream",
          "text": [
            "['data scientist', 'Data science']\n",
            "['ml modeling', 'Systems Modeling Language']\n",
            "['kubernetes platform', 'Kubernetes']\n"
          ],
          "name": "stdout"
        },
        {
          "output_type": "stream",
          "text": [
            "WARNING:root:LoadFile._df_counts is hard coded to /usr/local/lib/python3.6/dist-packages/pke/models/df-semeval2010.tsv.gz\n"
          ],
          "name": "stderr"
        },
        {
          "output_type": "stream",
          "text": [
            "['deep model', 'Deep learning']\n",
            "['deep model fusion', 'Tritium']\n",
            "['multimodality learning', 'Multimodal learning']\n",
            "['multimodality learning problem', 'Multimodal learning']\n"
          ],
          "name": "stdout"
        },
        {
          "output_type": "stream",
          "text": [
            "WARNING:root:LoadFile._df_counts is hard coded to /usr/local/lib/python3.6/dist-packages/pke/models/df-semeval2010.tsv.gz\n"
          ],
          "name": "stderr"
        },
        {
          "output_type": "stream",
          "text": [
            "['hpc cluster', 'Microsoft Cluster Server']\n",
            "['virtual machine', 'Virtual machine']\n",
            "['ai application', 'Applications of artificial intelligence']\n",
            "['root privilege', 'Superuser']\n",
            "['containerbased ai', '']\n",
            "['containerbased ai application', '']\n",
            "['ai application deployment', 'Applications of artificial intelligence']\n",
            "['application deployment platform', 'Platform as a service']\n",
            "['deployment platform wa', 'Qlik']\n"
          ],
          "name": "stdout"
        },
        {
          "output_type": "stream",
          "text": [
            "WARNING:root:LoadFile._df_counts is hard coded to /usr/local/lib/python3.6/dist-packages/pke/models/df-semeval2010.tsv.gz\n"
          ],
          "name": "stderr"
        },
        {
          "output_type": "stream",
          "text": [
            "['ctr online', 'CTR']\n",
            "['ctr model', 'Ruf CTR']\n",
            "['inference model', 'Statistical inference']\n",
            "['ctr clickthroughrate', '']\n",
            "['ctr clickthroughrate model', '']\n",
            "['important model', 'Model organism']\n",
            "['internet business', 'Dot-com bubble']\n",
            "['search recommendation', 'Recommender system']\n"
          ],
          "name": "stdout"
        },
        {
          "output_type": "stream",
          "text": [
            "WARNING:root:LoadFile._df_counts is hard coded to /usr/local/lib/python3.6/dist-packages/pke/models/df-semeval2010.tsv.gz\n"
          ],
          "name": "stderr"
        },
        {
          "output_type": "stream",
          "text": [
            "['edge device', 'Edge device']\n"
          ],
          "name": "stdout"
        },
        {
          "output_type": "stream",
          "text": [
            "WARNING:root:LoadFile._df_counts is hard coded to /usr/local/lib/python3.6/dist-packages/pke/models/df-semeval2010.tsv.gz\n"
          ],
          "name": "stderr"
        },
        {
          "output_type": "stream",
          "text": [
            "['azure stack', 'Jeffrey Snover']\n",
            "['machine learning', 'Machine learning']\n",
            "['data sovereignty', 'Data sovereignty']\n",
            "['data sovereignty requirement', 'Data localization']\n",
            "['sovereignty requirement microsoft', 'Data localization']\n"
          ],
          "name": "stdout"
        },
        {
          "output_type": "stream",
          "text": [
            "WARNING:root:LoadFile._df_counts is hard coded to /usr/local/lib/python3.6/dist-packages/pke/models/df-semeval2010.tsv.gz\n"
          ],
          "name": "stderr"
        },
        {
          "output_type": "stream",
          "text": [
            "['transformer layer', 'Transformer (machine learning model)']\n",
            "['transformer encoder', 'Transformer (machine learning model)']\n",
            "['key component', 'Key (engineering)']\n",
            "['key component show', 'Jingle Jangle: A Christmas Journey']\n"
          ],
          "name": "stdout"
        },
        {
          "output_type": "stream",
          "text": [
            "WARNING:root:LoadFile._df_counts is hard coded to /usr/local/lib/python3.6/dist-packages/pke/models/df-semeval2010.tsv.gz\n"
          ],
          "name": "stderr"
        },
        {
          "output_type": "stream",
          "text": [
            "['deep learning', 'Deep learning']\n",
            "['deep learning model', 'Deep learning']\n",
            "['compute resource', 'System resource']\n"
          ],
          "name": "stdout"
        },
        {
          "output_type": "stream",
          "text": [
            "WARNING:root:LoadFile._df_counts is hard coded to /usr/local/lib/python3.6/dist-packages/pke/models/df-semeval2010.tsv.gz\n"
          ],
          "name": "stderr"
        },
        {
          "output_type": "stream",
          "text": [
            "['nvidia gpus', 'List of Nvidia graphics processing units']\n",
            "['automl edge', 'Google Cloud Platform']\n",
            "['automl edge video', 'Google Cloud Platform']\n",
            "['google cloud', 'Google Cloud Platform']\n"
          ],
          "name": "stdout"
        },
        {
          "output_type": "stream",
          "text": [
            "WARNING:root:LoadFile._df_counts is hard coded to /usr/local/lib/python3.6/dist-packages/pke/models/df-semeval2010.tsv.gz\n"
          ],
          "name": "stderr"
        },
        {
          "output_type": "stream",
          "text": [
            "['deep learning', 'Deep learning']\n",
            "['gradient compression', 'Compression stockings']\n",
            "['conventional sparseencodingbased approach', '']\n"
          ],
          "name": "stdout"
        },
        {
          "output_type": "stream",
          "text": [
            "WARNING:root:LoadFile._df_counts is hard coded to /usr/local/lib/python3.6/dist-packages/pke/models/df-semeval2010.tsv.gz\n"
          ],
          "name": "stderr"
        },
        {
          "output_type": "stream",
          "text": [
            "['ml model', 'ML']\n",
            "['ml model training', 'ML.NET']\n",
            "['progressively learning', 'Learning']\n",
            "['different parameter', 'Parameter']\n",
            "['debug model', 'JTAG']\n"
          ],
          "name": "stdout"
        },
        {
          "output_type": "stream",
          "text": [
            "WARNING:root:LoadFile._df_counts is hard coded to /usr/local/lib/python3.6/dist-packages/pke/models/df-semeval2010.tsv.gz\n"
          ],
          "name": "stderr"
        },
        {
          "output_type": "stream",
          "text": [
            "['classifier performance', 'Statistical classification']\n",
            "['deep neural network', 'Deep learning']\n"
          ],
          "name": "stdout"
        },
        {
          "output_type": "stream",
          "text": [
            "WARNING:root:LoadFile._df_counts is hard coded to /usr/local/lib/python3.6/dist-packages/pke/models/df-semeval2010.tsv.gz\n"
          ],
          "name": "stderr"
        },
        {
          "output_type": "stream",
          "text": [
            "['timeseries data', 'Big data']\n",
            "['timeseries data ha', '1,1,1-Trichloroethane']\n",
            "['data ha also', 'A-ha']\n",
            "['long sequence', 'Exact sequence']\n"
          ],
          "name": "stdout"
        },
        {
          "output_type": "stream",
          "text": [
            "WARNING:root:LoadFile._df_counts is hard coded to /usr/local/lib/python3.6/dist-packages/pke/models/df-semeval2010.tsv.gz\n"
          ],
          "name": "stderr"
        },
        {
          "output_type": "stream",
          "text": [
            "['inference performance', 'Statistical inference']\n",
            "['quantization 8bit', 'Quantization (signal processing)']\n",
            "['quantization 8bit ha', 'Quantum entanglement']\n",
            "['computer visionrelated deeplearning', '']\n"
          ],
          "name": "stdout"
        },
        {
          "output_type": "stream",
          "text": [
            "WARNING:root:LoadFile._df_counts is hard coded to /usr/local/lib/python3.6/dist-packages/pke/models/df-semeval2010.tsv.gz\n"
          ],
          "name": "stderr"
        },
        {
          "output_type": "stream",
          "text": [
            "['neural network', 'Neural network']\n",
            "['pytorch framework', 'PyTorch']\n",
            "['complex neural network', 'Neural network']\n",
            "['neural network architecture', 'Neural network']\n"
          ],
          "name": "stdout"
        },
        {
          "output_type": "stream",
          "text": [
            "WARNING:root:LoadFile._df_counts is hard coded to /usr/local/lib/python3.6/dist-packages/pke/models/df-semeval2010.tsv.gz\n"
          ],
          "name": "stderr"
        },
        {
          "output_type": "stream",
          "text": [
            "['edge node', 'Edge computing']\n",
            "['thing iot', 'Internet of things']\n",
            "['compute resource', 'System resource']\n",
            "['compute resource acquisition', 'Resource management (computing)']\n"
          ],
          "name": "stdout"
        },
        {
          "output_type": "stream",
          "text": [
            "WARNING:root:LoadFile._df_counts is hard coded to /usr/local/lib/python3.6/dist-packages/pke/models/df-semeval2010.tsv.gz\n"
          ],
          "name": "stderr"
        },
        {
          "output_type": "stream",
          "text": [
            "['deep learning', 'Deep learning']\n",
            "['far ha', 'Ha-ha']\n",
            "['however noneuclidean', 'Non-Euclidean geometry']\n"
          ],
          "name": "stdout"
        },
        {
          "output_type": "stream",
          "text": [
            "WARNING:root:LoadFile._df_counts is hard coded to /usr/local/lib/python3.6/dist-packages/pke/models/df-semeval2010.tsv.gz\n"
          ],
          "name": "stderr"
        },
        {
          "output_type": "stream",
          "text": [
            "['space partitioning', 'Space partitioning']\n",
            "['approximate nearest neighborhood', 'Nearest neighbor search']\n",
            "['ann search algorithm', 'PageRank']\n"
          ],
          "name": "stdout"
        },
        {
          "output_type": "stream",
          "text": [
            "WARNING:root:LoadFile._df_counts is hard coded to /usr/local/lib/python3.6/dist-packages/pke/models/df-semeval2010.tsv.gz\n"
          ],
          "name": "stderr"
        },
        {
          "output_type": "stream",
          "text": [
            "['ai model', 'OpenAI']\n",
            "['iot edge', 'Internet of things']\n",
            "['video stream', 'Streaming media']\n"
          ],
          "name": "stdout"
        },
        {
          "output_type": "stream",
          "text": [
            "WARNING:root:LoadFile._df_counts is hard coded to /usr/local/lib/python3.6/dist-packages/pke/models/df-semeval2010.tsv.gz\n"
          ],
          "name": "stderr"
        },
        {
          "output_type": "stream",
          "text": [
            "['deep model', 'Deep learning']\n"
          ],
          "name": "stdout"
        },
        {
          "output_type": "stream",
          "text": [
            "WARNING:root:LoadFile._df_counts is hard coded to /usr/local/lib/python3.6/dist-packages/pke/models/df-semeval2010.tsv.gz\n"
          ],
          "name": "stderr"
        },
        {
          "output_type": "stream",
          "text": [
            "['visualization however', 'Visualization (graphics)']\n"
          ],
          "name": "stdout"
        },
        {
          "output_type": "stream",
          "text": [
            "WARNING:root:LoadFile._df_counts is hard coded to /usr/local/lib/python3.6/dist-packages/pke/models/df-semeval2010.tsv.gz\n"
          ],
          "name": "stderr"
        },
        {
          "output_type": "stream",
          "text": [
            "['missioncritical production', '']\n",
            "['missioncritical production ai', '']\n"
          ],
          "name": "stdout"
        },
        {
          "output_type": "stream",
          "text": [
            "WARNING:root:LoadFile._df_counts is hard coded to /usr/local/lib/python3.6/dist-packages/pke/models/df-semeval2010.tsv.gz\n"
          ],
          "name": "stderr"
        },
        {
          "output_type": "stream",
          "text": [
            "['nvidia gpus', 'List of Nvidia graphics processing units']\n"
          ],
          "name": "stdout"
        },
        {
          "output_type": "stream",
          "text": [
            "WARNING:root:LoadFile._df_counts is hard coded to /usr/local/lib/python3.6/dist-packages/pke/models/df-semeval2010.tsv.gz\n"
          ],
          "name": "stderr"
        },
        {
          "output_type": "stream",
          "text": [
            "['chemical process', 'Chemical process']\n",
            "['novel solution', 'The Final Solution (novel)']\n",
            "['chemistry module', 'CLaMS']\n",
            "['atmospheric model', 'Atmospheric model']\n"
          ],
          "name": "stdout"
        },
        {
          "output_type": "stream",
          "text": [
            "WARNING:root:LoadFile._df_counts is hard coded to /usr/local/lib/python3.6/dist-packages/pke/models/df-semeval2010.tsv.gz\n"
          ],
          "name": "stderr"
        },
        {
          "output_type": "stream",
          "text": [
            "['hyperparameter tuning', 'Hyperparameter optimization']\n",
            "['get optimal result', 'Pareto efficiency']\n",
            "['generally true', 'True Detective']\n"
          ],
          "name": "stdout"
        },
        {
          "output_type": "stream",
          "text": [
            "WARNING:root:LoadFile._df_counts is hard coded to /usr/local/lib/python3.6/dist-packages/pke/models/df-semeval2010.tsv.gz\n"
          ],
          "name": "stderr"
        },
        {
          "output_type": "stream",
          "text": [
            "['dl system', 'Youtube-dl']\n",
            "['unique highspeed inference', '']\n",
            "['automatically generate', 'Procedural generation']\n",
            "['misrecognition image', 'Mirror stage']\n"
          ],
          "name": "stdout"
        },
        {
          "output_type": "stream",
          "text": [
            "WARNING:root:LoadFile._df_counts is hard coded to /usr/local/lib/python3.6/dist-packages/pke/models/df-semeval2010.tsv.gz\n"
          ],
          "name": "stderr"
        },
        {
          "output_type": "stream",
          "text": [
            "['performance benefit', 'Benefit performance']\n",
            "['weather research', 'Meteorology']\n",
            "['forecasting wrf', 'Weather Research and Forecasting Model']\n",
            "['forecasting wrf model', 'Weather Research and Forecasting Model']\n",
            "['opensource mesoscale', '']\n"
          ],
          "name": "stdout"
        },
        {
          "output_type": "stream",
          "text": [
            "WARNING:root:LoadFile._df_counts is hard coded to /usr/local/lib/python3.6/dist-packages/pke/models/df-semeval2010.tsv.gz\n"
          ],
          "name": "stderr"
        },
        {
          "output_type": "stream",
          "text": [
            "['scientific visualization', 'Scientific visualization']\n",
            "['historically scientific visualization', 'Data visualization']\n",
            "['scientific visualization ha', 'Aphantasia']\n"
          ],
          "name": "stdout"
        },
        {
          "output_type": "stream",
          "text": [
            "WARNING:root:LoadFile._df_counts is hard coded to /usr/local/lib/python3.6/dist-packages/pke/models/df-semeval2010.tsv.gz\n"
          ],
          "name": "stderr"
        },
        {
          "output_type": "stream",
          "text": [
            "['introduce vividqs software', '']\n",
            "['vividqs software pipeline', '']\n"
          ],
          "name": "stdout"
        },
        {
          "output_type": "stream",
          "text": [
            "WARNING:root:LoadFile._df_counts is hard coded to /usr/local/lib/python3.6/dist-packages/pke/models/df-semeval2010.tsv.gz\n"
          ],
          "name": "stderr"
        },
        {
          "output_type": "stream",
          "text": [
            "['leastsignificantdigit radix', '']\n",
            "['leastsignificantdigit radix sort', '']\n",
            "['memory operation', 'Direct memory access']\n",
            "['memory operation per', 'Memory operations per second']\n",
            "['operation per partition', 'Partition of a set']\n"
          ],
          "name": "stdout"
        },
        {
          "output_type": "stream",
          "text": [
            "WARNING:root:LoadFile._df_counts is hard coded to /usr/local/lib/python3.6/dist-packages/pke/models/df-semeval2010.tsv.gz\n"
          ],
          "name": "stderr"
        },
        {
          "output_type": "stream",
          "text": [
            "['gpuaccelerated hardware', '']\n",
            "['gpuaccelerated hardware aiaas', '']\n",
            "['hardware aiaas aiasaservice', '']\n",
            "['aiaas aiasaservice deployment', '']\n",
            "['powerful new way', 'Oz the Great and Powerful']\n",
            "['ai infrastructure', 'Artificial intelligence']\n"
          ],
          "name": "stdout"
        },
        {
          "output_type": "stream",
          "text": [
            "WARNING:root:LoadFile._df_counts is hard coded to /usr/local/lib/python3.6/dist-packages/pke/models/df-semeval2010.tsv.gz\n"
          ],
          "name": "stderr"
        },
        {
          "output_type": "stream",
          "text": [
            "['august 2019', '2019']\n"
          ],
          "name": "stdout"
        },
        {
          "output_type": "stream",
          "text": [
            "WARNING:root:LoadFile._df_counts is hard coded to /usr/local/lib/python3.6/dist-packages/pke/models/df-semeval2010.tsv.gz\n"
          ],
          "name": "stderr"
        },
        {
          "output_type": "stream",
          "text": [
            "['sharing gpu resource', 'Cloud gaming']\n",
            "['better utilize', 'Simultaneous multithreading']\n",
            "['gain flexibility', 'Flexible electronics']\n"
          ],
          "name": "stdout"
        },
        {
          "output_type": "stream",
          "text": [
            "WARNING:root:LoadFile._df_counts is hard coded to /usr/local/lib/python3.6/dist-packages/pke/models/df-semeval2010.tsv.gz\n"
          ],
          "name": "stderr"
        },
        {
          "output_type": "stream",
          "text": [
            "['recurrent neural network', 'Recurrent neural network']\n",
            "['subframework level', 'Qualifications framework']\n",
            "['distinct method one', 'Scientific method']\n"
          ],
          "name": "stdout"
        },
        {
          "output_type": "stream",
          "text": [
            "WARNING:root:LoadFile._df_counts is hard coded to /usr/local/lib/python3.6/dist-packages/pke/models/df-semeval2010.tsv.gz\n"
          ],
          "name": "stderr"
        },
        {
          "output_type": "stream",
          "text": [
            "['user question', 'Stack Exchange']\n",
            "['business value', 'Business value']\n",
            "['automating questionanswering', '']\n",
            "['training loop', 'Mach Loop']\n"
          ],
          "name": "stdout"
        },
        {
          "output_type": "stream",
          "text": [
            "WARNING:root:LoadFile._df_counts is hard coded to /usr/local/lib/python3.6/dist-packages/pke/models/df-semeval2010.tsv.gz\n"
          ],
          "name": "stderr"
        },
        {
          "output_type": "stream",
          "text": [
            "['natural language', 'Natural language']\n",
            "['session huggingface', 'List of datasets for machine-learning research']\n",
            "['session huggingface showcase', '']\n",
            "['natural language understanding', 'Natural-language understanding']\n",
            "['language understanding pipeline', 'Natural language processing']\n"
          ],
          "name": "stdout"
        },
        {
          "output_type": "stream",
          "text": [
            "WARNING:root:LoadFile._df_counts is hard coded to /usr/local/lib/python3.6/dist-packages/pke/models/df-semeval2010.tsv.gz\n"
          ],
          "name": "stderr"
        },
        {
          "output_type": "stream",
          "text": [
            "['immersive extended reality', 'Extended reality']\n",
            "['extended reality xr', 'Extended reality']\n"
          ],
          "name": "stdout"
        },
        {
          "output_type": "stream",
          "text": [
            "WARNING:root:LoadFile._df_counts is hard coded to /usr/local/lib/python3.6/dist-packages/pke/models/df-semeval2010.tsv.gz\n"
          ],
          "name": "stderr"
        },
        {
          "output_type": "stream",
          "text": [
            "['framework within rapidscudf', '']\n",
            "['enables compiling', 'Compiler']\n",
            "['enables compiling python', 'Python (programming language)']\n",
            "['python userdefined function', '']\n"
          ],
          "name": "stdout"
        },
        {
          "output_type": "stream",
          "text": [
            "WARNING:root:LoadFile._df_counts is hard coded to /usr/local/lib/python3.6/dist-packages/pke/models/df-semeval2010.tsv.gz\n"
          ],
          "name": "stderr"
        },
        {
          "output_type": "stream",
          "text": [
            "['introduce cupy describing', '']\n"
          ],
          "name": "stdout"
        },
        {
          "output_type": "stream",
          "text": [
            "WARNING:root:LoadFile._df_counts is hard coded to /usr/local/lib/python3.6/dist-packages/pke/models/df-semeval2010.tsv.gz\n"
          ],
          "name": "stderr"
        },
        {
          "output_type": "stream",
          "text": [
            "['distributed training', 'Distributed Training Operations Center']\n",
            "['scale distributed training', 'Apache SINGA']\n",
            "['tensorflow pytorch', 'TensorFlow']\n"
          ],
          "name": "stdout"
        },
        {
          "output_type": "stream",
          "text": [
            "WARNING:root:LoadFile._df_counts is hard coded to /usr/local/lib/python3.6/dist-packages/pke/models/df-semeval2010.tsv.gz\n"
          ],
          "name": "stderr"
        },
        {
          "output_type": "stream",
          "text": [
            "['document understanding', 'Document']\n",
            "['financial service', 'Financial services']\n",
            "['financial service consumer', 'Financial Services Authority']\n",
            "['small business', 'Small business']\n",
            "['small business owner', 'Small business']\n"
          ],
          "name": "stdout"
        },
        {
          "output_type": "stream",
          "text": [
            "WARNING:root:LoadFile._df_counts is hard coded to /usr/local/lib/python3.6/dist-packages/pke/models/df-semeval2010.tsv.gz\n"
          ],
          "name": "stderr"
        },
        {
          "output_type": "stream",
          "text": [
            "['action recognition', 'Activity recognition']\n",
            "['human instancelevel', '']\n",
            "['human instancelevel video', '']\n",
            "['instancelevel video action', '']\n",
            "['video action recognition', 'Puzzle video game']\n",
            "['edge computing', 'Edge computing']\n",
            "['edge computing hardware', 'Edge computing']\n"
          ],
          "name": "stdout"
        },
        {
          "output_type": "stream",
          "text": [
            "WARNING:root:LoadFile._df_counts is hard coded to /usr/local/lib/python3.6/dist-packages/pke/models/df-semeval2010.tsv.gz\n"
          ],
          "name": "stderr"
        },
        {
          "output_type": "stream",
          "text": [
            "['modular extensible endtoend', '']\n",
            "['neural automatic speech', 'Speech recognition']\n"
          ],
          "name": "stdout"
        },
        {
          "output_type": "stream",
          "text": [
            "WARNING:root:LoadFile._df_counts is hard coded to /usr/local/lib/python3.6/dist-packages/pke/models/df-semeval2010.tsv.gz\n"
          ],
          "name": "stderr"
        },
        {
          "output_type": "stream",
          "text": [
            "['mgcg solver', '']\n",
            "['high performance', 'Supercomputer']\n",
            "['intergpu communication', '']\n",
            "['conjugate gradient', 'Conjugate gradient method']\n"
          ],
          "name": "stdout"
        },
        {
          "output_type": "stream",
          "text": [
            "WARNING:root:LoadFile._df_counts is hard coded to /usr/local/lib/python3.6/dist-packages/pke/models/df-semeval2010.tsv.gz\n"
          ],
          "name": "stderr"
        },
        {
          "output_type": "stream",
          "text": [
            "['gpubased discrete element', '']\n",
            "['discrete element method', 'Discrete element method']\n",
            "['element method solver', 'Finite element method']\n",
            "['realworld particle', 'List of DC Multiverse worlds']\n",
            "['cpubased computational', '']\n"
          ],
          "name": "stdout"
        },
        {
          "output_type": "stream",
          "text": [
            "WARNING:root:LoadFile._df_counts is hard coded to /usr/local/lib/python3.6/dist-packages/pke/models/df-semeval2010.tsv.gz\n"
          ],
          "name": "stderr"
        },
        {
          "output_type": "stream",
          "text": [
            "['spark ada', 'SPARK (programming language)']\n",
            "['spark ada programming', 'SPARK (programming language)']\n"
          ],
          "name": "stdout"
        },
        {
          "output_type": "stream",
          "text": [
            "WARNING:root:LoadFile._df_counts is hard coded to /usr/local/lib/python3.6/dist-packages/pke/models/df-semeval2010.tsv.gz\n"
          ],
          "name": "stderr"
        },
        {
          "output_type": "stream",
          "text": [
            "['optimized singlegpu join', '']\n"
          ],
          "name": "stdout"
        },
        {
          "output_type": "stream",
          "text": [
            "WARNING:root:LoadFile._df_counts is hard coded to /usr/local/lib/python3.6/dist-packages/pke/models/df-semeval2010.tsv.gz\n",
            "WARNING:root:LoadFile._df_counts is hard coded to /usr/local/lib/python3.6/dist-packages/pke/models/df-semeval2010.tsv.gz\n"
          ],
          "name": "stderr"
        },
        {
          "output_type": "stream",
          "text": [
            "['deep neural network', 'Deep learning']\n",
            "['neural network capacity', 'Convolutional neural network']\n",
            "['improve model quality', 'Software quality']\n"
          ],
          "name": "stdout"
        },
        {
          "output_type": "stream",
          "text": [
            "WARNING:root:LoadFile._df_counts is hard coded to /usr/local/lib/python3.6/dist-packages/pke/models/df-semeval2010.tsv.gz\n"
          ],
          "name": "stderr"
        },
        {
          "output_type": "stream",
          "text": [
            "['ai processing', 'AI accelerator']\n"
          ],
          "name": "stdout"
        },
        {
          "output_type": "stream",
          "text": [
            "WARNING:root:LoadFile._df_counts is hard coded to /usr/local/lib/python3.6/dist-packages/pke/models/df-semeval2010.tsv.gz\n"
          ],
          "name": "stderr"
        },
        {
          "output_type": "stream",
          "text": [
            "['graph structure', 'Graph (abstract data type)']\n",
            "['deep collaborative learning', 'Deep learning']\n"
          ],
          "name": "stdout"
        },
        {
          "output_type": "stream",
          "text": [
            "WARNING:root:LoadFile._df_counts is hard coded to /usr/local/lib/python3.6/dist-packages/pke/models/df-semeval2010.tsv.gz\n"
          ],
          "name": "stderr"
        },
        {
          "output_type": "stream",
          "text": [
            "['training reinforcement', 'Reinforcement']\n",
            "['training reinforcement learning', 'Deep reinforcement learning']\n",
            "['unknown unsafe state', 'Unsafe at Any Speed']\n"
          ],
          "name": "stdout"
        },
        {
          "output_type": "stream",
          "text": [
            "WARNING:root:LoadFile._df_counts is hard coded to /usr/local/lib/python3.6/dist-packages/pke/models/df-semeval2010.tsv.gz\n"
          ],
          "name": "stderr"
        },
        {
          "output_type": "stream",
          "text": [
            "['natural language', 'Natural language']\n",
            "['natural language processing', 'Natural language processing']\n",
            "['artificial intelligence', 'Artificial intelligence']\n",
            "['new application technique', 'Pomodoro Technique']\n",
            "['application technique model', 'Conceptual model']\n"
          ],
          "name": "stdout"
        },
        {
          "output_type": "stream",
          "text": [
            "WARNING:root:LoadFile._df_counts is hard coded to /usr/local/lib/python3.6/dist-packages/pke/models/df-semeval2010.tsv.gz\n"
          ],
          "name": "stderr"
        },
        {
          "output_type": "stream",
          "text": [
            "['video demonstration', 'Demonstration (political)']\n",
            "['address goalbased imitation', '']\n",
            "['goalbased imitation learning', '']\n",
            "['symbolic goal', 'Symbolic interactionism']\n",
            "['thirdperson video', 'Daymare: 1998']\n",
            "['thirdperson video demonstration', '']\n"
          ],
          "name": "stdout"
        },
        {
          "output_type": "stream",
          "text": [
            "WARNING:root:LoadFile._df_counts is hard coded to /usr/local/lib/python3.6/dist-packages/pke/models/df-semeval2010.tsv.gz\n"
          ],
          "name": "stderr"
        },
        {
          "output_type": "stream",
          "text": [
            "['popular opensource', 'Integrated development environment']\n",
            "['popular opensource ml', 'Python (programming language)']\n",
            "['ml framework ha', 'Standard ML']\n",
            "['pytorch 10', 'PyTorch']\n",
            "['accelerated workflow', 'List of Red Digital Cinema cameras']\n"
          ],
          "name": "stdout"
        },
        {
          "output_type": "stream",
          "text": [
            "WARNING:root:LoadFile._df_counts is hard coded to /usr/local/lib/python3.6/dist-packages/pke/models/df-semeval2010.tsv.gz\n"
          ],
          "name": "stderr"
        },
        {
          "output_type": "stream",
          "text": [
            "['popular opensource', 'Integrated development environment']\n",
            "['popular opensource ml', 'Python (programming language)']\n",
            "['ml framework ha', 'Standard ML']\n",
            "['pytorch 10', 'PyTorch']\n",
            "['accelerated workflow', 'List of Red Digital Cinema cameras']\n"
          ],
          "name": "stdout"
        },
        {
          "output_type": "stream",
          "text": [
            "WARNING:root:LoadFile._df_counts is hard coded to /usr/local/lib/python3.6/dist-packages/pke/models/df-semeval2010.tsv.gz\n"
          ],
          "name": "stderr"
        },
        {
          "output_type": "stream",
          "text": [
            "['image classifier', 'Computer vision']\n",
            "['stanford car', 'Stanford University']\n",
            "['transfer learning', 'Transfer learning']\n",
            "['fine tuning', 'Fine-tuning']\n"
          ],
          "name": "stdout"
        },
        {
          "output_type": "stream",
          "text": [
            "WARNING:root:LoadFile._df_counts is hard coded to /usr/local/lib/python3.6/dist-packages/pke/models/df-semeval2010.tsv.gz\n"
          ],
          "name": "stderr"
        },
        {
          "output_type": "stream",
          "text": [
            "['analytical query', 'Query language']\n",
            "['cuda graph', 'CUDA']\n",
            "['complex query', 'Query optimization']\n",
            "['online analytical processing', 'Online analytical processing']\n",
            "['analytical processing system', 'Online analytical processing']\n",
            "['processing system ha', 'Computer cluster']\n"
          ],
          "name": "stdout"
        },
        {
          "output_type": "stream",
          "text": [
            "WARNING:root:LoadFile._df_counts is hard coded to /usr/local/lib/python3.6/dist-packages/pke/models/df-semeval2010.tsv.gz\n"
          ],
          "name": "stderr"
        },
        {
          "output_type": "stream",
          "text": [
            "['opensource nextgeneration', '']\n",
            "['opensource nextgeneration hyperparameter', '']\n",
            "['nextgeneration hyperparameter optimization', '']\n",
            "['hyperparameter optimization framework', 'Hyperparameter optimization']\n",
            "['eager api', 'TensorFlow']\n"
          ],
          "name": "stdout"
        },
        {
          "output_type": "stream",
          "text": [
            "WARNING:root:LoadFile._df_counts is hard coded to /usr/local/lib/python3.6/dist-packages/pke/models/df-semeval2010.tsv.gz\n"
          ],
          "name": "stderr"
        },
        {
          "output_type": "stream",
          "text": [
            "['distributed training', 'Distributed Training Operations Center']\n",
            "['scaling automatic speech', 'Speech recognition']\n",
            "['automatic speech recognition', 'Speech recognition']\n",
            "['speech recognition asr', 'Speech recognition']\n",
            "['recognition asr workload', 'Speech recognition']\n"
          ],
          "name": "stdout"
        },
        {
          "output_type": "stream",
          "text": [
            "WARNING:root:LoadFile._df_counts is hard coded to /usr/local/lib/python3.6/dist-packages/pke/models/df-semeval2010.tsv.gz\n"
          ],
          "name": "stderr"
        },
        {
          "output_type": "stream",
          "text": [
            "['realworld analytical pipeline', '']\n"
          ],
          "name": "stdout"
        },
        {
          "output_type": "stream",
          "text": [
            "WARNING:root:LoadFile._df_counts is hard coded to /usr/local/lib/python3.6/dist-packages/pke/models/df-semeval2010.tsv.gz\n"
          ],
          "name": "stderr"
        },
        {
          "output_type": "stream",
          "text": [
            "['gpu rendering', 'Graphics processing unit']\n",
            "['impact gaming', 'Impact (gamer)']\n",
            "['gaming vfx medium', 'Game of Thrones']\n",
            "['medium lie', 'Medium (TV series)']\n",
            "['holographics light', 'Holography']\n"
          ],
          "name": "stdout"
        },
        {
          "output_type": "stream",
          "text": [
            "WARNING:root:LoadFile._df_counts is hard coded to /usr/local/lib/python3.6/dist-packages/pke/models/df-semeval2010.tsv.gz\n"
          ],
          "name": "stderr"
        },
        {
          "output_type": "stream",
          "text": [
            "['speech technology', 'Speech technology']\n",
            "['speech technology speechbrain', '']\n",
            "['allinone speech toolkit', '']\n"
          ],
          "name": "stdout"
        },
        {
          "output_type": "stream",
          "text": [
            "WARNING:root:LoadFile._df_counts is hard coded to /usr/local/lib/python3.6/dist-packages/pke/models/df-semeval2010.tsv.gz\n"
          ],
          "name": "stderr"
        },
        {
          "output_type": "stream",
          "text": [
            "['developed int', 'Developing country']\n",
            "['library goal', 'Library']\n",
            "['flexible data structure', 'Array data structure']\n",
            "['high performance', 'Supercomputer']\n",
            "['high performance computing', 'Supercomputer']\n",
            "['design benefit', 'Employee benefits']\n"
          ],
          "name": "stdout"
        },
        {
          "output_type": "stream",
          "text": [
            "WARNING:root:LoadFile._df_counts is hard coded to /usr/local/lib/python3.6/dist-packages/pke/models/df-semeval2010.tsv.gz\n"
          ],
          "name": "stderr"
        },
        {
          "output_type": "stream",
          "text": [
            "['industrial lesdns', '']\n",
            "['heterogeneous cpugpu', '']\n",
            "['lesdns computational fluid', '']\n"
          ],
          "name": "stdout"
        },
        {
          "output_type": "stream",
          "text": [
            "WARNING:root:LoadFile._df_counts is hard coded to /usr/local/lib/python3.6/dist-packages/pke/models/df-semeval2010.tsv.gz\n"
          ],
          "name": "stderr"
        },
        {
          "output_type": "stream",
          "text": [
            "['posttraining quantization', '']\n",
            "['int8 precision', 'Evaluation measures (information retrieval)']\n"
          ],
          "name": "stdout"
        },
        {
          "output_type": "stream",
          "text": [
            "WARNING:root:LoadFile._df_counts is hard coded to /usr/local/lib/python3.6/dist-packages/pke/models/df-semeval2010.tsv.gz\n"
          ],
          "name": "stderr"
        },
        {
          "output_type": "stream",
          "text": [
            "['conversational ai', 'Chatbot']\n",
            "['build speech', \"You didn't build that\"]\n",
            "['build speech recognition', 'Speech recognition']\n",
            "['recognition natural language', 'Natural language processing']\n",
            "['natural language processing', 'Natural language processing']\n",
            "['speech synthesis', 'Speech synthesis']\n",
            "['speech synthesis service', 'Speech synthesis']\n",
            "['neural module', 'Neural network']\n"
          ],
          "name": "stdout"
        },
        {
          "output_type": "stream",
          "text": [
            "WARNING:root:LoadFile._df_counts is hard coded to /usr/local/lib/python3.6/dist-packages/pke/models/df-semeval2010.tsv.gz\n"
          ],
          "name": "stderr"
        },
        {
          "output_type": "stream",
          "text": [
            "['generalized autoregressive pretraining', 'Transformer (machine learning model)']\n",
            "['autoregressive pretraining method', 'Transformer (machine learning model)']\n"
          ],
          "name": "stdout"
        },
        {
          "output_type": "stream",
          "text": [
            "WARNING:root:LoadFile._df_counts is hard coded to /usr/local/lib/python3.6/dist-packages/pke/models/df-semeval2010.tsv.gz\n"
          ],
          "name": "stderr"
        },
        {
          "output_type": "stream",
          "text": [
            "['regenerative medicine', 'Regenerative medicine']\n",
            "['laboratory dealing', 'Laboratory information management system']\n"
          ],
          "name": "stdout"
        },
        {
          "output_type": "stream",
          "text": [
            "WARNING:root:LoadFile._df_counts is hard coded to /usr/local/lib/python3.6/dist-packages/pke/models/df-semeval2010.tsv.gz\n"
          ],
          "name": "stderr"
        },
        {
          "output_type": "stream",
          "text": [
            "['quantitative neuroimaging', 'Neuroimaging']\n",
            "['quantitative neuroimaging analysis', 'List of psychological research methods']\n",
            "['diagnostic imaging', 'Medical imaging']\n",
            "['instance brainvolume change', '']\n",
            "['brainvolume change ha', '']\n"
          ],
          "name": "stdout"
        },
        {
          "output_type": "stream",
          "text": [
            "WARNING:root:LoadFile._df_counts is hard coded to /usr/local/lib/python3.6/dist-packages/pke/models/df-semeval2010.tsv.gz\n"
          ],
          "name": "stderr"
        },
        {
          "output_type": "stream",
          "text": [
            "['antoni van', 'Antonie van Leeuwenhoek']\n",
            "['antoni van leeuwenhoek', 'Antonie van Leeuwenhoek']\n",
            "['leeuwenhoek hospital nkiavl', '']\n",
            "['top 10 comprehensive', 'ZZ Top discography']\n"
          ],
          "name": "stdout"
        },
        {
          "output_type": "stream",
          "text": [
            "WARNING:root:LoadFile._df_counts is hard coded to /usr/local/lib/python3.6/dist-packages/pke/models/df-semeval2010.tsv.gz\n"
          ],
          "name": "stderr"
        },
        {
          "output_type": "stream",
          "text": [
            "['computational chemistry application', 'Computational chemistry']\n",
            "['machine learning', 'Machine learning']\n"
          ],
          "name": "stdout"
        },
        {
          "output_type": "stream",
          "text": [
            "WARNING:root:LoadFile._df_counts is hard coded to /usr/local/lib/python3.6/dist-packages/pke/models/df-semeval2010.tsv.gz\n"
          ],
          "name": "stderr"
        },
        {
          "output_type": "stream",
          "text": [
            "['zernike polynomial fitting', 'Zernike polynomials']\n",
            "['tomogram reconstruction', 'Tomography']\n",
            "['wavefront analysis', 'LASIK']\n",
            "['gpu card', 'Graphics processing unit']\n",
            "['wavefront map', 'Wavefront .obj file']\n"
          ],
          "name": "stdout"
        },
        {
          "output_type": "stream",
          "text": [
            "WARNING:root:LoadFile._df_counts is hard coded to /usr/local/lib/python3.6/dist-packages/pke/models/df-semeval2010.tsv.gz\n"
          ],
          "name": "stderr"
        },
        {
          "output_type": "stream",
          "text": [
            "['brain lesion', 'Brain damage']\n",
            "['image segmentation', 'Image segmentation']\n",
            "['different dnn', 'DNN']\n",
            "['different dnn architecture', 'SqueezeNet']\n",
            "['neural network', 'Neural network']\n"
          ],
          "name": "stdout"
        },
        {
          "output_type": "stream",
          "text": [
            "WARNING:root:LoadFile._df_counts is hard coded to /usr/local/lib/python3.6/dist-packages/pke/models/df-semeval2010.tsv.gz\n"
          ],
          "name": "stderr"
        },
        {
          "output_type": "stream",
          "text": [
            "['public health', 'Public health']\n",
            "['aidriven natural language', '']\n",
            "['natural language processing', 'Natural language processing']\n",
            "['language processing nlp', 'Natural language processing']\n"
          ],
          "name": "stdout"
        },
        {
          "output_type": "stream",
          "text": [
            "WARNING:root:LoadFile._df_counts is hard coded to /usr/local/lib/python3.6/dist-packages/pke/models/df-semeval2010.tsv.gz\n"
          ],
          "name": "stderr"
        },
        {
          "output_type": "stream",
          "text": [
            "['deep learning', 'Deep learning']\n",
            "['imaging pipeline', 'Color image pipeline']\n",
            "['revolutionized medical imaging', 'Digital image processing']\n",
            "['medical imaging research', 'Medical imaging']\n",
            "['ha become', 'A-ha']\n"
          ],
          "name": "stdout"
        },
        {
          "output_type": "stream",
          "text": [
            "WARNING:root:LoadFile._df_counts is hard coded to /usr/local/lib/python3.6/dist-packages/pke/models/df-semeval2010.tsv.gz\n"
          ],
          "name": "stderr"
        },
        {
          "output_type": "stream",
          "text": [
            "['cell science', 'Cell biology']\n",
            "['multiscale visual model', 'Scientific modelling']\n"
          ],
          "name": "stdout"
        },
        {
          "output_type": "stream",
          "text": [
            "WARNING:root:LoadFile._df_counts is hard coded to /usr/local/lib/python3.6/dist-packages/pke/models/df-semeval2010.tsv.gz\n"
          ],
          "name": "stderr"
        },
        {
          "output_type": "stream",
          "text": [
            "['imaging application framework', 'Comparison of web frameworks']\n"
          ],
          "name": "stdout"
        },
        {
          "output_type": "stream",
          "text": [
            "WARNING:root:LoadFile._df_counts is hard coded to /usr/local/lib/python3.6/dist-packages/pke/models/df-semeval2010.tsv.gz\n"
          ],
          "name": "stderr"
        },
        {
          "output_type": "stream",
          "text": [
            "['clinical workflow', 'Workflow']\n",
            "['building block', 'Building block']\n",
            "['machine learning', 'Machine learning']\n",
            "['radiology image', 'Radiology']\n",
            "['radiology image analysis', 'Radiology']\n"
          ],
          "name": "stdout"
        },
        {
          "output_type": "stream",
          "text": [
            "WARNING:root:LoadFile._df_counts is hard coded to /usr/local/lib/python3.6/dist-packages/pke/models/df-semeval2010.tsv.gz\n"
          ],
          "name": "stderr"
        },
        {
          "output_type": "stream",
          "text": [
            "['nvidia tensorrt inference', '']\n",
            "['tensorrt inference server', '']\n"
          ],
          "name": "stdout"
        },
        {
          "output_type": "stream",
          "text": [
            "WARNING:root:LoadFile._df_counts is hard coded to /usr/local/lib/python3.6/dist-packages/pke/models/df-semeval2010.tsv.gz\n"
          ],
          "name": "stderr"
        },
        {
          "output_type": "stream",
          "text": [
            "['data scientist', 'Data science']\n",
            "['deep dive session', 'Underwater diving']\n",
            "['enable different feature', 'Feature toggle']\n"
          ],
          "name": "stdout"
        },
        {
          "output_type": "stream",
          "text": [
            "WARNING:root:LoadFile._df_counts is hard coded to /usr/local/lib/python3.6/dist-packages/pke/models/df-semeval2010.tsv.gz\n"
          ],
          "name": "stderr"
        },
        {
          "output_type": "stream",
          "text": [
            "['federated learning', 'Federated learning']\n",
            "['learning technique', 'Rote learning']\n",
            "['federated learning technique', 'Federated learning']\n",
            "['technique enable training', 'Endurance training']\n",
            "['training robust ai', 'Pushmeet Kohli']\n",
            "['robust ai model', 'Pushmeet Kohli']\n"
          ],
          "name": "stdout"
        },
        {
          "output_type": "stream",
          "text": [
            "WARNING:root:LoadFile._df_counts is hard coded to /usr/local/lib/python3.6/dist-packages/pke/models/df-semeval2010.tsv.gz\n"
          ],
          "name": "stderr"
        },
        {
          "output_type": "stream",
          "text": [
            "['data scientist', 'Data science']\n",
            "['medical imaging', 'Medical imaging']\n",
            "['sdks core', 'IOS SDK']\n",
            "['sdks core concept', 'Graphics Core Next']\n"
          ],
          "name": "stdout"
        },
        {
          "output_type": "stream",
          "text": [
            "WARNING:root:LoadFile._df_counts is hard coded to /usr/local/lib/python3.6/dist-packages/pke/models/df-semeval2010.tsv.gz\n"
          ],
          "name": "stderr"
        },
        {
          "output_type": "stream",
          "text": [
            "['ai model', 'OpenAI']\n",
            "['medical imaging', 'Medical imaging']\n",
            "['developer data', 'Oracle SQL Developer']\n"
          ],
          "name": "stdout"
        },
        {
          "output_type": "stream",
          "text": [
            "WARNING:root:LoadFile._df_counts is hard coded to /usr/local/lib/python3.6/dist-packages/pke/models/df-semeval2010.tsv.gz\n"
          ],
          "name": "stderr"
        },
        {
          "output_type": "stream",
          "text": [
            "['modern technology', 'Technology']\n",
            "['gpu computing', 'General-purpose computing on graphics processing units']\n",
            "['machine learning', 'Machine learning']\n",
            "['autonomous system', 'Autonomous system (Internet)']\n"
          ],
          "name": "stdout"
        },
        {
          "output_type": "stream",
          "text": [
            "WARNING:root:LoadFile._df_counts is hard coded to /usr/local/lib/python3.6/dist-packages/pke/models/df-semeval2010.tsv.gz\n"
          ],
          "name": "stderr"
        },
        {
          "output_type": "stream",
          "text": [
            "['angiography image', 'Angiography']\n",
            "['coronary artery', 'Coronary arteries']\n",
            "['coronary artery disease', 'Coronary artery disease']\n"
          ],
          "name": "stdout"
        },
        {
          "output_type": "stream",
          "text": [
            "WARNING:root:LoadFile._df_counts is hard coded to /usr/local/lib/python3.6/dist-packages/pke/models/df-semeval2010.tsv.gz\n"
          ],
          "name": "stderr"
        },
        {
          "output_type": "stream",
          "text": [
            "['neural network classification', 'Neural network']\n",
            "['annotated medical imaging', 'Annotation']\n"
          ],
          "name": "stdout"
        },
        {
          "output_type": "stream",
          "text": [
            "WARNING:root:LoadFile._df_counts is hard coded to /usr/local/lib/python3.6/dist-packages/pke/models/df-semeval2010.tsv.gz\n"
          ],
          "name": "stderr"
        },
        {
          "output_type": "stream",
          "text": [
            "['cell image', 'Live cell imaging']\n",
            "['cell property', 'Stem cell']\n",
            "['drug discovery', 'Drug discovery']\n",
            "['cell visualization', 'Data visualization']\n",
            "['new technology', 'Technology']\n",
            "['predict cell', 'T cell']\n"
          ],
          "name": "stdout"
        },
        {
          "output_type": "stream",
          "text": [
            "WARNING:root:LoadFile._df_counts is hard coded to /usr/local/lib/python3.6/dist-packages/pke/models/df-semeval2010.tsv.gz\n"
          ],
          "name": "stderr"
        },
        {
          "output_type": "stream",
          "text": [
            "['deep learning', 'Deep learning']\n",
            "['nextbest action', '']\n",
            "['incoming call', 'Caller ID']\n",
            "['nvidia gpus', 'List of Nvidia graphics processing units']\n"
          ],
          "name": "stdout"
        },
        {
          "output_type": "stream",
          "text": [
            "WARNING:root:LoadFile._df_counts is hard coded to /usr/local/lib/python3.6/dist-packages/pke/models/df-semeval2010.tsv.gz\n"
          ],
          "name": "stderr"
        },
        {
          "output_type": "stream",
          "text": [
            "['dynamic thresholding', 'Dynamic range compression']\n",
            "['anomaly detection', 'Anomaly detection']\n",
            "['accurate realtime', 'Real-time computing']\n",
            "['accurate realtime detection', 'Real-time polymerase chain reaction']\n"
          ],
          "name": "stdout"
        },
        {
          "output_type": "stream",
          "text": [
            "WARNING:root:LoadFile._df_counts is hard coded to /usr/local/lib/python3.6/dist-packages/pke/models/df-semeval2010.tsv.gz\n"
          ],
          "name": "stderr"
        },
        {
          "output_type": "stream",
          "text": [
            "['proteinbased binder', '']\n",
            "['protein drug', 'Plasma protein binding']\n",
            "['revolutionized modern cancer', 'Panacea (medicine)']\n",
            "['modern cancer therapeutic', 'Therapeutic index']\n"
          ],
          "name": "stdout"
        },
        {
          "output_type": "stream",
          "text": [
            "WARNING:root:LoadFile._df_counts is hard coded to /usr/local/lib/python3.6/dist-packages/pke/models/df-semeval2010.tsv.gz\n"
          ],
          "name": "stderr"
        },
        {
          "output_type": "stream",
          "text": [
            "['imaging center', 'Center for Biomedical Imaging']\n"
          ],
          "name": "stdout"
        },
        {
          "output_type": "stream",
          "text": [
            "WARNING:root:LoadFile._df_counts is hard coded to /usr/local/lib/python3.6/dist-packages/pke/models/df-semeval2010.tsv.gz\n"
          ],
          "name": "stderr"
        },
        {
          "output_type": "stream",
          "text": [
            "['deep neural network', 'Deep learning']\n",
            "['deeplearning approach', 'Machine learning']\n",
            "['providing diagnostic capability', 'On-board diagnostics']\n",
            "['medical specialist', 'Medical specialty']\n"
          ],
          "name": "stdout"
        },
        {
          "output_type": "stream",
          "text": [
            "WARNING:root:LoadFile._df_counts is hard coded to /usr/local/lib/python3.6/dist-packages/pke/models/df-semeval2010.tsv.gz\n"
          ],
          "name": "stderr"
        },
        {
          "output_type": "stream",
          "text": [
            "['hospital system', 'Hospital information system']\n",
            "['involves longestablished step', '']\n"
          ],
          "name": "stdout"
        },
        {
          "output_type": "stream",
          "text": [
            "WARNING:root:LoadFile._df_counts is hard coded to /usr/local/lib/python3.6/dist-packages/pke/models/df-semeval2010.tsv.gz\n"
          ],
          "name": "stderr"
        },
        {
          "output_type": "stream",
          "text": [
            "['federated learning', 'Federated learning']\n",
            "['patient data', 'Medical record']\n",
            "['medical imaging', 'Medical imaging']\n",
            "['deep neural network', 'Deep learning']\n"
          ],
          "name": "stdout"
        },
        {
          "output_type": "stream",
          "text": [
            "WARNING:root:LoadFile._df_counts is hard coded to /usr/local/lib/python3.6/dist-packages/pke/models/df-semeval2010.tsv.gz\n"
          ],
          "name": "stderr"
        },
        {
          "output_type": "stream",
          "text": [
            "['fully leverage', 'Entrepreneurial leadership']\n",
            "['drive highervalue health', '']\n",
            "['highervalue health care', '']\n",
            "['effective collaboration', 'Collaboration']\n"
          ],
          "name": "stdout"
        },
        {
          "output_type": "stream",
          "text": [
            "WARNING:root:LoadFile._df_counts is hard coded to /usr/local/lib/python3.6/dist-packages/pke/models/df-semeval2010.tsv.gz\n"
          ],
          "name": "stderr"
        },
        {
          "output_type": "stream",
          "text": [
            "['blood cell', 'Blood cell']\n",
            "['leukemia survival depend', 'Leukemia']\n",
            "['early detection', 'Random early detection']\n"
          ],
          "name": "stdout"
        },
        {
          "output_type": "stream",
          "text": [
            "WARNING:root:LoadFile._df_counts is hard coded to /usr/local/lib/python3.6/dist-packages/pke/models/df-semeval2010.tsv.gz\n"
          ],
          "name": "stderr"
        },
        {
          "output_type": "stream",
          "text": [
            "['deeplearning approach', 'Machine learning']\n",
            "['generating microscopic', 'Microorganism']\n",
            "['generating microscopic phase', 'Phase-contrast microscopy']\n",
            "['microscopic phase image', 'Phase-contrast microscopy']\n"
          ],
          "name": "stdout"
        },
        {
          "output_type": "stream",
          "text": [
            "WARNING:root:LoadFile._df_counts is hard coded to /usr/local/lib/python3.6/dist-packages/pke/models/df-semeval2010.tsv.gz\n"
          ],
          "name": "stderr"
        },
        {
          "output_type": "stream",
          "text": [
            "['isogeometric analysis', 'Isogeometric analysis']\n",
            "['isogeometric analysis iga', 'Isogeometric analysis']\n",
            "['enabled tighter integration', 'Integration competency center']\n",
            "['engineering design', 'Engineering design process']\n"
          ],
          "name": "stdout"
        },
        {
          "output_type": "stream",
          "text": [
            "WARNING:root:LoadFile._df_counts is hard coded to /usr/local/lib/python3.6/dist-packages/pke/models/df-semeval2010.tsv.gz\n"
          ],
          "name": "stderr"
        },
        {
          "output_type": "stream",
          "text": [
            "['genomics analysis sdk', 'Microsoft and open source']\n",
            "['dig deep', 'Dig Deep (album)']\n"
          ],
          "name": "stdout"
        },
        {
          "output_type": "stream",
          "text": [
            "WARNING:root:LoadFile._df_counts is hard coded to /usr/local/lib/python3.6/dist-packages/pke/models/df-semeval2010.tsv.gz\n"
          ],
          "name": "stderr"
        },
        {
          "output_type": "stream",
          "text": [
            "['gpubased computing wa', '']\n",
            "['reconstruct electron', 'Scanning electron microscope']\n"
          ],
          "name": "stdout"
        },
        {
          "output_type": "stream",
          "text": [
            "WARNING:root:LoadFile._df_counts is hard coded to /usr/local/lib/python3.6/dist-packages/pke/models/df-semeval2010.tsv.gz\n"
          ],
          "name": "stderr"
        },
        {
          "output_type": "stream",
          "text": [
            "['treatment decision', 'Treatment decision support']\n",
            "['ai implementation', 'AI accelerator']\n",
            "['patient outcome', 'Patient-reported outcome']\n"
          ],
          "name": "stdout"
        },
        {
          "output_type": "stream",
          "text": [
            "WARNING:root:LoadFile._df_counts is hard coded to /usr/local/lib/python3.6/dist-packages/pke/models/df-semeval2010.tsv.gz\n"
          ],
          "name": "stderr"
        },
        {
          "output_type": "stream",
          "text": [
            "['histopathology image', 'Histopathology']\n",
            "['generated synthetic image', 'Synthetic media']\n",
            "['data augmentation', 'Data augmentation']\n",
            "['improving classification', 'Improved']\n",
            "['improving classification accuracy', 'Accuracy and precision']\n",
            "['classification accuracy beyond', 'Accuracy and precision']\n",
            "['regular classifier', 'Chinese classifier']\n"
          ],
          "name": "stdout"
        },
        {
          "output_type": "stream",
          "text": [
            "WARNING:root:LoadFile._df_counts is hard coded to /usr/local/lib/python3.6/dist-packages/pke/models/df-semeval2010.tsv.gz\n"
          ],
          "name": "stderr"
        },
        {
          "output_type": "stream",
          "text": [
            "['computer vision', 'Computer vision']\n",
            "['deep learning', 'Deep learning']\n",
            "['convolutional neural network', 'Convolutional neural network']\n",
            "['neural network cnn', 'Convolutional neural network']\n"
          ],
          "name": "stdout"
        },
        {
          "output_type": "stream",
          "text": [
            "WARNING:root:LoadFile._df_counts is hard coded to /usr/local/lib/python3.6/dist-packages/pke/models/df-semeval2010.tsv.gz\n"
          ],
          "name": "stderr"
        },
        {
          "output_type": "stream",
          "text": [
            "['machine learning', 'Machine learning']\n",
            "['deep neural network', 'Deep learning']\n",
            "['machine learning system', 'Machine learning']\n"
          ],
          "name": "stdout"
        },
        {
          "output_type": "stream",
          "text": [
            "WARNING:root:LoadFile._df_counts is hard coded to /usr/local/lib/python3.6/dist-packages/pke/models/df-semeval2010.tsv.gz\n"
          ],
          "name": "stderr"
        },
        {
          "output_type": "stream",
          "text": [
            "['immunofluorescent tissue imaging', 'Immunohistochemistry']\n",
            "['precise spatial assessment', 'Spatial analysis']\n",
            "['protein expression', 'Protein expression']\n",
            "['medical resection', 'Colectomy']\n"
          ],
          "name": "stdout"
        },
        {
          "output_type": "stream",
          "text": [
            "WARNING:root:LoadFile._df_counts is hard coded to /usr/local/lib/python3.6/dist-packages/pke/models/df-semeval2010.tsv.gz\n"
          ],
          "name": "stderr"
        },
        {
          "output_type": "stream",
          "text": [
            "['key type', 'Cryptographic key types']\n",
            "['clinical use', 'Clinic']\n",
            "['clinical use case', 'Clinical case definition']\n",
            "['ai method', 'Artificial intelligence']\n",
            "['medical imaging', 'Medical imaging']\n",
            "['critical challenge', 'Critical theory']\n",
            "['applying ai', 'Progress in artificial intelligence']\n"
          ],
          "name": "stdout"
        },
        {
          "output_type": "stream",
          "text": [
            "WARNING:root:LoadFile._df_counts is hard coded to /usr/local/lib/python3.6/dist-packages/pke/models/df-semeval2010.tsv.gz\n"
          ],
          "name": "stderr"
        },
        {
          "output_type": "stream",
          "text": [
            "['image feature', 'Feature (computer vision)']\n",
            "['prostate tissue', 'Prostate']\n",
            "['nvidia research', 'List of Nvidia graphics processing units']\n",
            "['generative adversarial', 'Generative adversarial network']\n"
          ],
          "name": "stdout"
        },
        {
          "output_type": "stream",
          "text": [
            "WARNING:root:LoadFile._df_counts is hard coded to /usr/local/lib/python3.6/dist-packages/pke/models/df-semeval2010.tsv.gz\n"
          ],
          "name": "stderr"
        },
        {
          "output_type": "stream",
          "text": [
            "['medical image', 'Medical imaging']\n",
            "['see medical image', 'Medical imaging']\n",
            "['new light', 'Old and New Lights']\n"
          ],
          "name": "stdout"
        },
        {
          "output_type": "stream",
          "text": [
            "WARNING:root:LoadFile._df_counts is hard coded to /usr/local/lib/python3.6/dist-packages/pke/models/df-semeval2010.tsv.gz\n"
          ],
          "name": "stderr"
        },
        {
          "output_type": "stream",
          "text": [
            "['sensor set', 'Sensor']\n",
            "['rehabilitation technology', 'Disability and Rehabilitation: Assistive Technology']\n",
            "['inertial measurement', 'Inertial measurement unit']\n",
            "['unitbased human motion', '']\n",
            "['human motion tracker', 'Motion capture']\n"
          ],
          "name": "stdout"
        },
        {
          "output_type": "stream",
          "text": [
            "WARNING:root:LoadFile._df_counts is hard coded to /usr/local/lib/python3.6/dist-packages/pke/models/df-semeval2010.tsv.gz\n"
          ],
          "name": "stderr"
        },
        {
          "output_type": "stream",
          "text": [
            "['quadro rtx feature', 'GeForce 30 series']\n",
            "['realtime ray tracing', 'Ray-tracing hardware']\n",
            "['life science', 'List of life sciences']\n",
            "['life science discipline', 'List of life sciences']\n",
            "['support basic research', 'Basic research']\n"
          ],
          "name": "stdout"
        },
        {
          "output_type": "stream",
          "text": [
            "WARNING:root:LoadFile._df_counts is hard coded to /usr/local/lib/python3.6/dist-packages/pke/models/df-semeval2010.tsv.gz\n"
          ],
          "name": "stderr"
        },
        {
          "output_type": "stream",
          "text": [
            "['parkinson disease', \"Parkinson's disease\"]\n",
            "['pdgan us', '']\n",
            "['deeplearningpowered tool', '']\n"
          ],
          "name": "stdout"
        },
        {
          "output_type": "stream",
          "text": [
            "WARNING:root:LoadFile._df_counts is hard coded to /usr/local/lib/python3.6/dist-packages/pke/models/df-semeval2010.tsv.gz\n"
          ],
          "name": "stderr"
        },
        {
          "output_type": "stream",
          "text": [
            "['medical imaging', 'Medical imaging']\n"
          ],
          "name": "stdout"
        },
        {
          "output_type": "stream",
          "text": [
            "WARNING:root:LoadFile._df_counts is hard coded to /usr/local/lib/python3.6/dist-packages/pke/models/df-semeval2010.tsv.gz\n"
          ],
          "name": "stderr"
        },
        {
          "output_type": "stream",
          "text": [
            "['reconstruction algorithm', 'Tomographic reconstruction']\n",
            "['mr image', 'Magnetic resonance imaging']\n",
            "['magnetic resonance', 'Magnetic resonance imaging']\n",
            "['magnetic resonance imaging', 'Magnetic resonance imaging']\n",
            "['resonance imaging mri', 'Magnetic resonance imaging']\n"
          ],
          "name": "stdout"
        },
        {
          "output_type": "stream",
          "text": [
            "WARNING:root:LoadFile._df_counts is hard coded to /usr/local/lib/python3.6/dist-packages/pke/models/df-semeval2010.tsv.gz\n"
          ],
          "name": "stderr"
        },
        {
          "output_type": "stream",
          "text": [
            "['clinical task', 'Neurology']\n",
            "['reinvented performance', 'Verona van de Leur']\n",
            "['stanford question', 'Stanford University']\n",
            "['stanford question answering', 'BERT (language model)']\n"
          ],
          "name": "stdout"
        },
        {
          "output_type": "stream",
          "text": [
            "WARNING:root:LoadFile._df_counts is hard coded to /usr/local/lib/python3.6/dist-packages/pke/models/df-semeval2010.tsv.gz\n"
          ],
          "name": "stderr"
        },
        {
          "output_type": "stream",
          "text": [
            "['anatomical region', 'Anatomical terminology']\n",
            "['pelvis fracture', 'Pelvic fracture']\n"
          ],
          "name": "stdout"
        },
        {
          "output_type": "stream",
          "text": [
            "WARNING:root:LoadFile._df_counts is hard coded to /usr/local/lib/python3.6/dist-packages/pke/models/df-semeval2010.tsv.gz\n"
          ],
          "name": "stderr"
        },
        {
          "output_type": "stream",
          "text": [
            "['apex optimization', 'PhysX']\n",
            "['neural network', 'Neural network']\n"
          ],
          "name": "stdout"
        },
        {
          "output_type": "stream",
          "text": [
            "WARNING:root:LoadFile._df_counts is hard coded to /usr/local/lib/python3.6/dist-packages/pke/models/df-semeval2010.tsv.gz\n"
          ],
          "name": "stderr"
        },
        {
          "output_type": "stream",
          "text": [
            "['graphgenerative model', '']\n",
            "['molecular structure', 'Molecule']\n",
            "['molecular structure designing', 'Organic chemistry']\n",
            "['designing new molecule', 'Media Molecule']\n",
            "['predefined property', 'Autodesk 3ds Max']\n",
            "['drug discovery', 'Drug discovery']\n"
          ],
          "name": "stdout"
        },
        {
          "output_type": "stream",
          "text": [
            "WARNING:root:LoadFile._df_counts is hard coded to /usr/local/lib/python3.6/dist-packages/pke/models/df-semeval2010.tsv.gz\n"
          ],
          "name": "stderr"
        },
        {
          "output_type": "stream",
          "text": [
            "['gpu technology', 'Nvidia']\n",
            "['scalable algorithm', 'Comparison gallery of image scaling algorithms']\n",
            "['deep learning', 'Deep learning']\n",
            "['convolutional neural network', 'Convolutional neural network']\n",
            "['cnns achieve stateoftheart', '']\n"
          ],
          "name": "stdout"
        },
        {
          "output_type": "stream",
          "text": [
            "WARNING:root:LoadFile._df_counts is hard coded to /usr/local/lib/python3.6/dist-packages/pke/models/df-semeval2010.tsv.gz\n"
          ],
          "name": "stderr"
        },
        {
          "output_type": "stream",
          "text": [
            "['accelerated computing', 'IBM Power Systems']\n"
          ],
          "name": "stdout"
        },
        {
          "output_type": "stream",
          "text": [
            "WARNING:root:LoadFile._df_counts is hard coded to /usr/local/lib/python3.6/dist-packages/pke/models/df-semeval2010.tsv.gz\n"
          ],
          "name": "stderr"
        },
        {
          "output_type": "stream",
          "text": [
            "['data science', 'Data science']\n",
            "['accelerated datascience', 'Danielle Belgrave']\n",
            "['accelerated datascience skill', '']\n"
          ],
          "name": "stdout"
        },
        {
          "output_type": "stream",
          "text": [
            "WARNING:root:LoadFile._df_counts is hard coded to /usr/local/lib/python3.6/dist-packages/pke/models/df-semeval2010.tsv.gz\n"
          ],
          "name": "stderr"
        },
        {
          "output_type": "stream",
          "text": [
            "['physicallybased rendering', '']\n"
          ],
          "name": "stdout"
        },
        {
          "output_type": "stream",
          "text": [
            "WARNING:root:LoadFile._df_counts is hard coded to /usr/local/lib/python3.6/dist-packages/pke/models/df-semeval2010.tsv.gz\n"
          ],
          "name": "stderr"
        },
        {
          "output_type": "stream",
          "text": [
            "['data movement', 'Extract, transform, load']\n",
            "['datacentric strategy', 'Target (project)']\n",
            "['pipelined accelerator', 'Graphics pipeline']\n",
            "['pipelined accelerator pacc', '']\n",
            "['accelerator pacc help', '']\n"
          ],
          "name": "stdout"
        },
        {
          "output_type": "stream",
          "text": [
            "WARNING:root:LoadFile._df_counts is hard coded to /usr/local/lib/python3.6/dist-packages/pke/models/df-semeval2010.tsv.gz\n"
          ],
          "name": "stderr"
        },
        {
          "output_type": "stream",
          "text": [
            "['natural language', 'Natural language']\n",
            "['visionandlanguage task', '']\n"
          ],
          "name": "stdout"
        },
        {
          "output_type": "stream",
          "text": [
            "WARNING:root:LoadFile._df_counts is hard coded to /usr/local/lib/python3.6/dist-packages/pke/models/df-semeval2010.tsv.gz\n"
          ],
          "name": "stderr"
        },
        {
          "output_type": "stream",
          "text": [
            "['analytic formula', 'Closed-form expression']\n",
            "['sh gradient', 'Conjugate gradient method']\n",
            "['novel analytic formula', 'Analytical Engine']\n",
            "['spatial gradient', 'Spatial gradient']\n",
            "['spherical harmonic coefficient', 'Spherical harmonics']\n"
          ],
          "name": "stdout"
        },
        {
          "output_type": "stream",
          "text": [
            "WARNING:root:LoadFile._df_counts is hard coded to /usr/local/lib/python3.6/dist-packages/pke/models/df-semeval2010.tsv.gz\n"
          ],
          "name": "stderr"
        },
        {
          "output_type": "stream",
          "text": [
            "['lattice boltzmann', 'Lattice Boltzmann methods']\n",
            "['lattice boltzmann method', 'Lattice Boltzmann methods']\n",
            "['immersed body', \"Archimedes' principle\"]\n",
            "['immersed body discretization', 'Immersed boundary method']\n",
            "['body discretization affect', 'Affect theory']\n",
            "['numerical result', 'Numerical stability']\n"
          ],
          "name": "stdout"
        },
        {
          "output_type": "stream",
          "text": [
            "WARNING:root:LoadFile._df_counts is hard coded to /usr/local/lib/python3.6/dist-packages/pke/models/df-semeval2010.tsv.gz\n"
          ],
          "name": "stderr"
        },
        {
          "output_type": "stream",
          "text": [
            "['reinforcement learning', 'Reinforcement learning']\n",
            "['computer vision', 'Computer vision']\n",
            "['computer vision application', 'Computer vision']\n",
            "['spatial transformer', 'High-voltage transformer fire barriers']\n",
            "['spatial transformer network', 'Capsule neural network']\n",
            "['classifier robustness', 'Naive Bayes classifier']\n"
          ],
          "name": "stdout"
        },
        {
          "output_type": "stream",
          "text": [
            "WARNING:root:LoadFile._df_counts is hard coded to /usr/local/lib/python3.6/dist-packages/pke/models/df-semeval2010.tsv.gz\n"
          ],
          "name": "stderr"
        },
        {
          "output_type": "stream",
          "text": [
            "['domainspecific language', '']\n"
          ],
          "name": "stdout"
        },
        {
          "output_type": "stream",
          "text": [
            "WARNING:root:LoadFile._df_counts is hard coded to /usr/local/lib/python3.6/dist-packages/pke/models/df-semeval2010.tsv.gz\n"
          ],
          "name": "stderr"
        },
        {
          "output_type": "stream",
          "text": [
            "['characterizationoptimization cycle', '']\n",
            "['profiling tool lack', 'Sequence profiling tool']\n",
            "['ideal performance identify', 'Ideal machine']\n",
            "['performance identify source', 'New Source Performance Standards']\n"
          ],
          "name": "stdout"
        },
        {
          "output_type": "stream",
          "text": [
            "WARNING:root:LoadFile._df_counts is hard coded to /usr/local/lib/python3.6/dist-packages/pke/models/df-semeval2010.tsv.gz\n"
          ],
          "name": "stderr"
        },
        {
          "output_type": "stream",
          "text": [
            "['deeplearning skill', 'Machine learning']\n"
          ],
          "name": "stdout"
        },
        {
          "output_type": "stream",
          "text": [
            "WARNING:root:LoadFile._df_counts is hard coded to /usr/local/lib/python3.6/dist-packages/pke/models/df-semeval2010.tsv.gz\n"
          ],
          "name": "stderr"
        },
        {
          "output_type": "stream",
          "text": [
            "['hpc computing', 'Supercomputer']\n",
            "['hpc computing demand', 'Cloud computing']\n",
            "['instruction student', 'Differentiated instruction']\n"
          ],
          "name": "stdout"
        },
        {
          "output_type": "stream",
          "text": [
            "WARNING:root:LoadFile._df_counts is hard coded to /usr/local/lib/python3.6/dist-packages/pke/models/df-semeval2010.tsv.gz\n"
          ],
          "name": "stderr"
        },
        {
          "output_type": "stream",
          "text": [
            "['capsule network', 'Capsule neural network']\n",
            "['capsule network capsnet', 'Capsule neural network']\n"
          ],
          "name": "stdout"
        },
        {
          "output_type": "stream",
          "text": [
            "WARNING:root:LoadFile._df_counts is hard coded to /usr/local/lib/python3.6/dist-packages/pke/models/df-semeval2010.tsv.gz\n"
          ],
          "name": "stderr"
        },
        {
          "output_type": "stream",
          "text": [
            "['pose estimation', '3D pose estimation']\n",
            "['novel engineering', 'Engineering']\n",
            "['novel engineering application', 'Biomedical engineering']\n",
            "['augmented reality', 'Augmented reality']\n",
            "['augmented reality vrar', '']\n",
            "['vrar posebased video', '']\n",
            "['posebased video game', '']\n",
            "['game object reconstruction', '3D reconstruction']\n"
          ],
          "name": "stdout"
        },
        {
          "output_type": "stream",
          "text": [
            "WARNING:root:LoadFile._df_counts is hard coded to /usr/local/lib/python3.6/dist-packages/pke/models/df-semeval2010.tsv.gz\n"
          ],
          "name": "stderr"
        },
        {
          "output_type": "stream",
          "text": [
            "['gpu database', 'List of Nvidia graphics processing units']\n",
            "['academic research', 'Research']\n",
            "['industrial practice', 'Fourth Industrial Revolution']\n"
          ],
          "name": "stdout"
        },
        {
          "output_type": "stream",
          "text": [
            "WARNING:root:LoadFile._df_counts is hard coded to /usr/local/lib/python3.6/dist-packages/pke/models/df-semeval2010.tsv.gz\n"
          ],
          "name": "stderr"
        },
        {
          "output_type": "stream",
          "text": [
            "['material synthesis', 'Material']\n",
            "['inorganic material synthesis', 'Inorganic compound']\n",
            "['solidstate synthesis', '']\n",
            "['material discovery', 'Materials science']\n"
          ],
          "name": "stdout"
        },
        {
          "output_type": "stream",
          "text": [
            "WARNING:root:LoadFile._df_counts is hard coded to /usr/local/lib/python3.6/dist-packages/pke/models/df-semeval2010.tsv.gz\n",
            "WARNING:root:LoadFile._df_counts is hard coded to /usr/local/lib/python3.6/dist-packages/pke/models/df-semeval2010.tsv.gz\n"
          ],
          "name": "stderr"
        },
        {
          "output_type": "stream",
          "text": [
            "['unsupervised deep learning', 'Unsupervised learning']\n",
            "['reveal subcellular drug', 'P-glycoprotein']\n",
            "['subcellular drug response', 'P-glycoprotein']\n",
            "['live cell', 'Live cell imaging']\n",
            "['live cell image', 'Live cell imaging']\n"
          ],
          "name": "stdout"
        },
        {
          "output_type": "stream",
          "text": [
            "WARNING:root:LoadFile._df_counts is hard coded to /usr/local/lib/python3.6/dist-packages/pke/models/df-semeval2010.tsv.gz\n"
          ],
          "name": "stderr"
        },
        {
          "output_type": "stream",
          "text": [
            "['deep learning', 'Deep learning']\n",
            "['nowadays deep learning', 'Deep Blue versus Garry Kasparov']\n",
            "['realizing deep learning', 'Deep learning']\n"
          ],
          "name": "stdout"
        },
        {
          "output_type": "stream",
          "text": [
            "WARNING:root:LoadFile._df_counts is hard coded to /usr/local/lib/python3.6/dist-packages/pke/models/df-semeval2010.tsv.gz\n"
          ],
          "name": "stderr"
        },
        {
          "output_type": "stream",
          "text": [
            "['developing arrhythmia', 'N-(p-Amylcinnamoyl)anthranilic acid']\n",
            "['computer simulation', 'Computer simulation']\n",
            "['electrical activity', 'Pulseless electrical activity']\n"
          ],
          "name": "stdout"
        },
        {
          "output_type": "stream",
          "text": [
            "WARNING:root:LoadFile._df_counts is hard coded to /usr/local/lib/python3.6/dist-packages/pke/models/df-semeval2010.tsv.gz\n"
          ],
          "name": "stderr"
        },
        {
          "output_type": "stream",
          "text": [
            "['high performance computing', 'Supercomputer']\n",
            "['make constructing', 'Constructed language']\n"
          ],
          "name": "stdout"
        },
        {
          "output_type": "stream",
          "text": [
            "WARNING:root:LoadFile._df_counts is hard coded to /usr/local/lib/python3.6/dist-packages/pke/models/df-semeval2010.tsv.gz\n"
          ],
          "name": "stderr"
        },
        {
          "output_type": "stream",
          "text": [
            "['generalization capability', 'Capability-based addressing']\n",
            "['videotovideo synthesis', '']\n",
            "['input semantic video', 'Semantic memory']\n"
          ],
          "name": "stdout"
        },
        {
          "output_type": "stream",
          "text": [
            "WARNING:root:LoadFile._df_counts is hard coded to /usr/local/lib/python3.6/dist-packages/pke/models/df-semeval2010.tsv.gz\n"
          ],
          "name": "stderr"
        },
        {
          "output_type": "stream",
          "text": [
            "['highperformance gpu implementation', 'MD5']\n"
          ],
          "name": "stdout"
        },
        {
          "output_type": "stream",
          "text": [
            "WARNING:root:LoadFile._df_counts is hard coded to /usr/local/lib/python3.6/dist-packages/pke/models/df-semeval2010.tsv.gz\n"
          ],
          "name": "stderr"
        },
        {
          "output_type": "stream",
          "text": [
            "['pipeline acceleration', 'DirectX Video Acceleration']\n",
            "['goldstandard nextgeneration', '']\n",
            "['goldstandard nextgeneration sequencing', '']\n",
            "['ng bioinformatic pipeline', 'Bioinformatics workflow management system']\n",
            "['bioinformatic pipeline bwa', 'List of RNA-Seq bioinformatics tools']\n",
            "['pipeline bwa picard', 'List of RNA-Seq bioinformatics tools']\n"
          ],
          "name": "stdout"
        },
        {
          "output_type": "stream",
          "text": [
            "WARNING:root:LoadFile._df_counts is hard coded to /usr/local/lib/python3.6/dist-packages/pke/models/df-semeval2010.tsv.gz\n"
          ],
          "name": "stderr"
        },
        {
          "output_type": "stream",
          "text": [
            "['transprecision computing', 'Bfloat16 floating-point format']\n",
            "['loworder finiteelement analysis', '']\n"
          ],
          "name": "stdout"
        },
        {
          "output_type": "stream",
          "text": [
            "WARNING:root:LoadFile._df_counts is hard coded to /usr/local/lib/python3.6/dist-packages/pke/models/df-semeval2010.tsv.gz\n"
          ],
          "name": "stderr"
        },
        {
          "output_type": "stream",
          "text": [
            "['cuda code', 'CUDA']\n",
            "['deeplearning operator', 'Eigenvalues and eigenvectors']\n",
            "['holistic approach', 'Holism']\n",
            "['cuda code generation', 'CUDA']\n"
          ],
          "name": "stdout"
        },
        {
          "output_type": "stream",
          "text": [
            "WARNING:root:LoadFile._df_counts is hard coded to /usr/local/lib/python3.6/dist-packages/pke/models/df-semeval2010.tsv.gz\n"
          ],
          "name": "stderr"
        },
        {
          "output_type": "stream",
          "text": [
            "['dl framework', 'BigDL']\n",
            "['dnn training', 'Deep learning']\n",
            "['hpc technology', 'Supercomputing in Europe']\n"
          ],
          "name": "stdout"
        },
        {
          "output_type": "stream",
          "text": [
            "WARNING:root:LoadFile._df_counts is hard coded to /usr/local/lib/python3.6/dist-packages/pke/models/df-semeval2010.tsv.gz\n"
          ],
          "name": "stderr"
        },
        {
          "output_type": "stream",
          "text": [
            "['md simulation', 'Molecular dynamics']\n",
            "['modern gpu', 'Graphics processing unit']\n"
          ],
          "name": "stdout"
        },
        {
          "output_type": "stream",
          "text": [
            "WARNING:root:LoadFile._df_counts is hard coded to /usr/local/lib/python3.6/dist-packages/pke/models/df-semeval2010.tsv.gz\n"
          ],
          "name": "stderr"
        },
        {
          "output_type": "stream",
          "text": [
            "['nature april 2019', 'Sky Nature']\n"
          ],
          "name": "stdout"
        },
        {
          "output_type": "stream",
          "text": [
            "WARNING:root:LoadFile._df_counts is hard coded to /usr/local/lib/python3.6/dist-packages/pke/models/df-semeval2010.tsv.gz\n"
          ],
          "name": "stderr"
        },
        {
          "output_type": "stream",
          "text": [
            "['computing power', 'Computer performance']\n",
            "['pcie bandwidth', 'PCI Express']\n",
            "['jiao tong university', 'Shanghai Jiao Tong University']\n",
            "['tong university high', 'Shanghai Jiao Tong University']\n"
          ],
          "name": "stdout"
        },
        {
          "output_type": "stream",
          "text": [
            "WARNING:root:LoadFile._df_counts is hard coded to /usr/local/lib/python3.6/dist-packages/pke/models/df-semeval2010.tsv.gz\n"
          ],
          "name": "stderr"
        },
        {
          "output_type": "stream",
          "text": [
            "['mp algorithm', 'MP3']\n",
            "['linear algebra', 'Linear algebra']\n",
            "['doublecomplex precision', '']\n"
          ],
          "name": "stdout"
        },
        {
          "output_type": "stream",
          "text": [
            "WARNING:root:LoadFile._df_counts is hard coded to /usr/local/lib/python3.6/dist-packages/pke/models/df-semeval2010.tsv.gz\n"
          ],
          "name": "stderr"
        },
        {
          "output_type": "stream",
          "text": [
            "['artificial potential field', 'Artificial turf']\n",
            "['mobile robot', 'Mobile robot']\n",
            "['pathplanning problem', 'Pathfinding']\n",
            "['parallel implementation', 'Implementation']\n",
            "['nvidia jetson', 'Nvidia Jetson']\n"
          ],
          "name": "stdout"
        },
        {
          "output_type": "stream",
          "text": [
            "WARNING:root:LoadFile._df_counts is hard coded to /usr/local/lib/python3.6/dist-packages/pke/models/df-semeval2010.tsv.gz\n"
          ],
          "name": "stderr"
        },
        {
          "output_type": "stream",
          "text": [
            "['human environment', 'Human impact on the environment']\n",
            "['generalpurpose robot', '']\n",
            "['environment human environment', 'Human impact on the environment']\n"
          ],
          "name": "stdout"
        },
        {
          "output_type": "stream",
          "text": [
            "WARNING:root:LoadFile._df_counts is hard coded to /usr/local/lib/python3.6/dist-packages/pke/models/df-semeval2010.tsv.gz\n"
          ],
          "name": "stderr"
        },
        {
          "output_type": "stream",
          "text": [
            "['physicsinformed neural network', '']\n"
          ],
          "name": "stdout"
        },
        {
          "output_type": "stream",
          "text": [
            "WARNING:root:LoadFile._df_counts is hard coded to /usr/local/lib/python3.6/dist-packages/pke/models/df-semeval2010.tsv.gz\n"
          ],
          "name": "stderr"
        },
        {
          "output_type": "stream",
          "text": [
            "['binary system', 'Binary system']\n",
            "['mass transfer', 'Mass transfer']\n"
          ],
          "name": "stdout"
        },
        {
          "output_type": "stream",
          "text": [
            "WARNING:root:LoadFile._df_counts is hard coded to /usr/local/lib/python3.6/dist-packages/pke/models/df-semeval2010.tsv.gz\n"
          ],
          "name": "stderr"
        },
        {
          "output_type": "stream",
          "text": [
            "['scientific advancement', 'American Association for the Advancement of Science']\n",
            "['success obtaining', 'Multinomial distribution']\n"
          ],
          "name": "stdout"
        },
        {
          "output_type": "stream",
          "text": [
            "WARNING:root:LoadFile._df_counts is hard coded to /usr/local/lib/python3.6/dist-packages/pke/models/df-semeval2010.tsv.gz\n"
          ],
          "name": "stderr"
        },
        {
          "output_type": "stream",
          "text": [
            "['database system', 'Database']\n",
            "['index structure', 'Misery Index / Structure of Lies']\n"
          ],
          "name": "stdout"
        },
        {
          "output_type": "stream",
          "text": [
            "WARNING:root:LoadFile._df_counts is hard coded to /usr/local/lib/python3.6/dist-packages/pke/models/df-semeval2010.tsv.gz\n"
          ],
          "name": "stderr"
        },
        {
          "output_type": "stream",
          "text": [
            "['pathogen surveillance', 'Wastewater surveillance']\n",
            "['thirdgeneration dna', '']\n"
          ],
          "name": "stdout"
        },
        {
          "output_type": "stream",
          "text": [
            "WARNING:root:LoadFile._df_counts is hard coded to /usr/local/lib/python3.6/dist-packages/pke/models/df-semeval2010.tsv.gz\n"
          ],
          "name": "stderr"
        },
        {
          "output_type": "stream",
          "text": [
            "['modern gpus', 'Graphics processing unit']\n",
            "['molecular dynamic program', 'Dynamics']\n"
          ],
          "name": "stdout"
        },
        {
          "output_type": "stream",
          "text": [
            "WARNING:root:LoadFile._df_counts is hard coded to /usr/local/lib/python3.6/dist-packages/pke/models/df-semeval2010.tsv.gz\n"
          ],
          "name": "stderr"
        },
        {
          "output_type": "stream",
          "text": [
            "['computational experiment', 'Computational physics']\n",
            "['globally available forsale', 'Boss Doctor Rhythm DR-110']\n"
          ],
          "name": "stdout"
        },
        {
          "output_type": "stream",
          "text": [
            "WARNING:root:LoadFile._df_counts is hard coded to /usr/local/lib/python3.6/dist-packages/pke/models/df-semeval2010.tsv.gz\n"
          ],
          "name": "stderr"
        },
        {
          "output_type": "stream",
          "text": [
            "['characterizing spatial structure', 'Spatial network']\n"
          ],
          "name": "stdout"
        },
        {
          "output_type": "stream",
          "text": [
            "WARNING:root:LoadFile._df_counts is hard coded to /usr/local/lib/python3.6/dist-packages/pke/models/df-semeval2010.tsv.gz\n"
          ],
          "name": "stderr"
        },
        {
          "output_type": "stream",
          "text": [
            "['neural network', 'Neural network']\n",
            "['interactive system', 'Systems engineering']\n"
          ],
          "name": "stdout"
        },
        {
          "output_type": "stream",
          "text": [
            "WARNING:root:LoadFile._df_counts is hard coded to /usr/local/lib/python3.6/dist-packages/pke/models/df-semeval2010.tsv.gz\n"
          ],
          "name": "stderr"
        },
        {
          "output_type": "stream",
          "text": [
            "['raw sensory', 'Occipital lobe']\n",
            "['raw sensory input', 'Perception']\n",
            "['selfsupervised practice', '']\n",
            "['robot learn', 'Robot']\n",
            "['robot learn manipulation', 'Robotics']\n",
            "['learn manipulation skill', 'Cognitive skill']\n"
          ],
          "name": "stdout"
        },
        {
          "output_type": "stream",
          "text": [
            "WARNING:root:LoadFile._df_counts is hard coded to /usr/local/lib/python3.6/dist-packages/pke/models/df-semeval2010.tsv.gz\n"
          ],
          "name": "stderr"
        },
        {
          "output_type": "stream",
          "text": [
            "['lowcost modular framework', '']\n",
            "['complex navigation task', 'Radio navigation']\n",
            "['proposed method', 'Electoral system']\n"
          ],
          "name": "stdout"
        },
        {
          "output_type": "stream",
          "text": [
            "WARNING:root:LoadFile._df_counts is hard coded to /usr/local/lib/python3.6/dist-packages/pke/models/df-semeval2010.tsv.gz\n"
          ],
          "name": "stderr"
        },
        {
          "output_type": "stream",
          "text": [
            "['object mesh reconstruction', '3D reconstruction from multiple images']\n",
            "['rgb video', 'Component video']\n",
            "['datadriven method', '']\n"
          ],
          "name": "stdout"
        },
        {
          "output_type": "stream",
          "text": [
            "WARNING:root:LoadFile._df_counts is hard coded to /usr/local/lib/python3.6/dist-packages/pke/models/df-semeval2010.tsv.gz\n"
          ],
          "name": "stderr"
        },
        {
          "output_type": "stream",
          "text": [
            "['cardiac electrophysiology', 'Cardiac electrophysiology']\n"
          ],
          "name": "stdout"
        },
        {
          "output_type": "stream",
          "text": [
            "WARNING:root:LoadFile._df_counts is hard coded to /usr/local/lib/python3.6/dist-packages/pke/models/df-semeval2010.tsv.gz\n"
          ],
          "name": "stderr"
        },
        {
          "output_type": "stream",
          "text": [
            "['efficient multigpu', '']\n",
            "['efficient multigpu solver', '']\n",
            "['singlephase fluid', '']\n",
            "['singlephase fluid flow', '']\n",
            "['lattice boltzmann method', 'Lattice Boltzmann methods']\n"
          ],
          "name": "stdout"
        },
        {
          "output_type": "stream",
          "text": [
            "WARNING:root:LoadFile._df_counts is hard coded to /usr/local/lib/python3.6/dist-packages/pke/models/df-semeval2010.tsv.gz\n"
          ],
          "name": "stderr"
        },
        {
          "output_type": "stream",
          "text": [
            "['task queue', 'Scheduling (computing)']\n",
            "['gpu programming', 'General-purpose computing on graphics processing units']\n"
          ],
          "name": "stdout"
        },
        {
          "output_type": "stream",
          "text": [
            "WARNING:root:LoadFile._df_counts is hard coded to /usr/local/lib/python3.6/dist-packages/pke/models/df-semeval2010.tsv.gz\n"
          ],
          "name": "stderr"
        },
        {
          "output_type": "stream",
          "text": [
            "['high performance', 'Supercomputer']\n",
            "['high performance computing', 'Supercomputer']\n",
            "['performance computing infrastructure', 'Cloud computing']\n",
            "['gpu resource', 'Cloud gaming']\n"
          ],
          "name": "stdout"
        },
        {
          "output_type": "stream",
          "text": [
            "WARNING:root:LoadFile._df_counts is hard coded to /usr/local/lib/python3.6/dist-packages/pke/models/df-semeval2010.tsv.gz\n"
          ],
          "name": "stderr"
        },
        {
          "output_type": "stream",
          "text": [
            "['cfd algorithmic advance', \"Newton's method\"]\n"
          ],
          "name": "stdout"
        },
        {
          "output_type": "stream",
          "text": [
            "WARNING:root:LoadFile._df_counts is hard coded to /usr/local/lib/python3.6/dist-packages/pke/models/df-semeval2010.tsv.gz\n"
          ],
          "name": "stderr"
        },
        {
          "output_type": "stream",
          "text": [
            "['anomalydetection machinelearning', '']\n",
            "['anomalydetection machinelearning algorithm', '']\n",
            "['real machine', 'Turing machine']\n"
          ],
          "name": "stdout"
        },
        {
          "output_type": "stream",
          "text": [
            "WARNING:root:LoadFile._df_counts is hard coded to /usr/local/lib/python3.6/dist-packages/pke/models/df-semeval2010.tsv.gz\n"
          ],
          "name": "stderr"
        },
        {
          "output_type": "stream",
          "text": [
            "['systolic array', 'Systolic array']\n",
            "['versatile highperformance', '']\n",
            "['versatile highperformance execution', '']\n",
            "['highperformance execution model', '']\n"
          ],
          "name": "stdout"
        },
        {
          "output_type": "stream",
          "text": [
            "WARNING:root:LoadFile._df_counts is hard coded to /usr/local/lib/python3.6/dist-packages/pke/models/df-semeval2010.tsv.gz\n"
          ],
          "name": "stderr"
        },
        {
          "output_type": "stream",
          "text": [
            "['conditional generative adversarial', 'Generative adversarial network']\n",
            "['generative adversarial network', 'Generative adversarial network']\n",
            "['architectural design', 'Architectural Design']\n",
            "['internal daylight', 'Daylight saving time']\n"
          ],
          "name": "stdout"
        },
        {
          "output_type": "stream",
          "text": [
            "WARNING:root:LoadFile._df_counts is hard coded to /usr/local/lib/python3.6/dist-packages/pke/models/df-semeval2010.tsv.gz\n"
          ],
          "name": "stderr"
        },
        {
          "output_type": "stream",
          "text": [
            "['compare workflow', 'Workflow']\n",
            "['kosrae micronesia', 'Kosrae']\n"
          ],
          "name": "stdout"
        },
        {
          "output_type": "stream",
          "text": [
            "WARNING:root:LoadFile._df_counts is hard coded to /usr/local/lib/python3.6/dist-packages/pke/models/df-semeval2010.tsv.gz\n",
            "WARNING:root:LoadFile._df_counts is hard coded to /usr/local/lib/python3.6/dist-packages/pke/models/df-semeval2010.tsv.gz\n"
          ],
          "name": "stderr"
        },
        {
          "output_type": "stream",
          "text": [
            "['image reconstruction', 'Iterative reconstruction']\n",
            "['distributed framework', 'Apache Spark']\n",
            "['computed tomography', 'CT scan']\n",
            "['computed tomography ct', 'CT scan']\n"
          ],
          "name": "stdout"
        },
        {
          "output_type": "stream",
          "text": [
            "WARNING:root:LoadFile._df_counts is hard coded to /usr/local/lib/python3.6/dist-packages/pke/models/df-semeval2010.tsv.gz\n"
          ],
          "name": "stderr"
        },
        {
          "output_type": "stream",
          "text": [
            "['health care industry', 'Healthcare industry']\n",
            "['patient view', 'Patient']\n",
            "['patient view hospital', 'Patient']\n"
          ],
          "name": "stdout"
        },
        {
          "output_type": "stream",
          "text": [
            "WARNING:root:LoadFile._df_counts is hard coded to /usr/local/lib/python3.6/dist-packages/pke/models/df-semeval2010.tsv.gz\n"
          ],
          "name": "stderr"
        },
        {
          "output_type": "stream",
          "text": [
            "['latest improvement', 'Later life of Winston Churchill']\n",
            "['vray gpu', 'Path tracing']\n",
            "['outofcore rendering', '']\n",
            "['rtx support', 'Nvidia RTX']\n",
            "['realtime raytracing', 'Ray tracing (graphics)']\n",
            "['project lavina', 'Project 23900 amphibious assault ship']\n"
          ],
          "name": "stdout"
        },
        {
          "output_type": "stream",
          "text": [
            "WARNING:root:LoadFile._df_counts is hard coded to /usr/local/lib/python3.6/dist-packages/pke/models/df-semeval2010.tsv.gz\n"
          ],
          "name": "stderr"
        },
        {
          "output_type": "stream",
          "text": [
            "['rtx technology', 'Nvidia RTX']\n",
            "['raytracing rt', 'Ray tracing (graphics)']\n",
            "['raytracing rt core', 'Turing (microarchitecture)']\n",
            "['turing architecture', 'Turing (microarchitecture)']\n"
          ],
          "name": "stdout"
        },
        {
          "output_type": "stream",
          "text": [
            "WARNING:root:LoadFile._df_counts is hard coded to /usr/local/lib/python3.6/dist-packages/pke/models/df-semeval2010.tsv.gz\n"
          ],
          "name": "stderr"
        },
        {
          "output_type": "stream",
          "text": [
            "['gpu porting', 'Graphics processing unit']\n",
            "['practical application', 'Quantum computing']\n",
            "['fp21fp32fp64 mixedprecision', '']\n",
            "['fp21fp32fp64 mixedprecision computing', '']\n",
            "['custom 21bit', 'HTTP 404']\n",
            "['custom 21bit floatingpoint', '']\n"
          ],
          "name": "stdout"
        },
        {
          "output_type": "stream",
          "text": [
            "WARNING:root:LoadFile._df_counts is hard coded to /usr/local/lib/python3.6/dist-packages/pke/models/df-semeval2010.tsv.gz\n"
          ],
          "name": "stderr"
        },
        {
          "output_type": "stream",
          "text": [
            "['power transmission', 'Electric power transmission']\n",
            "['power transmission tower', 'Transmission tower']\n",
            "['cost optimization', 'Mathematical optimization']\n",
            "['crosssectional area', 'Physiological cross-sectional area']\n"
          ],
          "name": "stdout"
        },
        {
          "output_type": "stream",
          "text": [
            "WARNING:root:LoadFile._df_counts is hard coded to /usr/local/lib/python3.6/dist-packages/pke/models/df-semeval2010.tsv.gz\n"
          ],
          "name": "stderr"
        },
        {
          "output_type": "stream",
          "text": [
            "['nov 2019', 'List of Bollywood films of 2019']\n"
          ],
          "name": "stdout"
        },
        {
          "output_type": "stream",
          "text": [
            "WARNING:root:LoadFile._df_counts is hard coded to /usr/local/lib/python3.6/dist-packages/pke/models/df-semeval2010.tsv.gz\n"
          ],
          "name": "stderr"
        },
        {
          "output_type": "stream",
          "text": [
            "['ray tracing', 'Ray tracing (graphics)']\n",
            "['eyetracked foveation', '']\n",
            "['new platform', 'New Payments Platform']\n",
            "['share scene', 'Warez scene']\n"
          ],
          "name": "stdout"
        },
        {
          "output_type": "stream",
          "text": [
            "WARNING:root:LoadFile._df_counts is hard coded to /usr/local/lib/python3.6/dist-packages/pke/models/df-semeval2010.tsv.gz\n"
          ],
          "name": "stderr"
        },
        {
          "output_type": "stream",
          "text": [
            "['ambient occlusion', 'Ambient occlusion']\n",
            "['approximate global illumination', 'Global illumination']\n",
            "['realtime rendering', 'Real-time computer graphics']\n"
          ],
          "name": "stdout"
        },
        {
          "output_type": "stream",
          "text": [
            "WARNING:root:LoadFile._df_counts is hard coded to /usr/local/lib/python3.6/dist-packages/pke/models/df-semeval2010.tsv.gz\n"
          ],
          "name": "stderr"
        },
        {
          "output_type": "stream",
          "text": [
            "['existing method', 'Spectral element method']\n",
            "['reconstructed 3d', '3D reconstruction']\n"
          ],
          "name": "stdout"
        },
        {
          "output_type": "stream",
          "text": [
            "WARNING:root:LoadFile._df_counts is hard coded to /usr/local/lib/python3.6/dist-packages/pke/models/df-semeval2010.tsv.gz\n"
          ],
          "name": "stderr"
        },
        {
          "output_type": "stream",
          "text": [
            "['matrix multiplication', 'Matrix multiplication']\n",
            "['tensor core', 'Deep learning super sampling']\n",
            "['sparse matrix multiplication', 'Sparse matrix']\n",
            "['important tool', 'Tool']\n"
          ],
          "name": "stdout"
        },
        {
          "output_type": "stream",
          "text": [
            "WARNING:root:LoadFile._df_counts is hard coded to /usr/local/lib/python3.6/dist-packages/pke/models/df-semeval2010.tsv.gz\n"
          ],
          "name": "stderr"
        },
        {
          "output_type": "stream",
          "text": [
            "['virtual reality', 'Virtual reality']\n",
            "['pilot project', 'Pilot experiment']\n"
          ],
          "name": "stdout"
        },
        {
          "output_type": "stream",
          "text": [
            "WARNING:root:LoadFile._df_counts is hard coded to /usr/local/lib/python3.6/dist-packages/pke/models/df-semeval2010.tsv.gz\n"
          ],
          "name": "stderr"
        },
        {
          "output_type": "stream",
          "text": [
            "['pedestrianprotection performance', '']\n",
            "['world health', 'World Health Organization']\n",
            "['world health organization', 'World Health Organization']\n",
            "['traffic fatal', 'Traffic collision']\n"
          ],
          "name": "stdout"
        },
        {
          "output_type": "stream",
          "text": [
            "WARNING:root:LoadFile._df_counts is hard coded to /usr/local/lib/python3.6/dist-packages/pke/models/df-semeval2010.tsv.gz\n"
          ],
          "name": "stderr"
        },
        {
          "output_type": "stream",
          "text": [
            "['neural network', 'Neural network']\n",
            "['deep neural network', 'Deep learning']\n",
            "['neural network dnn', 'Deep learning']\n"
          ],
          "name": "stdout"
        },
        {
          "output_type": "stream",
          "text": [
            "WARNING:root:LoadFile._df_counts is hard coded to /usr/local/lib/python3.6/dist-packages/pke/models/df-semeval2010.tsv.gz\n"
          ],
          "name": "stderr"
        },
        {
          "output_type": "stream",
          "text": [
            "['perception system', 'Perception']\n",
            "['autonomous vehicle perception', 'Vehicular automation']\n",
            "['vehicle perception system', 'Electric vehicle']\n",
            "['perception system show', 'Visual perception']\n"
          ],
          "name": "stdout"
        },
        {
          "output_type": "stream",
          "text": [
            "WARNING:root:LoadFile._df_counts is hard coded to /usr/local/lib/python3.6/dist-packages/pke/models/df-semeval2010.tsv.gz\n",
            "WARNING:root:LoadFile._df_counts is hard coded to /usr/local/lib/python3.6/dist-packages/pke/models/df-semeval2010.tsv.gz\n"
          ],
          "name": "stderr"
        },
        {
          "output_type": "stream",
          "text": [
            "['autodesk vred help', 'Autodesk']\n",
            "['vred help designer', 'Autodesk']\n",
            "['virtual prototype', 'Virtual prototyping']\n"
          ],
          "name": "stdout"
        },
        {
          "output_type": "stream",
          "text": [
            "WARNING:root:LoadFile._df_counts is hard coded to /usr/local/lib/python3.6/dist-packages/pke/models/df-semeval2010.tsv.gz\n"
          ],
          "name": "stderr"
        },
        {
          "output_type": "stream",
          "text": [
            "['hazardous edge', 'Safety data sheet']\n",
            "['hazardous edge case', 'Safety data sheet']\n",
            "['main evolution', 'Evolution']\n",
            "['autonomous vehicle', 'Autonomous underwater vehicle']\n",
            "['autonomous vehicle industry', 'Self-driving car']\n"
          ],
          "name": "stdout"
        },
        {
          "output_type": "stream",
          "text": [
            "WARNING:root:LoadFile._df_counts is hard coded to /usr/local/lib/python3.6/dist-packages/pke/models/df-semeval2010.tsv.gz\n"
          ],
          "name": "stderr"
        },
        {
          "output_type": "stream",
          "text": [
            "['emerging application', 'Emerging technologies']\n",
            "['autonomous driving', 'Self-driving car']\n",
            "['autonomous driving robot', 'Self-driving car']\n"
          ],
          "name": "stdout"
        },
        {
          "output_type": "stream",
          "text": [
            "WARNING:root:LoadFile._df_counts is hard coded to /usr/local/lib/python3.6/dist-packages/pke/models/df-semeval2010.tsv.gz\n"
          ],
          "name": "stderr"
        },
        {
          "output_type": "stream",
          "text": [
            "['automated driving', 'Self-driving car']\n"
          ],
          "name": "stdout"
        },
        {
          "output_type": "stream",
          "text": [
            "WARNING:root:LoadFile._df_counts is hard coded to /usr/local/lib/python3.6/dist-packages/pke/models/df-semeval2010.tsv.gz\n"
          ],
          "name": "stderr"
        },
        {
          "output_type": "stream",
          "text": [
            "['speaker deepti', 'Lion (2016 film)']\n",
            "['mahajan machine learning', 'K-means clustering']\n",
            "['machine learning engineer', 'Machine learning']\n",
            "['learning engineer ford', 'Ford Motor Company']\n",
            "['industry regulation', 'Regulation']\n"
          ],
          "name": "stdout"
        },
        {
          "output_type": "stream",
          "text": [
            "WARNING:root:LoadFile._df_counts is hard coded to /usr/local/lib/python3.6/dist-packages/pke/models/df-semeval2010.tsv.gz\n"
          ],
          "name": "stderr"
        },
        {
          "output_type": "stream",
          "text": [
            "['endtoend learning', 'Kubeflow']\n",
            "['training endtoend', 'Kubeflow']\n",
            "['training endtoend learning', 'Kubeflow']\n",
            "['self driving', 'Self-driving car']\n",
            "['also simulation', 'Simulation']\n",
            "['also simulation therefore', 'Simulation hypothesis']\n"
          ],
          "name": "stdout"
        },
        {
          "output_type": "stream",
          "text": [
            "WARNING:root:LoadFile._df_counts is hard coded to /usr/local/lib/python3.6/dist-packages/pke/models/df-semeval2010.tsv.gz\n"
          ],
          "name": "stderr"
        },
        {
          "output_type": "stream",
          "text": [
            "['simulated image', 'Screen tearing']\n",
            "['leveraging generative adversarial', 'Generative adversarial network']\n"
          ],
          "name": "stdout"
        },
        {
          "output_type": "stream",
          "text": [
            "WARNING:root:LoadFile._df_counts is hard coded to /usr/local/lib/python3.6/dist-packages/pke/models/df-semeval2010.tsv.gz\n"
          ],
          "name": "stderr"
        },
        {
          "output_type": "stream",
          "text": [
            "['dashcam video', 'Dashcam']\n",
            "['autonomous driving', 'Self-driving car']\n"
          ],
          "name": "stdout"
        },
        {
          "output_type": "stream",
          "text": [
            "WARNING:root:LoadFile._df_counts is hard coded to /usr/local/lib/python3.6/dist-packages/pke/models/df-semeval2010.tsv.gz\n"
          ],
          "name": "stderr"
        },
        {
          "output_type": "stream",
          "text": [
            "['extended capability', 'PCI configuration space']\n",
            "['drive agx', 'Nvidia Drive']\n",
            "['drive agx platform', 'Nvidia Drive']\n",
            "['data science', 'Data science']\n"
          ],
          "name": "stdout"
        },
        {
          "output_type": "stream",
          "text": [
            "WARNING:root:LoadFile._df_counts is hard coded to /usr/local/lib/python3.6/dist-packages/pke/models/df-semeval2010.tsv.gz\n"
          ],
          "name": "stderr"
        },
        {
          "output_type": "stream",
          "text": [
            "['obstacleavoidance driving', '']\n"
          ],
          "name": "stdout"
        },
        {
          "output_type": "stream",
          "text": [
            "WARNING:root:LoadFile._df_counts is hard coded to /usr/local/lib/python3.6/dist-packages/pke/models/df-semeval2010.tsv.gz\n"
          ],
          "name": "stderr"
        },
        {
          "output_type": "stream",
          "text": [
            "['millimeterwave radar', 'MACOM Technology Solutions']\n",
            "['allweather sensor', '']\n",
            "['autonomousdriving level', '']\n",
            "['higher millimeterwave radar', 'Rotational spectroscopy']\n"
          ],
          "name": "stdout"
        },
        {
          "output_type": "stream",
          "text": [
            "WARNING:root:LoadFile._df_counts is hard coded to /usr/local/lib/python3.6/dist-packages/pke/models/df-semeval2010.tsv.gz\n"
          ],
          "name": "stderr"
        },
        {
          "output_type": "stream",
          "text": [
            "['tensorrt conversion', '']\n",
            "['tensorrt optimizes neuralnetwork', '']\n",
            "['optimizes neuralnetwork computation', '']\n"
          ],
          "name": "stdout"
        },
        {
          "output_type": "stream",
          "text": [
            "WARNING:root:LoadFile._df_counts is hard coded to /usr/local/lib/python3.6/dist-packages/pke/models/df-semeval2010.tsv.gz\n"
          ],
          "name": "stderr"
        },
        {
          "output_type": "stream",
          "text": [
            "['gpuaccelerated computational fluid', '']\n",
            "['fluid dynamic software', 'List of computer simulation software']\n",
            "['predicted physical flow', 'Reynolds number']\n"
          ],
          "name": "stdout"
        },
        {
          "output_type": "stream",
          "text": [
            "WARNING:root:LoadFile._df_counts is hard coded to /usr/local/lib/python3.6/dist-packages/pke/models/df-semeval2010.tsv.gz\n"
          ],
          "name": "stderr"
        },
        {
          "output_type": "stream",
          "text": [
            "['panoptic segmentation', 'Image segmentation']\n",
            "['driveavs panoptic segmentation', '']\n"
          ],
          "name": "stdout"
        },
        {
          "output_type": "stream",
          "text": [
            "WARNING:root:LoadFile._df_counts is hard coded to /usr/local/lib/python3.6/dist-packages/pke/models/df-semeval2010.tsv.gz\n"
          ],
          "name": "stderr"
        },
        {
          "output_type": "stream",
          "text": [
            "['virtual testing', 'Network virtualization']\n",
            "['reference map', 'Grid reference']\n",
            "['identical digital twin', 'Digital twin']\n"
          ],
          "name": "stdout"
        },
        {
          "output_type": "stream",
          "text": [
            "WARNING:root:LoadFile._df_counts is hard coded to /usr/local/lib/python3.6/dist-packages/pke/models/df-semeval2010.tsv.gz\n"
          ],
          "name": "stderr"
        },
        {
          "output_type": "stream",
          "text": [
            "['neural network', 'Neural network']\n",
            "['planningcontrol stack', '']\n",
            "['autonomous vehicle', 'Autonomous underwater vehicle']\n",
            "['autonomous vehicle deeplearning', 'Deeplearning4j']\n",
            "['vehicle deeplearning approach', 'Machine learning']\n"
          ],
          "name": "stdout"
        },
        {
          "output_type": "stream",
          "text": [
            "WARNING:root:LoadFile._df_counts is hard coded to /usr/local/lib/python3.6/dist-packages/pke/models/df-semeval2010.tsv.gz\n"
          ],
          "name": "stderr"
        },
        {
          "output_type": "stream",
          "text": [
            "['deeplearning inference', 'Deeplearning4j']\n",
            "['deeplearning inference optimizer', 'Deeplearning4j']\n",
            "['optimize network', 'Self-organizing network']\n",
            "['nvidia deep learning', 'Deep learning super sampling']\n",
            "['deep learning accelerator', 'AI accelerator']\n",
            "['learning accelerator dla', 'DLA']\n"
          ],
          "name": "stdout"
        },
        {
          "output_type": "stream",
          "text": [
            "WARNING:root:LoadFile._df_counts is hard coded to /usr/local/lib/python3.6/dist-packages/pke/models/df-semeval2010.tsv.gz\n"
          ],
          "name": "stderr"
        },
        {
          "output_type": "stream",
          "text": [
            "['global illumination', 'Global illumination']\n",
            "['global illumination renderer', 'Global illumination']\n",
            "['technology behind', 'Porsche 992']\n",
            "['illumination renderer demo', 'Cinema 4D']\n"
          ],
          "name": "stdout"
        },
        {
          "output_type": "stream",
          "text": [
            "WARNING:root:LoadFile._df_counts is hard coded to /usr/local/lib/python3.6/dist-packages/pke/models/df-semeval2010.tsv.gz\n"
          ],
          "name": "stderr"
        },
        {
          "output_type": "stream",
          "text": [
            "['autonomous vehicle', 'Autonomous underwater vehicle']\n",
            "['data management challenge', 'Data management']\n"
          ],
          "name": "stdout"
        },
        {
          "output_type": "stream",
          "text": [
            "WARNING:root:LoadFile._df_counts is hard coded to /usr/local/lib/python3.6/dist-packages/pke/models/df-semeval2010.tsv.gz\n"
          ],
          "name": "stderr"
        },
        {
          "output_type": "stream",
          "text": [
            "['drive agx', 'Nvidia Drive']\n",
            "['autonomous vehicle', 'Autonomous underwater vehicle']\n",
            "['autonomous vehicle av', 'Self-driving car']\n"
          ],
          "name": "stdout"
        },
        {
          "output_type": "stream",
          "text": [
            "WARNING:root:LoadFile._df_counts is hard coded to /usr/local/lib/python3.6/dist-packages/pke/models/df-semeval2010.tsv.gz\n"
          ],
          "name": "stderr"
        },
        {
          "output_type": "stream",
          "text": [
            "['metropolis application running', 'Metropolis–Hastings algorithm']\n",
            "['red hat openshift', 'OpenShift']\n"
          ],
          "name": "stdout"
        },
        {
          "output_type": "stream",
          "text": [
            "WARNING:root:LoadFile._df_counts is hard coded to /usr/local/lib/python3.6/dist-packages/pke/models/df-semeval2010.tsv.gz\n"
          ],
          "name": "stderr"
        },
        {
          "output_type": "stream",
          "text": [
            "['computational approach', 'Computational linguistics']\n",
            "['synthesize slowmotion', '']\n",
            "['synthesize slowmotion video', '']\n",
            "['plain one', 'Plain']\n"
          ],
          "name": "stdout"
        },
        {
          "output_type": "stream",
          "text": [
            "WARNING:root:LoadFile._df_counts is hard coded to /usr/local/lib/python3.6/dist-packages/pke/models/df-semeval2010.tsv.gz\n"
          ],
          "name": "stderr"
        },
        {
          "output_type": "stream",
          "text": [
            "['autonomous vehicle', 'Autonomous underwater vehicle']\n",
            "['temporal information', 'Temporal information retrieval']\n",
            "['selfdriving car', 'Sergei Lemberg']\n",
            "['gained significant', 'Attack on Titan']\n",
            "['gained significant interest', 'Cell therapy']\n"
          ],
          "name": "stdout"
        },
        {
          "output_type": "stream",
          "text": [
            "WARNING:root:LoadFile._df_counts is hard coded to /usr/local/lib/python3.6/dist-packages/pke/models/df-semeval2010.tsv.gz\n"
          ],
          "name": "stderr"
        },
        {
          "output_type": "stream",
          "text": [
            "['calculate surface', 'Gaussian surface']\n",
            "['calculate surface traversability', 'Induction hardening']\n",
            "['implemented ndt', 'Nondestructive testing']\n"
          ],
          "name": "stdout"
        },
        {
          "output_type": "stream",
          "text": [
            "WARNING:root:LoadFile._df_counts is hard coded to /usr/local/lib/python3.6/dist-packages/pke/models/df-semeval2010.tsv.gz\n"
          ],
          "name": "stderr"
        },
        {
          "output_type": "stream",
          "text": [
            "['computational fluid', 'Computational fluid dynamics']\n",
            "['fluid dynamic cfd', 'Computational fluid dynamics']\n",
            "['dynamic cfd simulation', 'Computational fluid dynamics']\n",
            "['cfd simulation ha', 'CFD in buildings']\n",
            "['ha accelerated product', 'List of AMD accelerated processing units']\n",
            "['accelerated product development', 'Highly accelerated life test']\n"
          ],
          "name": "stdout"
        },
        {
          "output_type": "stream",
          "text": [
            "WARNING:root:LoadFile._df_counts is hard coded to /usr/local/lib/python3.6/dist-packages/pke/models/df-semeval2010.tsv.gz\n"
          ],
          "name": "stderr"
        },
        {
          "output_type": "stream",
          "text": [
            "['radar simulation', 'Hardware-in-the-loop simulation']\n",
            "['radar image', 'Imaging radar']\n",
            "['rangedoppler image', '']\n",
            "['physicsbased radar simulation', '']\n"
          ],
          "name": "stdout"
        },
        {
          "output_type": "stream",
          "text": [
            "WARNING:root:LoadFile._df_counts is hard coded to /usr/local/lib/python3.6/dist-packages/pke/models/df-semeval2010.tsv.gz\n"
          ],
          "name": "stderr"
        },
        {
          "output_type": "stream",
          "text": [
            "['virtual validation', 'Emulation for Logic Validation']\n",
            "['automated vehicle', 'Vehicular automation']\n",
            "['automated vehicle av', 'Self-driving car']\n",
            "['vehicle av identify', 'Self-driving car']\n"
          ],
          "name": "stdout"
        },
        {
          "output_type": "stream",
          "text": [
            "WARNING:root:LoadFile._df_counts is hard coded to /usr/local/lib/python3.6/dist-packages/pke/models/df-semeval2010.tsv.gz\n"
          ],
          "name": "stderr"
        },
        {
          "output_type": "stream",
          "text": [
            "['data science', 'Data science']\n",
            "['machine learning', 'Machine learning']\n",
            "['sexiest job', 'Data science']\n"
          ],
          "name": "stdout"
        },
        {
          "output_type": "stream",
          "text": [
            "WARNING:root:LoadFile._df_counts is hard coded to /usr/local/lib/python3.6/dist-packages/pke/models/df-semeval2010.tsv.gz\n"
          ],
          "name": "stderr"
        },
        {
          "output_type": "stream",
          "text": [
            "['machine learning', 'Machine learning']\n",
            "['wolfram language', 'Wolfram Language']\n",
            "['computer vision', 'Computer vision']\n",
            "['content recognition', 'Automatic content recognition']\n",
            "['content recognition scene', 'Outline of object recognition']\n",
            "['recognition scene recogniton', '']\n",
            "['segmenting image', 'Image segmentation']\n"
          ],
          "name": "stdout"
        },
        {
          "output_type": "stream",
          "text": [
            "WARNING:root:LoadFile._df_counts is hard coded to /usr/local/lib/python3.6/dist-packages/pke/models/df-semeval2010.tsv.gz\n"
          ],
          "name": "stderr"
        },
        {
          "output_type": "stream",
          "text": [
            "['deep learning', 'Deep learning']\n",
            "['automated machine learning', 'Automated machine learning']\n",
            "['deep learning model', 'Deep learning']\n"
          ],
          "name": "stdout"
        },
        {
          "output_type": "stream",
          "text": [
            "WARNING:root:LoadFile._df_counts is hard coded to /usr/local/lib/python3.6/dist-packages/pke/models/df-semeval2010.tsv.gz\n"
          ],
          "name": "stderr"
        },
        {
          "output_type": "stream",
          "text": [
            "['data pipeline', 'Pipeline (computing)']\n"
          ],
          "name": "stdout"
        },
        {
          "output_type": "stream",
          "text": [
            "WARNING:root:LoadFile._df_counts is hard coded to /usr/local/lib/python3.6/dist-packages/pke/models/df-semeval2010.tsv.gz\n"
          ],
          "name": "stderr"
        },
        {
          "output_type": "stream",
          "text": [
            "['microsoft search', 'Microsoft Bing']\n"
          ],
          "name": "stdout"
        },
        {
          "output_type": "stream",
          "text": [
            "WARNING:root:LoadFile._df_counts is hard coded to /usr/local/lib/python3.6/dist-packages/pke/models/df-semeval2010.tsv.gz\n"
          ],
          "name": "stderr"
        },
        {
          "output_type": "stream",
          "text": [
            "['datacentric application', 'LSI Corporation']\n",
            "['datacentric application utilising', '']\n",
            "['machine learning model', 'Machine learning']\n",
            "['common solution', 'Solution']\n",
            "['good pattern', 'Composite pattern']\n"
          ],
          "name": "stdout"
        },
        {
          "output_type": "stream",
          "text": [
            "WARNING:root:LoadFile._df_counts is hard coded to /usr/local/lib/python3.6/dist-packages/pke/models/df-semeval2010.tsv.gz\n"
          ],
          "name": "stderr"
        },
        {
          "output_type": "stream",
          "text": [
            "['artificial intelligence', 'Artificial intelligence']\n",
            "['current ethical problem', 'Trolley problem']\n",
            "['building artificial intelligence', 'Quantum artificial intelligence']\n",
            "['artificial intelligence solution', 'Applications of artificial intelligence']\n",
            "['artificial intelligence system', 'Artificial Intelligence System']\n",
            "['machine learning', 'Machine learning']\n",
            "['machine learning algorithm', 'Machine learning']\n"
          ],
          "name": "stdout"
        },
        {
          "output_type": "stream",
          "text": [
            "WARNING:root:LoadFile._df_counts is hard coded to /usr/local/lib/python3.6/dist-packages/pke/models/df-semeval2010.tsv.gz\n"
          ],
          "name": "stderr"
        },
        {
          "output_type": "stream",
          "text": [
            "['iot device', 'Internet of things']\n",
            "['hardware order', 'Open-source hardware']\n",
            "['existing standard', 'Caesium standard']\n",
            "['existing standard data', 'Cross-industry standard process for data mining']\n"
          ],
          "name": "stdout"
        },
        {
          "output_type": "stream",
          "text": [
            "WARNING:root:LoadFile._df_counts is hard coded to /usr/local/lib/python3.6/dist-packages/pke/models/df-semeval2010.tsv.gz\n"
          ],
          "name": "stderr"
        },
        {
          "output_type": "stream",
          "text": [
            "['currency exchange', 'Foreign exchange market']\n",
            "['currency exchange rate', 'Exchange rate']\n",
            "['social data', 'Social data analysis']\n",
            "['online learning', 'Educational technology']\n",
            "['project iunera sought', '']\n"
          ],
          "name": "stdout"
        },
        {
          "output_type": "stream",
          "text": [
            "WARNING:root:LoadFile._df_counts is hard coded to /usr/local/lib/python3.6/dist-packages/pke/models/df-semeval2010.tsv.gz\n"
          ],
          "name": "stderr"
        },
        {
          "output_type": "stream",
          "text": [
            "['currency exchange', 'Foreign exchange market']\n",
            "['currency exchange rate', 'Exchange rate']\n",
            "['social data', 'Social data analysis']\n",
            "['project iunera sought', '']\n",
            "['predict crypto', 'Cryptocurrency wallet']\n",
            "['predict crypto currency', 'Virtual currency law in the United States']\n",
            "['utilizing social data', 'Social media']\n"
          ],
          "name": "stdout"
        },
        {
          "output_type": "stream",
          "text": [
            "WARNING:root:LoadFile._df_counts is hard coded to /usr/local/lib/python3.6/dist-packages/pke/models/df-semeval2010.tsv.gz\n"
          ],
          "name": "stderr"
        },
        {
          "output_type": "stream",
          "text": [
            "['data quality', 'Data quality']\n",
            "['routing solution', 'Static routing']\n",
            "['kafka stream', 'Apache Kafka']\n",
            "['streaming platform', 'Streaming service provider']\n",
            "['data quality solution', 'Data quality']\n"
          ],
          "name": "stdout"
        },
        {
          "output_type": "stream",
          "text": [
            "WARNING:root:LoadFile._df_counts is hard coded to /usr/local/lib/python3.6/dist-packages/pke/models/df-semeval2010.tsv.gz\n"
          ],
          "name": "stderr"
        },
        {
          "output_type": "stream",
          "text": [
            "['artificial intelligence', 'Artificial intelligence']\n",
            "['translation system', 'Machine translation']\n",
            "['machine translation', 'Machine translation']\n"
          ],
          "name": "stdout"
        },
        {
          "output_type": "stream",
          "text": [
            "WARNING:root:LoadFile._df_counts is hard coded to /usr/local/lib/python3.6/dist-packages/pke/models/df-semeval2010.tsv.gz\n"
          ],
          "name": "stderr"
        },
        {
          "output_type": "stream",
          "text": [
            "['personalized recommendation', 'Recommender system']\n",
            "['algorithmic architecture', 'Algorithm']\n",
            "['sparkbased offline', '']\n",
            "['sparkbased offline layer', '']\n"
          ],
          "name": "stdout"
        },
        {
          "output_type": "stream",
          "text": [
            "WARNING:root:LoadFile._df_counts is hard coded to /usr/local/lib/python3.6/dist-packages/pke/models/df-semeval2010.tsv.gz\n"
          ],
          "name": "stderr"
        },
        {
          "output_type": "stream",
          "text": [
            "['streaming platform', 'Streaming service provider']\n",
            "['system part hadoop', 'Apache Hadoop']\n",
            "['hadoop made fast', 'Apache Hadoop']\n"
          ],
          "name": "stdout"
        },
        {
          "output_type": "stream",
          "text": [
            "WARNING:root:LoadFile._df_counts is hard coded to /usr/local/lib/python3.6/dist-packages/pke/models/df-semeval2010.tsv.gz\n"
          ],
          "name": "stderr"
        },
        {
          "output_type": "stream",
          "text": [
            "['streaming platform', 'Streaming service provider']\n",
            "['system part hadoop', 'Apache Hadoop']\n",
            "['hadoop made fast', 'Apache Hadoop']\n"
          ],
          "name": "stdout"
        },
        {
          "output_type": "stream",
          "text": [
            "WARNING:root:LoadFile._df_counts is hard coded to /usr/local/lib/python3.6/dist-packages/pke/models/df-semeval2010.tsv.gz\n",
            "WARNING:root:LoadFile._df_counts is hard coded to /usr/local/lib/python3.6/dist-packages/pke/models/df-semeval2010.tsv.gz\n"
          ],
          "name": "stderr"
        },
        {
          "output_type": "stream",
          "text": [
            "['management application', 'Application performance management']\n",
            "['artificial intelligence', 'Artificial intelligence']\n",
            "['artificial intelligence system', 'Artificial Intelligence System']\n",
            "['general knowledge quiz', \"Jay's Virtual Pub Quiz\"]\n"
          ],
          "name": "stdout"
        },
        {
          "output_type": "stream",
          "text": [
            "WARNING:root:LoadFile._df_counts is hard coded to /usr/local/lib/python3.6/dist-packages/pke/models/df-semeval2010.tsv.gz\n"
          ],
          "name": "stderr"
        },
        {
          "output_type": "stream",
          "text": [
            "['company amundsen', 'Roald Amundsen']\n",
            "['company data', 'List of big data companies']\n",
            "['commercial tool', 'Tool (band)']\n"
          ],
          "name": "stdout"
        },
        {
          "output_type": "stream",
          "text": [
            "WARNING:root:LoadFile._df_counts is hard coded to /usr/local/lib/python3.6/dist-packages/pke/models/df-semeval2010.tsv.gz\n"
          ],
          "name": "stderr"
        },
        {
          "output_type": "stream",
          "text": [
            "['neural network', 'Neural network']\n",
            "['product naming', 'Product naming']\n",
            "['requires creativity', 'Creativity and mental health']\n",
            "['goaldriven process', '']\n",
            "['name candidate', 'Mononymous person']\n"
          ],
          "name": "stdout"
        },
        {
          "output_type": "stream",
          "text": [
            "WARNING:root:LoadFile._df_counts is hard coded to /usr/local/lib/python3.6/dist-packages/pke/models/df-semeval2010.tsv.gz\n"
          ],
          "name": "stderr"
        },
        {
          "output_type": "stream",
          "text": [
            "['interconnected digital republic', 'Dominican Republic']\n"
          ],
          "name": "stdout"
        },
        {
          "output_type": "stream",
          "text": [
            "WARNING:root:LoadFile._df_counts is hard coded to /usr/local/lib/python3.6/dist-packages/pke/models/df-semeval2010.tsv.gz\n"
          ],
          "name": "stderr"
        },
        {
          "output_type": "stream",
          "text": [
            "['image recognition', 'Computer vision']\n",
            "['image recognition model', 'Computer vision']\n",
            "['complex image recognition', 'Computer vision']\n"
          ],
          "name": "stdout"
        },
        {
          "output_type": "stream",
          "text": [
            "WARNING:root:LoadFile._df_counts is hard coded to /usr/local/lib/python3.6/dist-packages/pke/models/df-semeval2010.tsv.gz\n"
          ],
          "name": "stderr"
        },
        {
          "output_type": "stream",
          "text": [
            "['digital business', 'Digital transformation']\n",
            "['business model', 'Business model']\n",
            "['compete new', 'Non-compete clause']\n"
          ],
          "name": "stdout"
        },
        {
          "output_type": "stream",
          "text": [
            "WARNING:root:LoadFile._df_counts is hard coded to /usr/local/lib/python3.6/dist-packages/pke/models/df-semeval2010.tsv.gz\n"
          ],
          "name": "stderr"
        },
        {
          "output_type": "stream",
          "text": [
            "['customer feedback', 'Customer service']\n",
            "['optimize product', 'Product optimization']\n",
            "['customer survey', 'Customer Survey']\n",
            "['observation data', 'Observation']\n",
            "['observation data within', 'Unit of observation']\n"
          ],
          "name": "stdout"
        },
        {
          "output_type": "stream",
          "text": [
            "WARNING:root:LoadFile._df_counts is hard coded to /usr/local/lib/python3.6/dist-packages/pke/models/df-semeval2010.tsv.gz\n"
          ],
          "name": "stderr"
        },
        {
          "output_type": "stream",
          "text": [
            "['data science', 'Data science']\n"
          ],
          "name": "stdout"
        },
        {
          "output_type": "stream",
          "text": [
            "WARNING:root:LoadFile._df_counts is hard coded to /usr/local/lib/python3.6/dist-packages/pke/models/df-semeval2010.tsv.gz\n"
          ],
          "name": "stderr"
        },
        {
          "output_type": "stream",
          "text": [
            "['data engineer', 'Information engineering']\n",
            "['common response', 'Response']\n",
            "['data pipeline', 'Pipeline (computing)']\n",
            "['data engineer show', 'Engineer']\n"
          ],
          "name": "stdout"
        },
        {
          "output_type": "stream",
          "text": [
            "WARNING:root:LoadFile._df_counts is hard coded to /usr/local/lib/python3.6/dist-packages/pke/models/df-semeval2010.tsv.gz\n"
          ],
          "name": "stderr"
        },
        {
          "output_type": "stream",
          "text": [
            "['data science', 'Data science']\n",
            "['data science today', 'Data analysis']\n",
            "['year sharing collaborating', 'Collaboration']\n"
          ],
          "name": "stdout"
        },
        {
          "output_type": "stream",
          "text": [
            "WARNING:root:LoadFile._df_counts is hard coded to /usr/local/lib/python3.6/dist-packages/pke/models/df-semeval2010.tsv.gz\n"
          ],
          "name": "stderr"
        },
        {
          "output_type": "stream",
          "text": [
            "['realtime data', 'Real-time data']\n",
            "['azure stream', 'Azure Stream Analytics']\n",
            "['split second decision', 'Split decision']\n",
            "['realtime data report', 'Real-time data']\n"
          ],
          "name": "stdout"
        },
        {
          "output_type": "stream",
          "text": [
            "WARNING:root:LoadFile._df_counts is hard coded to /usr/local/lib/python3.6/dist-packages/pke/models/df-semeval2010.tsv.gz\n"
          ],
          "name": "stderr"
        },
        {
          "output_type": "stream",
          "text": [
            "['data science', 'Data science']\n",
            "['data scientist', 'Data science']\n",
            "['data science platform', 'Data science']\n",
            "['architecting building', 'Architects and Building Branch']\n"
          ],
          "name": "stdout"
        },
        {
          "output_type": "stream",
          "text": [
            "WARNING:root:LoadFile._df_counts is hard coded to /usr/local/lib/python3.6/dist-packages/pke/models/df-semeval2010.tsv.gz\n"
          ],
          "name": "stderr"
        },
        {
          "output_type": "stream",
          "text": [
            "['machine learning', 'Machine learning']\n",
            "['machine learning method', 'Machine learning']\n"
          ],
          "name": "stdout"
        },
        {
          "output_type": "stream",
          "text": [
            "WARNING:root:LoadFile._df_counts is hard coded to /usr/local/lib/python3.6/dist-packages/pke/models/df-semeval2010.tsv.gz\n"
          ],
          "name": "stderr"
        },
        {
          "output_type": "stream",
          "text": [
            "['artificial intelligence', 'Artificial intelligence']\n"
          ],
          "name": "stdout"
        },
        {
          "output_type": "stream",
          "text": [
            "WARNING:root:LoadFile._df_counts is hard coded to /usr/local/lib/python3.6/dist-packages/pke/models/df-semeval2010.tsv.gz\n"
          ],
          "name": "stderr"
        },
        {
          "output_type": "stream",
          "text": [
            "['decision process', 'Decision-making']\n",
            "['retaliate action', 'Retaliation (disambiguation)']\n",
            "['game theory', 'Game theory']\n"
          ],
          "name": "stdout"
        },
        {
          "output_type": "stream",
          "text": [
            "WARNING:root:LoadFile._df_counts is hard coded to /usr/local/lib/python3.6/dist-packages/pke/models/df-semeval2010.tsv.gz\n"
          ],
          "name": "stderr"
        },
        {
          "output_type": "stream",
          "text": [
            "['hotel cancellation', 'Online hotel reservations']\n",
            "['cancellation result', 'Project cancellation']\n",
            "['lost revenue', 'Lost sales']\n"
          ],
          "name": "stdout"
        },
        {
          "output_type": "stream",
          "text": [
            "WARNING:root:LoadFile._df_counts is hard coded to /usr/local/lib/python3.6/dist-packages/pke/models/df-semeval2010.tsv.gz\n"
          ],
          "name": "stderr"
        },
        {
          "output_type": "stream",
          "text": [
            "['real time', 'Real-time']\n",
            "['advanced stream', 'Advanced Systems Format']\n"
          ],
          "name": "stdout"
        },
        {
          "output_type": "stream",
          "text": [
            "WARNING:root:LoadFile._df_counts is hard coded to /usr/local/lib/python3.6/dist-packages/pke/models/df-semeval2010.tsv.gz\n"
          ],
          "name": "stderr"
        },
        {
          "output_type": "stream",
          "text": [
            "['fullhd synthetic face', '']\n"
          ],
          "name": "stdout"
        },
        {
          "output_type": "stream",
          "text": [
            "WARNING:root:LoadFile._df_counts is hard coded to /usr/local/lib/python3.6/dist-packages/pke/models/df-semeval2010.tsv.gz\n"
          ],
          "name": "stderr"
        },
        {
          "output_type": "stream",
          "text": [
            "['actionable insight', 'Domain driven data mining']\n"
          ],
          "name": "stdout"
        },
        {
          "output_type": "stream",
          "text": [
            "WARNING:root:LoadFile._df_counts is hard coded to /usr/local/lib/python3.6/dist-packages/pke/models/df-semeval2010.tsv.gz\n"
          ],
          "name": "stderr"
        },
        {
          "output_type": "stream",
          "text": [
            "['big data', 'Big data']\n",
            "['big data world', 'Big data']\n",
            "['data world ha', 'A-ha']\n",
            "['making datadriven decision', '']\n"
          ],
          "name": "stdout"
        },
        {
          "output_type": "stream",
          "text": [
            "WARNING:root:LoadFile._df_counts is hard coded to /usr/local/lib/python3.6/dist-packages/pke/models/df-semeval2010.tsv.gz\n"
          ],
          "name": "stderr"
        },
        {
          "output_type": "stream",
          "text": [
            "['relational model', 'Relational model']\n",
            "['sql ha', 'MySQL']\n",
            "['message behind', 'Instant messaging']\n"
          ],
          "name": "stdout"
        },
        {
          "output_type": "stream",
          "text": [
            "WARNING:root:LoadFile._df_counts is hard coded to /usr/local/lib/python3.6/dist-packages/pke/models/df-semeval2010.tsv.gz\n",
            "WARNING:root:LoadFile._df_counts is hard coded to /usr/local/lib/python3.6/dist-packages/pke/models/df-semeval2010.tsv.gz\n"
          ],
          "name": "stderr"
        },
        {
          "output_type": "stream",
          "text": [
            "['ai system', 'Artificial intelligence']\n",
            "['labelling data', 'Labeled data']\n",
            "['labelling data yet', 'Globally Harmonized System of Classification and Labelling of Chemicals']\n",
            "['team put', 'Australia national cricket team']\n"
          ],
          "name": "stdout"
        },
        {
          "output_type": "stream",
          "text": [
            "WARNING:root:LoadFile._df_counts is hard coded to /usr/local/lib/python3.6/dist-packages/pke/models/df-semeval2010.tsv.gz\n"
          ],
          "name": "stderr"
        },
        {
          "output_type": "stream",
          "text": [
            "['data analysis', 'Data analysis']\n",
            "['big data', 'Big data']\n",
            "['data processing', 'Data processing']\n",
            "['ai model', 'OpenAI']\n",
            "['distributed data analysis', 'Data analysis']\n"
          ],
          "name": "stdout"
        },
        {
          "output_type": "stream",
          "text": [
            "WARNING:root:LoadFile._df_counts is hard coded to /usr/local/lib/python3.6/dist-packages/pke/models/df-semeval2010.tsv.gz\n"
          ],
          "name": "stderr"
        },
        {
          "output_type": "stream",
          "text": [
            "['team vygantas ha', 'Lithuania']\n",
            "['selling price', 'Average selling price']\n",
            "['exciting journey', 'Kriti Sanon']\n"
          ],
          "name": "stdout"
        },
        {
          "output_type": "stream",
          "text": [
            "WARNING:root:LoadFile._df_counts is hard coded to /usr/local/lib/python3.6/dist-packages/pke/models/df-semeval2010.tsv.gz\n"
          ],
          "name": "stderr"
        },
        {
          "output_type": "stream",
          "text": [
            "['data science', 'Data science']\n",
            "['data science ha', 'Data collection']\n",
            "['sophisticated analysis tool', 'Static program analysis']\n"
          ],
          "name": "stdout"
        },
        {
          "output_type": "stream",
          "text": [
            "WARNING:root:LoadFile._df_counts is hard coded to /usr/local/lib/python3.6/dist-packages/pke/models/df-semeval2010.tsv.gz\n"
          ],
          "name": "stderr"
        },
        {
          "output_type": "stream",
          "text": [
            "['winning computer', 'Stanford University Computer Science']\n",
            "['winning computer game', 'Video game']\n",
            "['human reinforcement', 'Reinforcement']\n",
            "['human reinforcement learning', 'Reinforcement learning']\n",
            "['reinforcement learning rl', 'Reinforcement learning']\n"
          ],
          "name": "stdout"
        },
        {
          "output_type": "stream",
          "text": [
            "WARNING:root:LoadFile._df_counts is hard coded to /usr/local/lib/python3.6/dist-packages/pke/models/df-semeval2010.tsv.gz\n"
          ],
          "name": "stderr"
        },
        {
          "output_type": "stream",
          "text": [
            "['opensource multimodel', '']\n",
            "['thing ecosystem', 'Man-Thing']\n",
            "['multimodel capability', 'NoSQL']\n",
            "['popular opensource', 'Integrated development environment']\n",
            "['popular opensource db', 'Open-source software']\n"
          ],
          "name": "stdout"
        },
        {
          "output_type": "stream",
          "text": [
            "WARNING:root:LoadFile._df_counts is hard coded to /usr/local/lib/python3.6/dist-packages/pke/models/df-semeval2010.tsv.gz\n"
          ],
          "name": "stderr"
        },
        {
          "output_type": "stream",
          "text": [
            "['distributed virtual graph', 'Distributed computing']\n"
          ],
          "name": "stdout"
        },
        {
          "output_type": "stream",
          "text": [
            "WARNING:root:LoadFile._df_counts is hard coded to /usr/local/lib/python3.6/dist-packages/pke/models/df-semeval2010.tsv.gz\n"
          ],
          "name": "stderr"
        },
        {
          "output_type": "stream",
          "text": [
            "['time data governance', 'E-governance']\n"
          ],
          "name": "stdout"
        },
        {
          "output_type": "stream",
          "text": [
            "WARNING:root:LoadFile._df_counts is hard coded to /usr/local/lib/python3.6/dist-packages/pke/models/df-semeval2010.tsv.gz\n"
          ],
          "name": "stderr"
        },
        {
          "output_type": "stream",
          "text": [
            "['combine apache', 'Apache License']\n",
            "['apache flink apache', 'Apache Flink']\n",
            "['flink apache nifi', 'Apache Kafka']\n",
            "['apache nifi apache', 'Apache NiFi']\n",
            "['apache kudu', 'Apache Kudu']\n"
          ],
          "name": "stdout"
        },
        {
          "output_type": "stream",
          "text": [
            "WARNING:root:LoadFile._df_counts is hard coded to /usr/local/lib/python3.6/dist-packages/pke/models/df-semeval2010.tsv.gz\n"
          ],
          "name": "stderr"
        },
        {
          "output_type": "stream",
          "text": [
            "['company seem', '2si']\n"
          ],
          "name": "stdout"
        },
        {
          "output_type": "stream",
          "text": [
            "WARNING:root:LoadFile._df_counts is hard coded to /usr/local/lib/python3.6/dist-packages/pke/models/df-semeval2010.tsv.gz\n"
          ],
          "name": "stderr"
        },
        {
          "output_type": "stream",
          "text": [
            "['streaming platform', 'Streaming service provider']\n",
            "['key data infrastructure', 'Public key infrastructure']\n",
            "['data infrastructure technology', 'IT infrastructure']\n"
          ],
          "name": "stdout"
        },
        {
          "output_type": "stream",
          "text": [
            "WARNING:root:LoadFile._df_counts is hard coded to /usr/local/lib/python3.6/dist-packages/pke/models/df-semeval2010.tsv.gz\n"
          ],
          "name": "stderr"
        },
        {
          "output_type": "stream",
          "text": [
            "['ai technology', 'Artificial intelligence']\n",
            "['human intelligence', 'Human intelligence']\n",
            "['eliciting human', 'Elicitation']\n"
          ],
          "name": "stdout"
        },
        {
          "output_type": "stream",
          "text": [
            "WARNING:root:LoadFile._df_counts is hard coded to /usr/local/lib/python3.6/dist-packages/pke/models/df-semeval2010.tsv.gz\n"
          ],
          "name": "stderr"
        },
        {
          "output_type": "stream",
          "text": [
            "['analytics program', 'Analytics']\n",
            "['revolutionized data', 'Master data']\n",
            "['revolutionized data consumption', 'Big data']\n"
          ],
          "name": "stdout"
        },
        {
          "output_type": "stream",
          "text": [
            "WARNING:root:LoadFile._df_counts is hard coded to /usr/local/lib/python3.6/dist-packages/pke/models/df-semeval2010.tsv.gz\n"
          ],
          "name": "stderr"
        },
        {
          "output_type": "stream",
          "text": [
            "['object storage', 'Object storage']\n",
            "['better versioning', 'Software versioning']\n",
            "['open source', 'Open source']\n",
            "['open source project', 'Open source']\n",
            "['source project providing', 'Free and open-source software']\n",
            "['data versioning', 'Software versioning']\n"
          ],
          "name": "stdout"
        },
        {
          "output_type": "stream",
          "text": [
            "WARNING:root:LoadFile._df_counts is hard coded to /usr/local/lib/python3.6/dist-packages/pke/models/df-semeval2010.tsv.gz\n"
          ],
          "name": "stderr"
        },
        {
          "output_type": "stream",
          "text": [
            "['design system', 'Systems design']\n"
          ],
          "name": "stdout"
        },
        {
          "output_type": "stream",
          "text": [
            "WARNING:root:LoadFile._df_counts is hard coded to /usr/local/lib/python3.6/dist-packages/pke/models/df-semeval2010.tsv.gz\n"
          ],
          "name": "stderr"
        },
        {
          "output_type": "stream",
          "text": [
            "['azure synapse', 'Microsoft Azure']\n",
            "['azure sql data', 'Microsoft Azure SQL Database']\n",
            "['sql data warehouse', 'Microsoft Azure SQL Database']\n",
            "['limitless analytics service', 'IBM Cloud Object Storage']\n"
          ],
          "name": "stdout"
        },
        {
          "output_type": "stream",
          "text": [
            "WARNING:root:LoadFile._df_counts is hard coded to /usr/local/lib/python3.6/dist-packages/pke/models/df-semeval2010.tsv.gz\n"
          ],
          "name": "stderr"
        },
        {
          "output_type": "stream",
          "text": [
            "['data source', 'Data source']\n",
            "['use case', 'Use case']\n",
            "['open source', 'Open source']\n",
            "['distributed sql engine', 'Presto (SQL query engine)']\n",
            "['query high concurrency', 'Isolation (database systems)']\n"
          ],
          "name": "stdout"
        },
        {
          "output_type": "stream",
          "text": [
            "WARNING:root:LoadFile._df_counts is hard coded to /usr/local/lib/python3.6/dist-packages/pke/models/df-semeval2010.tsv.gz\n"
          ],
          "name": "stderr"
        },
        {
          "output_type": "stream",
          "text": [
            "['data science', 'Data science']\n",
            "['apply data science', 'Data type']\n",
            "['business challenge', 'Business']\n",
            "['ensure success', 'Customer success']\n"
          ],
          "name": "stdout"
        },
        {
          "output_type": "stream",
          "text": [
            "WARNING:root:LoadFile._df_counts is hard coded to /usr/local/lib/python3.6/dist-packages/pke/models/df-semeval2010.tsv.gz\n"
          ],
          "name": "stderr"
        },
        {
          "output_type": "stream",
          "text": [
            "['machine learning', 'Machine learning']\n",
            "['cloud service', 'Cloud computing']\n",
            "['data source', 'Data source']\n"
          ],
          "name": "stdout"
        },
        {
          "output_type": "stream",
          "text": [
            "WARNING:root:LoadFile._df_counts is hard coded to /usr/local/lib/python3.6/dist-packages/pke/models/df-semeval2010.tsv.gz\n"
          ],
          "name": "stderr"
        },
        {
          "output_type": "stream",
          "text": [
            "['space race', 'Space Race']\n",
            "['develop space', 'United States Space Force']\n",
            "['develop space technology', 'Space technology']\n"
          ],
          "name": "stdout"
        },
        {
          "output_type": "stream",
          "text": [
            "WARNING:root:LoadFile._df_counts is hard coded to /usr/local/lib/python3.6/dist-packages/pke/models/df-semeval2010.tsv.gz\n"
          ],
          "name": "stderr"
        },
        {
          "output_type": "stream",
          "text": [
            "['engine public data', 'List of search engines']\n",
            "['interest analysis', 'Interest']\n",
            "['interest analysis tool', 'Kiuwan']\n",
            "['analysis tool however', 'SWOT analysis']\n"
          ],
          "name": "stdout"
        },
        {
          "output_type": "stream",
          "text": [
            "WARNING:root:LoadFile._df_counts is hard coded to /usr/local/lib/python3.6/dist-packages/pke/models/df-semeval2010.tsv.gz\n"
          ],
          "name": "stderr"
        },
        {
          "output_type": "stream",
          "text": [
            "['personal data', 'Personal data']\n",
            "['data market', 'Market data']\n",
            "['data market data', 'Market data']\n",
            "['market data analysis', 'Data analysis']\n",
            "['data exchange', 'Data exchange']\n",
            "['radically change', 'Radical Change']\n",
            "['talk silvan', 'Silvan Zingg']\n"
          ],
          "name": "stdout"
        },
        {
          "output_type": "stream",
          "text": [
            "WARNING:root:LoadFile._df_counts is hard coded to /usr/local/lib/python3.6/dist-packages/pke/models/df-semeval2010.tsv.gz\n"
          ],
          "name": "stderr"
        },
        {
          "output_type": "stream",
          "text": [
            "['machine learning', 'Machine learning']\n",
            "['great tool', 'Collaboration tool']\n",
            "['data science', 'Data science']\n"
          ],
          "name": "stdout"
        },
        {
          "output_type": "stream",
          "text": [
            "WARNING:root:LoadFile._df_counts is hard coded to /usr/local/lib/python3.6/dist-packages/pke/models/df-semeval2010.tsv.gz\n"
          ],
          "name": "stderr"
        },
        {
          "output_type": "stream",
          "text": [
            "['machine learning', 'Machine learning']\n",
            "['machine learning pipeline', 'Automated machine learning']\n",
            "['ml model', 'ML']\n",
            "['case study', 'Case study']\n",
            "['productionising machine', 'Data mining']\n",
            "['productionising machine learning', 'Data mining']\n",
            "['data scientist', 'Data science']\n"
          ],
          "name": "stdout"
        },
        {
          "output_type": "stream",
          "text": [
            "WARNING:root:LoadFile._df_counts is hard coded to /usr/local/lib/python3.6/dist-packages/pke/models/df-semeval2010.tsv.gz\n"
          ],
          "name": "stderr"
        },
        {
          "output_type": "stream",
          "text": [
            "['data use industry', 'Cross-industry standard process for data mining']\n",
            "['industry different view', 'Resource-based view']\n",
            "['artificial intelligence', 'Artificial intelligence']\n",
            "['artificial intelligence project', 'List of artificial intelligence projects']\n"
          ],
          "name": "stdout"
        },
        {
          "output_type": "stream",
          "text": [
            "WARNING:root:LoadFile._df_counts is hard coded to /usr/local/lib/python3.6/dist-packages/pke/models/df-semeval2010.tsv.gz\n"
          ],
          "name": "stderr"
        },
        {
          "output_type": "stream",
          "text": [
            "['really expect', 'Expect']\n",
            "['moral compass', 'Morality']\n"
          ],
          "name": "stdout"
        },
        {
          "output_type": "stream",
          "text": [
            "WARNING:root:LoadFile._df_counts is hard coded to /usr/local/lib/python3.6/dist-packages/pke/models/df-semeval2010.tsv.gz\n"
          ],
          "name": "stderr"
        },
        {
          "output_type": "stream",
          "text": [
            "['machine learning', 'Machine learning']\n",
            "['machine learning model', 'Machine learning']\n",
            "['bigquery ml', 'Google Cloud Platform']\n",
            "['query editor', 'Query letter']\n"
          ],
          "name": "stdout"
        },
        {
          "output_type": "stream",
          "text": [
            "WARNING:root:LoadFile._df_counts is hard coded to /usr/local/lib/python3.6/dist-packages/pke/models/df-semeval2010.tsv.gz\n"
          ],
          "name": "stderr"
        },
        {
          "output_type": "stream",
          "text": [
            "['ml component', 'Standard ML']\n"
          ],
          "name": "stdout"
        },
        {
          "output_type": "stream",
          "text": [
            "WARNING:root:LoadFile._df_counts is hard coded to /usr/local/lib/python3.6/dist-packages/pke/models/df-semeval2010.tsv.gz\n"
          ],
          "name": "stderr"
        },
        {
          "output_type": "stream",
          "text": [
            "['batch processing', 'Batch processing']\n",
            "['batch processing model', 'Batch processing']\n",
            "['stream processing', 'Stream processing']\n",
            "['data streaming', 'Streaming data']\n"
          ],
          "name": "stdout"
        },
        {
          "output_type": "stream",
          "text": [
            "WARNING:root:LoadFile._df_counts is hard coded to /usr/local/lib/python3.6/dist-packages/pke/models/df-semeval2010.tsv.gz\n"
          ],
          "name": "stderr"
        },
        {
          "output_type": "stream",
          "text": [
            "['partial erroneous missing', 'Principal component analysis']\n"
          ],
          "name": "stdout"
        },
        {
          "output_type": "stream",
          "text": [
            "WARNING:root:LoadFile._df_counts is hard coded to /usr/local/lib/python3.6/dist-packages/pke/models/df-semeval2010.tsv.gz\n"
          ],
          "name": "stderr"
        },
        {
          "output_type": "stream",
          "text": [
            "['ml model', 'ML']\n",
            "['quality property', 'Quality']\n",
            "['machine learning', 'Machine learning']\n",
            "['learning ml model', 'Hyperparameter (machine learning)']\n"
          ],
          "name": "stdout"
        },
        {
          "output_type": "stream",
          "text": [
            "WARNING:root:LoadFile._df_counts is hard coded to /usr/local/lib/python3.6/dist-packages/pke/models/df-semeval2010.tsv.gz\n"
          ],
          "name": "stderr"
        },
        {
          "output_type": "stream",
          "text": [
            "['practical case', 'Practical Magic']\n",
            "['practical case study', 'Case study']\n"
          ],
          "name": "stdout"
        },
        {
          "output_type": "stream",
          "text": [
            "WARNING:root:LoadFile._df_counts is hard coded to /usr/local/lib/python3.6/dist-packages/pke/models/df-semeval2010.tsv.gz\n"
          ],
          "name": "stderr"
        },
        {
          "output_type": "stream",
          "text": [
            "['data discovery', 'Data mining']\n",
            "['big data', 'Big data']\n",
            "['data scientist', 'Data science']\n",
            "['successful implementation', 'Implementation']\n",
            "['data discovery solution', 'Data mining']\n",
            "['true democratisation', '2014 Egyptian presidential election']\n",
            "['enterprise context', 'System context diagram']\n",
            "['oldschool big', 'Jungle music']\n"
          ],
          "name": "stdout"
        },
        {
          "output_type": "stream",
          "text": [
            "WARNING:root:LoadFile._df_counts is hard coded to /usr/local/lib/python3.6/dist-packages/pke/models/df-semeval2010.tsv.gz\n"
          ],
          "name": "stderr"
        },
        {
          "output_type": "stream",
          "text": [
            "['high data quality', 'Data quality']\n",
            "['machine learning', 'Machine learning']\n"
          ],
          "name": "stdout"
        },
        {
          "output_type": "stream",
          "text": [
            "WARNING:root:LoadFile._df_counts is hard coded to /usr/local/lib/python3.6/dist-packages/pke/models/df-semeval2010.tsv.gz\n"
          ],
          "name": "stderr"
        },
        {
          "output_type": "stream",
          "text": [
            "['machine learning', 'Machine learning']\n"
          ],
          "name": "stdout"
        },
        {
          "output_type": "stream",
          "text": [
            "WARNING:root:LoadFile._df_counts is hard coded to /usr/local/lib/python3.6/dist-packages/pke/models/df-semeval2010.tsv.gz\n"
          ],
          "name": "stderr"
        },
        {
          "output_type": "stream",
          "text": [
            "['streaming processing', 'Stream processing']\n",
            "['financial service', 'Financial services']\n",
            "['financial service marketing', 'Services marketing']\n"
          ],
          "name": "stdout"
        },
        {
          "output_type": "stream",
          "text": [
            "WARNING:root:LoadFile._df_counts is hard coded to /usr/local/lib/python3.6/dist-packages/pke/models/df-semeval2010.tsv.gz\n"
          ],
          "name": "stderr"
        },
        {
          "output_type": "stream",
          "text": [
            "['health service', 'Health care']\n",
            "['economic impact', 'Economic impact analysis']\n",
            "['government try', 'Francis II of France']\n"
          ],
          "name": "stdout"
        },
        {
          "output_type": "stream",
          "text": [
            "WARNING:root:LoadFile._df_counts is hard coded to /usr/local/lib/python3.6/dist-packages/pke/models/df-semeval2010.tsv.gz\n"
          ],
          "name": "stderr"
        },
        {
          "output_type": "stream",
          "text": [
            "['predictive model', 'Predictive modelling']\n",
            "['sophisticated predictive model', 'Predictive modelling']\n",
            "['classifying image', 'Computer vision']\n"
          ],
          "name": "stdout"
        },
        {
          "output_type": "stream",
          "text": [
            "WARNING:root:LoadFile._df_counts is hard coded to /usr/local/lib/python3.6/dist-packages/pke/models/df-semeval2010.tsv.gz\n"
          ],
          "name": "stderr"
        },
        {
          "output_type": "stream",
          "text": [
            "['public transport passenger', 'Public transport']\n",
            "['big data', 'Big data']\n",
            "['limit infection', 'Infection']\n"
          ],
          "name": "stdout"
        },
        {
          "output_type": "stream",
          "text": [
            "WARNING:root:LoadFile._df_counts is hard coded to /usr/local/lib/python3.6/dist-packages/pke/models/df-semeval2010.tsv.gz\n"
          ],
          "name": "stderr"
        },
        {
          "output_type": "stream",
          "text": [
            "['docker container', 'Docker (software)']\n"
          ],
          "name": "stdout"
        },
        {
          "output_type": "stream",
          "text": [
            "WARNING:root:LoadFile._df_counts is hard coded to /usr/local/lib/python3.6/dist-packages/pke/models/df-semeval2010.tsv.gz\n"
          ],
          "name": "stderr"
        },
        {
          "output_type": "stream",
          "text": [
            "['data engineer', 'Information engineering']\n",
            "['data scientist', 'Data science']\n"
          ],
          "name": "stdout"
        },
        {
          "output_type": "stream",
          "text": [
            "WARNING:root:LoadFile._df_counts is hard coded to /usr/local/lib/python3.6/dist-packages/pke/models/df-semeval2010.tsv.gz\n"
          ],
          "name": "stderr"
        },
        {
          "output_type": "stream",
          "text": [
            "['mouse keyboard tablet', 'Tablet computer']\n",
            "['sensor built', 'Sony ILCE camera']\n"
          ],
          "name": "stdout"
        },
        {
          "output_type": "stream",
          "text": [
            "WARNING:root:LoadFile._df_counts is hard coded to /usr/local/lib/python3.6/dist-packages/pke/models/df-semeval2010.tsv.gz\n"
          ],
          "name": "stderr"
        },
        {
          "output_type": "stream",
          "text": [
            "['company trying', 'The Try Guys']\n",
            "['business domain', 'Business domain']\n",
            "['sustainable profitability', 'Corporate sustainable profitability']\n"
          ],
          "name": "stdout"
        },
        {
          "output_type": "stream",
          "text": [
            "WARNING:root:LoadFile._df_counts is hard coded to /usr/local/lib/python3.6/dist-packages/pke/models/df-semeval2010.tsv.gz\n"
          ],
          "name": "stderr"
        },
        {
          "output_type": "stream",
          "text": [
            "['mit research scientist', 'Massachusetts Institute of Technology']\n"
          ],
          "name": "stdout"
        },
        {
          "output_type": "stream",
          "text": [
            "WARNING:root:LoadFile._df_counts is hard coded to /usr/local/lib/python3.6/dist-packages/pke/models/df-semeval2010.tsv.gz\n"
          ],
          "name": "stderr"
        },
        {
          "output_type": "stream",
          "text": [
            "['supporting remote', 'Remote support']\n",
            "['supporting remote work', 'Remote support']\n",
            "['shift learn', 'Great Vowel Shift']\n",
            "['dell technology', 'Dell Technologies']\n",
            "['dell technology wa', 'Dell monitors']\n"
          ],
          "name": "stdout"
        },
        {
          "output_type": "stream",
          "text": [
            "WARNING:root:LoadFile._df_counts is hard coded to /usr/local/lib/python3.6/dist-packages/pke/models/df-semeval2010.tsv.gz\n"
          ],
          "name": "stderr"
        },
        {
          "output_type": "stream",
          "text": [
            "['integrate design', 'Integration']\n",
            "['seamlessly integrate design', 'Computer-aided software engineering']\n",
            "['integrate design practice', 'Software design pattern']\n"
          ],
          "name": "stdout"
        },
        {
          "output_type": "stream",
          "text": [
            "WARNING:root:LoadFile._df_counts is hard coded to /usr/local/lib/python3.6/dist-packages/pke/models/df-semeval2010.tsv.gz\n"
          ],
          "name": "stderr"
        },
        {
          "output_type": "stream",
          "text": [
            "['digital workplace', 'Virtual workplace']\n"
          ],
          "name": "stdout"
        },
        {
          "output_type": "stream",
          "text": [
            "WARNING:root:LoadFile._df_counts is hard coded to /usr/local/lib/python3.6/dist-packages/pke/models/df-semeval2010.tsv.gz\n"
          ],
          "name": "stderr"
        },
        {
          "output_type": "stream",
          "text": [
            "['platform dependency', 'Dependency injection']\n",
            "['microservices efficiency', 'Service-oriented architecture']\n",
            "['digital workplace', 'Virtual workplace']\n",
            "['digital workplace vp', 'Integrated workplace management system']\n",
            "['model built', 'Model village']\n"
          ],
          "name": "stdout"
        },
        {
          "output_type": "stream",
          "text": [
            "WARNING:root:LoadFile._df_counts is hard coded to /usr/local/lib/python3.6/dist-packages/pke/models/df-semeval2010.tsv.gz\n"
          ],
          "name": "stderr"
        },
        {
          "output_type": "stream",
          "text": [
            "['remote work', 'Telecommuting']\n"
          ],
          "name": "stdout"
        },
        {
          "output_type": "stream",
          "text": [
            "WARNING:root:LoadFile._df_counts is hard coded to /usr/local/lib/python3.6/dist-packages/pke/models/df-semeval2010.tsv.gz\n"
          ],
          "name": "stderr"
        },
        {
          "output_type": "stream",
          "text": [
            "['organization culture', 'Organizational culture']\n",
            "['work style', 'Management style']\n"
          ],
          "name": "stdout"
        },
        {
          "output_type": "stream",
          "text": [
            "WARNING:root:LoadFile._df_counts is hard coded to /usr/local/lib/python3.6/dist-packages/pke/models/df-semeval2010.tsv.gz\n"
          ],
          "name": "stderr"
        },
        {
          "output_type": "stream",
          "text": [
            "['digital workplace', 'Virtual workplace']\n",
            "['market trend', 'Market trend']\n"
          ],
          "name": "stdout"
        },
        {
          "output_type": "stream",
          "text": [
            "WARNING:root:LoadFile._df_counts is hard coded to /usr/local/lib/python3.6/dist-packages/pke/models/df-semeval2010.tsv.gz\n"
          ],
          "name": "stderr"
        },
        {
          "output_type": "stream",
          "text": [
            "['interactive conversation', 'Conversation']\n",
            "['interactive conversation around', 'Conversation']\n",
            "['learning curve', 'Learning curve']\n",
            "['remote work', 'Telecommuting']\n"
          ],
          "name": "stdout"
        },
        {
          "output_type": "stream",
          "text": [
            "WARNING:root:LoadFile._df_counts is hard coded to /usr/local/lib/python3.6/dist-packages/pke/models/df-semeval2010.tsv.gz\n"
          ],
          "name": "stderr"
        },
        {
          "output_type": "stream",
          "text": [
            "['information sharing', 'Information exchange']\n",
            "['internal communication', 'Internal communications']\n"
          ],
          "name": "stdout"
        },
        {
          "output_type": "stream",
          "text": [
            "WARNING:root:LoadFile._df_counts is hard coded to /usr/local/lib/python3.6/dist-packages/pke/models/df-semeval2010.tsv.gz\n"
          ],
          "name": "stderr"
        },
        {
          "output_type": "stream",
          "text": [
            "['workplace technology', 'Workplace']\n",
            "['digital workplace', 'Virtual workplace']\n"
          ],
          "name": "stdout"
        },
        {
          "output_type": "stream",
          "text": [
            "WARNING:root:LoadFile._df_counts is hard coded to /usr/local/lib/python3.6/dist-packages/pke/models/df-semeval2010.tsv.gz\n"
          ],
          "name": "stderr"
        },
        {
          "output_type": "stream",
          "text": [
            "['ld program', 'Rpath']\n"
          ],
          "name": "stdout"
        },
        {
          "output_type": "stream",
          "text": [
            "WARNING:root:LoadFile._df_counts is hard coded to /usr/local/lib/python3.6/dist-packages/pke/models/df-semeval2010.tsv.gz\n"
          ],
          "name": "stderr"
        },
        {
          "output_type": "stream",
          "text": [
            "['growing team', 'Datadog']\n",
            "['spatial landmark', 'Spatial memory']\n"
          ],
          "name": "stdout"
        },
        {
          "output_type": "stream",
          "text": [
            "WARNING:root:LoadFile._df_counts is hard coded to /usr/local/lib/python3.6/dist-packages/pke/models/df-semeval2010.tsv.gz\n"
          ],
          "name": "stderr"
        },
        {
          "output_type": "stream",
          "text": [
            "['flexible working', 'Flextime']\n",
            "['remote work', 'Telecommuting']\n"
          ],
          "name": "stdout"
        },
        {
          "output_type": "stream",
          "text": [
            "WARNING:root:LoadFile._df_counts is hard coded to /usr/local/lib/python3.6/dist-packages/pke/models/df-semeval2010.tsv.gz\n"
          ],
          "name": "stderr"
        },
        {
          "output_type": "stream",
          "text": [
            "['digital workspace', 'Citrix Workspace']\n",
            "['digital workspace app', 'Citrix Workspace']\n",
            "['critical milestone', 'Milestone (project management)']\n"
          ],
          "name": "stdout"
        },
        {
          "output_type": "stream",
          "text": [
            "WARNING:root:LoadFile._df_counts is hard coded to /usr/local/lib/python3.6/dist-packages/pke/models/df-semeval2010.tsv.gz\n"
          ],
          "name": "stderr"
        },
        {
          "output_type": "stream",
          "text": [
            "['digitally transform', 'Digital signal processing']\n",
            "['decoupled agile', 'Agile application']\n"
          ],
          "name": "stdout"
        },
        {
          "output_type": "stream",
          "text": [
            "WARNING:root:LoadFile._df_counts is hard coded to /usr/local/lib/python3.6/dist-packages/pke/models/df-semeval2010.tsv.gz\n"
          ],
          "name": "stderr"
        },
        {
          "output_type": "stream",
          "text": [
            "['new tool', 'Tool']\n"
          ],
          "name": "stdout"
        },
        {
          "output_type": "stream",
          "text": [
            "WARNING:root:LoadFile._df_counts is hard coded to /usr/local/lib/python3.6/dist-packages/pke/models/df-semeval2010.tsv.gz\n"
          ],
          "name": "stderr"
        },
        {
          "output_type": "stream",
          "text": [
            "['computing power', 'Computer performance']\n",
            "['computing power growth', 'Cloud computing']\n",
            "['moore law', \"Moore's law\"]\n",
            "['ai development', 'Artificial intelligence']\n"
          ],
          "name": "stdout"
        },
        {
          "output_type": "stream",
          "text": [
            "WARNING:root:LoadFile._df_counts is hard coded to /usr/local/lib/python3.6/dist-packages/pke/models/df-semeval2010.tsv.gz\n"
          ],
          "name": "stderr"
        },
        {
          "output_type": "stream",
          "text": [
            "['digital workplace', 'Virtual workplace']\n",
            "['updated 2020 state', 'COVID-19 pandemic in New York (state)']\n"
          ],
          "name": "stdout"
        },
        {
          "output_type": "stream",
          "text": [
            "WARNING:root:LoadFile._df_counts is hard coded to /usr/local/lib/python3.6/dist-packages/pke/models/df-semeval2010.tsv.gz\n"
          ],
          "name": "stderr"
        },
        {
          "output_type": "stream",
          "text": [
            "['company editorinchief stephanie', '']\n",
            "['editorinchief stephanie mehta', '']\n",
            "['transforming business', 'Aicha Evans']\n"
          ],
          "name": "stdout"
        },
        {
          "output_type": "stream",
          "text": [
            "WARNING:root:LoadFile._df_counts is hard coded to /usr/local/lib/python3.6/dist-packages/pke/models/df-semeval2010.tsv.gz\n"
          ],
          "name": "stderr"
        },
        {
          "output_type": "stream",
          "text": [
            "['integrated digital workplace', 'Integrated workplace management system']\n"
          ],
          "name": "stdout"
        },
        {
          "output_type": "stream",
          "text": [
            "WARNING:root:LoadFile._df_counts is hard coded to /usr/local/lib/python3.6/dist-packages/pke/models/df-semeval2010.tsv.gz\n"
          ],
          "name": "stderr"
        },
        {
          "output_type": "stream",
          "text": [
            "['interactive conversation', 'Conversation']\n",
            "['practical approach', 'Principlism']\n"
          ],
          "name": "stdout"
        },
        {
          "output_type": "stream",
          "text": [
            "WARNING:root:LoadFile._df_counts is hard coded to /usr/local/lib/python3.6/dist-packages/pke/models/df-semeval2010.tsv.gz\n"
          ],
          "name": "stderr"
        },
        {
          "output_type": "stream",
          "text": [
            "['intranet project', 'Intranet']\n"
          ],
          "name": "stdout"
        },
        {
          "output_type": "stream",
          "text": [
            "WARNING:root:LoadFile._df_counts is hard coded to /usr/local/lib/python3.6/dist-packages/pke/models/df-semeval2010.tsv.gz\n"
          ],
          "name": "stderr"
        },
        {
          "output_type": "stream",
          "text": [
            "['information architecture', 'Information architecture']\n",
            "['digital workplace', 'Virtual workplace']\n",
            "['artificial intelligence', 'Artificial intelligence']\n",
            "['efficient digital workplace', 'Digital Taylorism']\n"
          ],
          "name": "stdout"
        },
        {
          "output_type": "stream",
          "text": [
            "WARNING:root:LoadFile._df_counts is hard coded to /usr/local/lib/python3.6/dist-packages/pke/models/df-semeval2010.tsv.gz\n"
          ],
          "name": "stderr"
        },
        {
          "output_type": "stream",
          "text": [
            "['international corporate', 'Corporate tax']\n",
            "['international corporate leader', 'Corporate governance']\n",
            "['people collaborate', 'Collaboration']\n",
            "['people collaborate across', 'Collaboration']\n",
            "['collaborate across department', 'Collaborative project management']\n"
          ],
          "name": "stdout"
        },
        {
          "output_type": "stream",
          "text": [
            "WARNING:root:LoadFile._df_counts is hard coded to /usr/local/lib/python3.6/dist-packages/pke/models/df-semeval2010.tsv.gz\n"
          ],
          "name": "stderr"
        },
        {
          "output_type": "stream",
          "text": [
            "['newly distributed workplace', 'COVID-19 pandemic']\n",
            "['smarter deployment option', 'Are You Smarter than a 5th Grader? (American game show)']\n"
          ],
          "name": "stdout"
        },
        {
          "output_type": "stream",
          "text": [
            "WARNING:root:LoadFile._df_counts is hard coded to /usr/local/lib/python3.6/dist-packages/pke/models/df-semeval2010.tsv.gz\n"
          ],
          "name": "stderr"
        },
        {
          "output_type": "stream",
          "text": [
            "['business environment', 'Market environment']\n"
          ],
          "name": "stdout"
        },
        {
          "output_type": "stream",
          "text": [
            "WARNING:root:LoadFile._df_counts is hard coded to /usr/local/lib/python3.6/dist-packages/pke/models/df-semeval2010.tsv.gz\n"
          ],
          "name": "stderr"
        },
        {
          "output_type": "stream",
          "text": [
            "['digital workplace', 'Virtual workplace']\n",
            "['research show', 'Research']\n"
          ],
          "name": "stdout"
        },
        {
          "output_type": "stream",
          "text": [
            "WARNING:root:LoadFile._df_counts is hard coded to /usr/local/lib/python3.6/dist-packages/pke/models/df-semeval2010.tsv.gz\n"
          ],
          "name": "stderr"
        },
        {
          "output_type": "stream",
          "text": [
            "['digital workplace', 'Virtual workplace']\n"
          ],
          "name": "stdout"
        },
        {
          "output_type": "stream",
          "text": [
            "WARNING:root:LoadFile._df_counts is hard coded to /usr/local/lib/python3.6/dist-packages/pke/models/df-semeval2010.tsv.gz\n"
          ],
          "name": "stderr"
        },
        {
          "output_type": "stream",
          "text": [
            "['digital workplace', 'Virtual workplace']\n"
          ],
          "name": "stdout"
        },
        {
          "output_type": "stream",
          "text": [
            "WARNING:root:LoadFile._df_counts is hard coded to /usr/local/lib/python3.6/dist-packages/pke/models/df-semeval2010.tsv.gz\n"
          ],
          "name": "stderr"
        },
        {
          "output_type": "stream",
          "text": [
            "['modern intranet', 'Intranet']\n",
            "['great intranet', 'Intranet']\n"
          ],
          "name": "stdout"
        },
        {
          "output_type": "stream",
          "text": [
            "WARNING:root:LoadFile._df_counts is hard coded to /usr/local/lib/python3.6/dist-packages/pke/models/df-semeval2010.tsv.gz\n",
            "WARNING:root:LoadFile._df_counts is hard coded to /usr/local/lib/python3.6/dist-packages/pke/models/df-semeval2010.tsv.gz\n"
          ],
          "name": "stderr"
        },
        {
          "output_type": "stream",
          "text": [
            "['digital workplace', 'Virtual workplace']\n",
            "['remote work', 'Telecommuting']\n",
            "['modern digital', 'Digital banking']\n"
          ],
          "name": "stdout"
        },
        {
          "output_type": "stream",
          "text": [
            "WARNING:root:LoadFile._df_counts is hard coded to /usr/local/lib/python3.6/dist-packages/pke/models/df-semeval2010.tsv.gz\n"
          ],
          "name": "stderr"
        },
        {
          "output_type": "stream",
          "text": [
            "['cloud technology', 'Cloud computing']\n",
            "['cloud technology begin', 'Cloud point']\n",
            "['today emerging', 'Emerging church']\n",
            "['today emerging technology', 'Emerging technologies']\n",
            "['aspect life learn', 'Astrological aspect']\n"
          ],
          "name": "stdout"
        },
        {
          "output_type": "stream",
          "text": [
            "WARNING:root:LoadFile._df_counts is hard coded to /usr/local/lib/python3.6/dist-packages/pke/models/df-semeval2010.tsv.gz\n"
          ],
          "name": "stderr"
        },
        {
          "output_type": "stream",
          "text": [
            "['important specie', 'Speciation']\n",
            "['applying iot', 'Internet of things']\n",
            "['applying iot big', 'Internet of things']\n"
          ],
          "name": "stdout"
        },
        {
          "output_type": "stream",
          "text": [
            "WARNING:root:LoadFile._df_counts is hard coded to /usr/local/lib/python3.6/dist-packages/pke/models/df-semeval2010.tsv.gz\n"
          ],
          "name": "stderr"
        },
        {
          "output_type": "stream",
          "text": [
            "['emerging technology', 'Emerging technologies']\n",
            "['data management', 'Data management']\n",
            "['data management complexity', 'Tag management system']\n",
            "['management complexity lower', 'Complexity management']\n",
            "['complexity lower cost', 'Analysis of algorithms']\n",
            "['cost increase reliability', 'Reliability engineering']\n",
            "['development process', 'Software development process']\n"
          ],
          "name": "stdout"
        },
        {
          "output_type": "stream",
          "text": [
            "WARNING:root:LoadFile._df_counts is hard coded to /usr/local/lib/python3.6/dist-packages/pke/models/df-semeval2010.tsv.gz\n"
          ],
          "name": "stderr"
        },
        {
          "output_type": "stream",
          "text": [
            "['deliver technology', 'Delivering Happiness']\n"
          ],
          "name": "stdout"
        },
        {
          "output_type": "stream",
          "text": [
            "WARNING:root:LoadFile._df_counts is hard coded to /usr/local/lib/python3.6/dist-packages/pke/models/df-semeval2010.tsv.gz\n"
          ],
          "name": "stderr"
        },
        {
          "output_type": "stream",
          "text": [
            "['cloud technology', 'Cloud computing']\n",
            "['cloud technology begin', 'Cloud point']\n",
            "['emerging technology', 'Emerging technologies']\n"
          ],
          "name": "stdout"
        },
        {
          "output_type": "stream",
          "text": [
            "WARNING:root:LoadFile._df_counts is hard coded to /usr/local/lib/python3.6/dist-packages/pke/models/df-semeval2010.tsv.gz\n"
          ],
          "name": "stderr"
        },
        {
          "output_type": "stream",
          "text": [
            "['oracle cloud application', 'Oracle Cloud']\n",
            "['ai blockchain', 'Blockchain']\n",
            "['ai blockchain iot', 'Blockchain']\n",
            "['conversational ui', 'User interface']\n",
            "['core business', 'Core business']\n",
            "['core business process', 'Core business']\n"
          ],
          "name": "stdout"
        },
        {
          "output_type": "stream",
          "text": [
            "WARNING:root:LoadFile._df_counts is hard coded to /usr/local/lib/python3.6/dist-packages/pke/models/df-semeval2010.tsv.gz\n"
          ],
          "name": "stderr"
        },
        {
          "output_type": "stream",
          "text": [
            "['joint customer', 'Customer relationship management']\n",
            "['distributed cloud deployment', 'Google Cloud Platform']\n",
            "['cloud deployment model', 'Google Cloud Platform']\n"
          ],
          "name": "stdout"
        },
        {
          "output_type": "stream",
          "text": [
            "WARNING:root:LoadFile._df_counts is hard coded to /usr/local/lib/python3.6/dist-packages/pke/models/df-semeval2010.tsv.gz\n"
          ],
          "name": "stderr"
        },
        {
          "output_type": "stream",
          "text": [
            "['new technology', 'Technology']\n",
            "['ai machine', 'Artificial intelligence']\n",
            "['ai machine learning', 'Machine learning']\n",
            "['learning conversational ui', 'User interface']\n",
            "['abcam extends leadership', 'Abcam']\n"
          ],
          "name": "stdout"
        },
        {
          "output_type": "stream",
          "text": [
            "WARNING:root:LoadFile._df_counts is hard coded to /usr/local/lib/python3.6/dist-packages/pke/models/df-semeval2010.tsv.gz\n"
          ],
          "name": "stderr"
        },
        {
          "output_type": "stream",
          "text": [
            "['humancentric ai', '']\n",
            "['important problem', 'P versus NP problem']\n"
          ],
          "name": "stdout"
        },
        {
          "output_type": "stream",
          "text": [
            "WARNING:root:LoadFile._df_counts is hard coded to /usr/local/lib/python3.6/dist-packages/pke/models/df-semeval2010.tsv.gz\n"
          ],
          "name": "stderr"
        },
        {
          "output_type": "stream",
          "text": [
            "['cloud drive innovation', 'Safe Swiss Cloud']\n",
            "['real change', 'Real Change']\n",
            "['customer cloud', 'Customer relationship management']\n",
            "['customer cloud technology', 'Customer relationship management']\n",
            "['world around', 'Buckminster Fuller']\n"
          ],
          "name": "stdout"
        },
        {
          "output_type": "stream",
          "text": [
            "WARNING:root:LoadFile._df_counts is hard coded to /usr/local/lib/python3.6/dist-packages/pke/models/df-semeval2010.tsv.gz\n"
          ],
          "name": "stderr"
        },
        {
          "output_type": "stream",
          "text": [
            "['database development', 'Database']\n",
            "['autonomous database', 'Database']\n",
            "['revolutionizing data', 'Master data']\n",
            "['revolutionizing data management', 'Master data']\n",
            "['utilising autonomous service', 'Inner Mongolia']\n"
          ],
          "name": "stdout"
        },
        {
          "output_type": "stream",
          "text": [
            "WARNING:root:LoadFile._df_counts is hard coded to /usr/local/lib/python3.6/dist-packages/pke/models/df-semeval2010.tsv.gz\n"
          ],
          "name": "stderr"
        },
        {
          "output_type": "stream",
          "text": [
            "['ai blockchain', 'Blockchain']\n",
            "['ai blockchain iot', 'Blockchain']\n",
            "['conversational ui', 'User interface']\n",
            "['core business', 'Core business']\n",
            "['core business process', 'Core business']\n",
            "['supply chain', 'Supply chain']\n"
          ],
          "name": "stdout"
        },
        {
          "output_type": "stream",
          "text": [
            "WARNING:root:LoadFile._df_counts is hard coded to /usr/local/lib/python3.6/dist-packages/pke/models/df-semeval2010.tsv.gz\n"
          ],
          "name": "stderr"
        },
        {
          "output_type": "stream",
          "text": [
            "['epm development', 'Ethylene propylene rubber']\n",
            "['operation core', 'The Core']\n"
          ],
          "name": "stdout"
        },
        {
          "output_type": "stream",
          "text": [
            "WARNING:root:LoadFile._df_counts is hard coded to /usr/local/lib/python3.6/dist-packages/pke/models/df-semeval2010.tsv.gz\n"
          ],
          "name": "stderr"
        },
        {
          "output_type": "stream",
          "text": [
            "['machine learning', 'Machine learning']\n",
            "['autonomous cloud oracle', 'Oracle Cloud']\n",
            "['oracle cloud infrastructure', 'Oracle Cloud']\n",
            "['cloud infrastructure ha', 'VMware Infrastructure']\n",
            "['ha reimagined cloud', 'Garbage Pail Kids']\n"
          ],
          "name": "stdout"
        },
        {
          "output_type": "stream",
          "text": [
            "WARNING:root:LoadFile._df_counts is hard coded to /usr/local/lib/python3.6/dist-packages/pke/models/df-semeval2010.tsv.gz\n"
          ],
          "name": "stderr"
        },
        {
          "output_type": "stream",
          "text": [
            "['oracle comprehensive cloud', 'Oracle Enterprise Resource Planning Cloud']\n",
            "['comprehensive cloud platform', 'SAP Cloud Platform']\n",
            "['cloud platform service', 'Google Cloud Platform']\n",
            "['leverage oracle', 'Oracle Data Integrator']\n",
            "['leverage oracle cloud', 'Oracle Cloud']\n"
          ],
          "name": "stdout"
        },
        {
          "output_type": "stream",
          "text": [
            "WARNING:root:LoadFile._df_counts is hard coded to /usr/local/lib/python3.6/dist-packages/pke/models/df-semeval2010.tsv.gz\n"
          ],
          "name": "stderr"
        },
        {
          "output_type": "stream",
          "text": [
            "['oracle new class', 'Oracle Team USA']\n"
          ],
          "name": "stdout"
        },
        {
          "output_type": "stream",
          "text": [
            "WARNING:root:LoadFile._df_counts is hard coded to /usr/local/lib/python3.6/dist-packages/pke/models/df-semeval2010.tsv.gz\n"
          ],
          "name": "stderr"
        },
        {
          "output_type": "stream",
          "text": [
            "['exadata architecture', 'Oracle Linux']\n",
            "['online transaction', 'Online transaction processing']\n",
            "['online transaction processing', 'Online transaction processing']\n"
          ],
          "name": "stdout"
        },
        {
          "output_type": "stream",
          "text": [
            "WARNING:root:LoadFile._df_counts is hard coded to /usr/local/lib/python3.6/dist-packages/pke/models/df-semeval2010.tsv.gz\n"
          ],
          "name": "stderr"
        },
        {
          "output_type": "stream",
          "text": [
            "['exadata architecture', 'Oracle Linux']\n",
            "['online transaction', 'Online transaction processing']\n",
            "['online transaction processing', 'Online transaction processing']\n"
          ],
          "name": "stdout"
        },
        {
          "output_type": "execute_result",
          "data": {
            "text/html": [
              "<div>\n",
              "<style scoped>\n",
              "    .dataframe tbody tr th:only-of-type {\n",
              "        vertical-align: middle;\n",
              "    }\n",
              "\n",
              "    .dataframe tbody tr th {\n",
              "        vertical-align: top;\n",
              "    }\n",
              "\n",
              "    .dataframe thead th {\n",
              "        text-align: right;\n",
              "    }\n",
              "</style>\n",
              "<table border=\"1\" class=\"dataframe\">\n",
              "  <thead>\n",
              "    <tr style=\"text-align: right;\">\n",
              "      <th></th>\n",
              "      <th>Conference</th>\n",
              "      <th>Inc</th>\n",
              "      <th>Title</th>\n",
              "      <th>Keywords</th>\n",
              "    </tr>\n",
              "  </thead>\n",
              "  <tbody>\n",
              "    <tr>\n",
              "      <th>0</th>\n",
              "      <td>NVIDIA GTC 2020</td>\n",
              "      <td>University of Cambridge</td>\n",
              "      <td>Accelerating Unsupervised SAR Polarimetric Ima...</td>\n",
              "      <td>Brand,Image segmentation,List of sensors,Synth...</td>\n",
              "    </tr>\n",
              "    <tr>\n",
              "      <th>1</th>\n",
              "      <td>NVIDIA GTC 2020</td>\n",
              "      <td>Hewlett Packard Enterprise</td>\n",
              "      <td>AI  The Network Edge (Presented by HPE) [S22480]</td>\n",
              "      <td>Edge case,Extreme environment,Generation Z,Pro...</td>\n",
              "    </tr>\n",
              "    <tr>\n",
              "      <th>2</th>\n",
              "      <td>NVIDIA GTC 2020</td>\n",
              "      <td>Teradata</td>\n",
              "      <td>Anomaly Detection on Aircraft Sensor Data Usin...</td>\n",
              "      <td>Neural network,Proximity sensor,Rheology,Senso...</td>\n",
              "    </tr>\n",
              "    <tr>\n",
              "      <th>3</th>\n",
              "      <td>NVIDIA GTC 2020</td>\n",
              "      <td>Altair Engineering</td>\n",
              "      <td>Complex 60 GPU CFD Simulations for Aerospace G...</td>\n",
              "      <td>Computational fluid dynamics,DC-to-DC converte...</td>\n",
              "    </tr>\n",
              "    <tr>\n",
              "      <th>4</th>\n",
              "      <td>NVIDIA GTC 2020</td>\n",
              "      <td>KAIST</td>\n",
              "      <td>Deep Learning-Based Anti-Drone System [P21900]</td>\n",
              "      <td>Deep learning,Deep learning super sampling,Dee...</td>\n",
              "    </tr>\n",
              "    <tr>\n",
              "      <th>...</th>\n",
              "      <td>...</td>\n",
              "      <td>...</td>\n",
              "      <td>...</td>\n",
              "      <td>...</td>\n",
              "    </tr>\n",
              "    <tr>\n",
              "      <th>399</th>\n",
              "      <td>Oracle 2020</td>\n",
              "      <td>and Central and Eastern Europe</td>\n",
              "      <td>Unlock Endless Possibilities with Oracle Cloud</td>\n",
              "      <td>Garbage Pail Kids,Machine learning,Oracle Clou...</td>\n",
              "    </tr>\n",
              "    <tr>\n",
              "      <th>400</th>\n",
              "      <td>Oracle 2020</td>\n",
              "      <td>Oracle</td>\n",
              "      <td>Cloud Platform, Middleware Strategy and Roadmap</td>\n",
              "      <td>Google Cloud Platform,Oracle Cloud,Oracle Data...</td>\n",
              "    </tr>\n",
              "    <tr>\n",
              "      <th>401</th>\n",
              "      <td>Oracle 2020</td>\n",
              "      <td>Oracle</td>\n",
              "      <td>A New Class of Cloud Infrastructure</td>\n",
              "      <td>Oracle Team USA</td>\n",
              "    </tr>\n",
              "    <tr>\n",
              "      <th>402</th>\n",
              "      <td>Oracle 2020</td>\n",
              "      <td>Oracle</td>\n",
              "      <td>Solution Keynote: Strategy and Roadmap for Clo...</td>\n",
              "      <td>Online transaction processing,Oracle Linux</td>\n",
              "    </tr>\n",
              "    <tr>\n",
              "      <th>403</th>\n",
              "      <td>Oracle 2020</td>\n",
              "      <td>Oracle</td>\n",
              "      <td>Strategy and Roadmap for Cloud and On-Premise</td>\n",
              "      <td>Online transaction processing,Oracle Linux</td>\n",
              "    </tr>\n",
              "  </tbody>\n",
              "</table>\n",
              "<p>404 rows × 4 columns</p>\n",
              "</div>"
            ],
            "text/plain": [
              "          Conference  ...                                           Keywords\n",
              "0    NVIDIA GTC 2020  ...  Brand,Image segmentation,List of sensors,Synth...\n",
              "1    NVIDIA GTC 2020  ...  Edge case,Extreme environment,Generation Z,Pro...\n",
              "2    NVIDIA GTC 2020  ...  Neural network,Proximity sensor,Rheology,Senso...\n",
              "3    NVIDIA GTC 2020  ...  Computational fluid dynamics,DC-to-DC converte...\n",
              "4    NVIDIA GTC 2020  ...  Deep learning,Deep learning super sampling,Dee...\n",
              "..               ...  ...                                                ...\n",
              "399      Oracle 2020  ...  Garbage Pail Kids,Machine learning,Oracle Clou...\n",
              "400      Oracle 2020  ...  Google Cloud Platform,Oracle Cloud,Oracle Data...\n",
              "401      Oracle 2020  ...                                    Oracle Team USA\n",
              "402      Oracle 2020  ...         Online transaction processing,Oracle Linux\n",
              "403      Oracle 2020  ...         Online transaction processing,Oracle Linux\n",
              "\n",
              "[404 rows x 4 columns]"
            ]
          },
          "metadata": {
            "tags": []
          },
          "execution_count": 5
        }
      ]
    }
  ]
}