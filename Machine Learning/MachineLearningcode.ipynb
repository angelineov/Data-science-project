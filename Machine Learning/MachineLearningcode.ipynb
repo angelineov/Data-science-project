{
  "nbformat": 4,
  "nbformat_minor": 0,
  "metadata": {
    "colab": {
      "name": "Bản sao của Colaboratory chào mừng bạn!",
      "provenance": [],
      "collapsed_sections": []
    },
    "kernelspec": {
      "display_name": "Python 3",
      "name": "python3"
    }
  },
  "cells": [
    {
      "cell_type": "code",
      "metadata": {
        "id": "BrE0Fq_8nxie"
      },
      "source": [
        "import os\n",
        "import glob\n",
        "import pandas as pd\n",
        "os.chdir(\"/content\")"
      ],
      "execution_count": null,
      "outputs": []
    },
    {
      "cell_type": "code",
      "metadata": {
        "id": "j4Mfqf2qz04Q"
      },
      "source": [
        "pd.set_option('display.max_columns', None)\n",
        "pd.set_option('display.max_rows', None)\n",
        "#text = pd.read_csv('combined_csv.csv')\n",
        "#text"
      ],
      "execution_count": null,
      "outputs": []
    },
    {
      "cell_type": "code",
      "metadata": {
        "colab": {
          "base_uri": "https://localhost:8080/"
        },
        "id": "e9rZMI6Io-oO",
        "outputId": "fc1a07b7-3891-4fd6-fa0a-b59b29ec489a"
      },
      "source": [
        "import numpy as np\n",
        "import matplotlib.pyplot as plt\n",
        "import pandas as pd\n",
        "import seaborn as sns\n",
        "import statsmodels as sm\n",
        "\n",
        "from sklearn.feature_extraction.text import CountVectorizer\n",
        "from sklearn.feature_extraction.text import TfidfTransformer\n",
        "!pip install git+https://github.com/boudinfl/pke.git\n",
        "!python -m nltk.downloader stopwords\n",
        "!python -m nltk.downloader universal_tagset\n",
        "!python -m spacy download en # download the english model\n",
        "\n",
        "import nltk\n",
        "nltk.download('punkt')\n",
        "nltk.download('stopwords')\n",
        "nltk.download('wordnet')\n",
        "from nltk.stem import WordNetLemmatizer\n",
        "from nltk.tokenize import word_tokenize\n",
        "from nltk.corpus import stopwords\n",
        "import string\n",
        "import re\n",
        "!pip install langcodes\n",
        "import pke"
      ],
      "execution_count": null,
      "outputs": [
        {
          "output_type": "stream",
          "text": [
            "Collecting git+https://github.com/boudinfl/pke.git\n",
            "  Cloning https://github.com/boudinfl/pke.git to /tmp/pip-req-build-uhbzyfle\n",
            "  Running command git clone -q https://github.com/boudinfl/pke.git /tmp/pip-req-build-uhbzyfle\n",
            "Requirement already satisfied: nltk in /usr/local/lib/python3.6/dist-packages (from pke==1.8.1) (3.2.5)\n",
            "Requirement already satisfied: networkx in /usr/local/lib/python3.6/dist-packages (from pke==1.8.1) (2.5)\n",
            "Requirement already satisfied: numpy in /usr/local/lib/python3.6/dist-packages (from pke==1.8.1) (1.18.5)\n",
            "Requirement already satisfied: scipy in /usr/local/lib/python3.6/dist-packages (from pke==1.8.1) (1.4.1)\n",
            "Requirement already satisfied: spacy in /usr/local/lib/python3.6/dist-packages (from pke==1.8.1) (2.2.4)\n",
            "Requirement already satisfied: six in /usr/local/lib/python3.6/dist-packages (from pke==1.8.1) (1.15.0)\n",
            "Requirement already satisfied: sklearn in /usr/local/lib/python3.6/dist-packages (from pke==1.8.1) (0.0)\n",
            "Collecting unidecode\n",
            "\u001b[?25l  Downloading https://files.pythonhosted.org/packages/d0/42/d9edfed04228bacea2d824904cae367ee9efd05e6cce7ceaaedd0b0ad964/Unidecode-1.1.1-py2.py3-none-any.whl (238kB)\n",
            "\u001b[K     |████████████████████████████████| 245kB 12.1MB/s \n",
            "\u001b[?25hRequirement already satisfied: future in /usr/local/lib/python3.6/dist-packages (from pke==1.8.1) (0.16.0)\n",
            "Requirement already satisfied: joblib in /usr/local/lib/python3.6/dist-packages (from pke==1.8.1) (0.17.0)\n",
            "Requirement already satisfied: decorator>=4.3.0 in /usr/local/lib/python3.6/dist-packages (from networkx->pke==1.8.1) (4.4.2)\n",
            "Requirement already satisfied: blis<0.5.0,>=0.4.0 in /usr/local/lib/python3.6/dist-packages (from spacy->pke==1.8.1) (0.4.1)\n",
            "Requirement already satisfied: cymem<2.1.0,>=2.0.2 in /usr/local/lib/python3.6/dist-packages (from spacy->pke==1.8.1) (2.0.4)\n",
            "Requirement already satisfied: plac<1.2.0,>=0.9.6 in /usr/local/lib/python3.6/dist-packages (from spacy->pke==1.8.1) (1.1.3)\n",
            "Requirement already satisfied: preshed<3.1.0,>=3.0.2 in /usr/local/lib/python3.6/dist-packages (from spacy->pke==1.8.1) (3.0.4)\n",
            "Requirement already satisfied: srsly<1.1.0,>=1.0.2 in /usr/local/lib/python3.6/dist-packages (from spacy->pke==1.8.1) (1.0.4)\n",
            "Requirement already satisfied: tqdm<5.0.0,>=4.38.0 in /usr/local/lib/python3.6/dist-packages (from spacy->pke==1.8.1) (4.41.1)\n",
            "Requirement already satisfied: setuptools in /usr/local/lib/python3.6/dist-packages (from spacy->pke==1.8.1) (50.3.2)\n",
            "Requirement already satisfied: requests<3.0.0,>=2.13.0 in /usr/local/lib/python3.6/dist-packages (from spacy->pke==1.8.1) (2.23.0)\n",
            "Requirement already satisfied: murmurhash<1.1.0,>=0.28.0 in /usr/local/lib/python3.6/dist-packages (from spacy->pke==1.8.1) (1.0.4)\n",
            "Requirement already satisfied: thinc==7.4.0 in /usr/local/lib/python3.6/dist-packages (from spacy->pke==1.8.1) (7.4.0)\n",
            "Requirement already satisfied: wasabi<1.1.0,>=0.4.0 in /usr/local/lib/python3.6/dist-packages (from spacy->pke==1.8.1) (0.8.0)\n",
            "Requirement already satisfied: catalogue<1.1.0,>=0.0.7 in /usr/local/lib/python3.6/dist-packages (from spacy->pke==1.8.1) (1.0.0)\n",
            "Requirement already satisfied: scikit-learn in /usr/local/lib/python3.6/dist-packages (from sklearn->pke==1.8.1) (0.22.2.post1)\n",
            "Requirement already satisfied: chardet<4,>=3.0.2 in /usr/local/lib/python3.6/dist-packages (from requests<3.0.0,>=2.13.0->spacy->pke==1.8.1) (3.0.4)\n",
            "Requirement already satisfied: urllib3!=1.25.0,!=1.25.1,<1.26,>=1.21.1 in /usr/local/lib/python3.6/dist-packages (from requests<3.0.0,>=2.13.0->spacy->pke==1.8.1) (1.24.3)\n",
            "Requirement already satisfied: certifi>=2017.4.17 in /usr/local/lib/python3.6/dist-packages (from requests<3.0.0,>=2.13.0->spacy->pke==1.8.1) (2020.11.8)\n",
            "Requirement already satisfied: idna<3,>=2.5 in /usr/local/lib/python3.6/dist-packages (from requests<3.0.0,>=2.13.0->spacy->pke==1.8.1) (2.10)\n",
            "Requirement already satisfied: importlib-metadata>=0.20; python_version < \"3.8\" in /usr/local/lib/python3.6/dist-packages (from catalogue<1.1.0,>=0.0.7->spacy->pke==1.8.1) (2.0.0)\n",
            "Requirement already satisfied: zipp>=0.5 in /usr/local/lib/python3.6/dist-packages (from importlib-metadata>=0.20; python_version < \"3.8\"->catalogue<1.1.0,>=0.0.7->spacy->pke==1.8.1) (3.4.0)\n",
            "Building wheels for collected packages: pke\n",
            "  Building wheel for pke (setup.py) ... \u001b[?25l\u001b[?25hdone\n",
            "  Created wheel for pke: filename=pke-1.8.1-cp36-none-any.whl size=8763600 sha256=a52144e7c9c48bde66dc512ddb37a59e6000957f97f1d9c46aa8ce0bdf3acd59\n",
            "  Stored in directory: /tmp/pip-ephem-wheel-cache-dfkiv8fx/wheels/8d/24/54/6582e854e9e32dd6c632af6762b3a5d2f6b181c2992e165462\n",
            "Successfully built pke\n",
            "Installing collected packages: unidecode, pke\n",
            "Successfully installed pke-1.8.1 unidecode-1.1.1\n",
            "/usr/lib/python3.6/runpy.py:125: RuntimeWarning: 'nltk.downloader' found in sys.modules after import of package 'nltk', but prior to execution of 'nltk.downloader'; this may result in unpredictable behaviour\n",
            "  warn(RuntimeWarning(msg))\n",
            "[nltk_data] Downloading package stopwords to /root/nltk_data...\n",
            "[nltk_data]   Unzipping corpora/stopwords.zip.\n",
            "/usr/lib/python3.6/runpy.py:125: RuntimeWarning: 'nltk.downloader' found in sys.modules after import of package 'nltk', but prior to execution of 'nltk.downloader'; this may result in unpredictable behaviour\n",
            "  warn(RuntimeWarning(msg))\n",
            "[nltk_data] Downloading package universal_tagset to /root/nltk_data...\n",
            "[nltk_data]   Unzipping taggers/universal_tagset.zip.\n",
            "Requirement already satisfied: en_core_web_sm==2.2.5 from https://github.com/explosion/spacy-models/releases/download/en_core_web_sm-2.2.5/en_core_web_sm-2.2.5.tar.gz#egg=en_core_web_sm==2.2.5 in /usr/local/lib/python3.6/dist-packages (2.2.5)\n",
            "Requirement already satisfied: spacy>=2.2.2 in /usr/local/lib/python3.6/dist-packages (from en_core_web_sm==2.2.5) (2.2.4)\n",
            "Requirement already satisfied: tqdm<5.0.0,>=4.38.0 in /usr/local/lib/python3.6/dist-packages (from spacy>=2.2.2->en_core_web_sm==2.2.5) (4.41.1)\n",
            "Requirement already satisfied: srsly<1.1.0,>=1.0.2 in /usr/local/lib/python3.6/dist-packages (from spacy>=2.2.2->en_core_web_sm==2.2.5) (1.0.4)\n",
            "Requirement already satisfied: setuptools in /usr/local/lib/python3.6/dist-packages (from spacy>=2.2.2->en_core_web_sm==2.2.5) (50.3.2)\n",
            "Requirement already satisfied: numpy>=1.15.0 in /usr/local/lib/python3.6/dist-packages (from spacy>=2.2.2->en_core_web_sm==2.2.5) (1.18.5)\n",
            "Requirement already satisfied: cymem<2.1.0,>=2.0.2 in /usr/local/lib/python3.6/dist-packages (from spacy>=2.2.2->en_core_web_sm==2.2.5) (2.0.4)\n",
            "Requirement already satisfied: blis<0.5.0,>=0.4.0 in /usr/local/lib/python3.6/dist-packages (from spacy>=2.2.2->en_core_web_sm==2.2.5) (0.4.1)\n",
            "Requirement already satisfied: thinc==7.4.0 in /usr/local/lib/python3.6/dist-packages (from spacy>=2.2.2->en_core_web_sm==2.2.5) (7.4.0)\n",
            "Requirement already satisfied: requests<3.0.0,>=2.13.0 in /usr/local/lib/python3.6/dist-packages (from spacy>=2.2.2->en_core_web_sm==2.2.5) (2.23.0)\n",
            "Requirement already satisfied: preshed<3.1.0,>=3.0.2 in /usr/local/lib/python3.6/dist-packages (from spacy>=2.2.2->en_core_web_sm==2.2.5) (3.0.4)\n",
            "Requirement already satisfied: plac<1.2.0,>=0.9.6 in /usr/local/lib/python3.6/dist-packages (from spacy>=2.2.2->en_core_web_sm==2.2.5) (1.1.3)\n",
            "Requirement already satisfied: catalogue<1.1.0,>=0.0.7 in /usr/local/lib/python3.6/dist-packages (from spacy>=2.2.2->en_core_web_sm==2.2.5) (1.0.0)\n",
            "Requirement already satisfied: wasabi<1.1.0,>=0.4.0 in /usr/local/lib/python3.6/dist-packages (from spacy>=2.2.2->en_core_web_sm==2.2.5) (0.8.0)\n",
            "Requirement already satisfied: murmurhash<1.1.0,>=0.28.0 in /usr/local/lib/python3.6/dist-packages (from spacy>=2.2.2->en_core_web_sm==2.2.5) (1.0.4)\n",
            "Requirement already satisfied: urllib3!=1.25.0,!=1.25.1,<1.26,>=1.21.1 in /usr/local/lib/python3.6/dist-packages (from requests<3.0.0,>=2.13.0->spacy>=2.2.2->en_core_web_sm==2.2.5) (1.24.3)\n",
            "Requirement already satisfied: idna<3,>=2.5 in /usr/local/lib/python3.6/dist-packages (from requests<3.0.0,>=2.13.0->spacy>=2.2.2->en_core_web_sm==2.2.5) (2.10)\n",
            "Requirement already satisfied: chardet<4,>=3.0.2 in /usr/local/lib/python3.6/dist-packages (from requests<3.0.0,>=2.13.0->spacy>=2.2.2->en_core_web_sm==2.2.5) (3.0.4)\n",
            "Requirement already satisfied: certifi>=2017.4.17 in /usr/local/lib/python3.6/dist-packages (from requests<3.0.0,>=2.13.0->spacy>=2.2.2->en_core_web_sm==2.2.5) (2020.11.8)\n",
            "Requirement already satisfied: importlib-metadata>=0.20; python_version < \"3.8\" in /usr/local/lib/python3.6/dist-packages (from catalogue<1.1.0,>=0.0.7->spacy>=2.2.2->en_core_web_sm==2.2.5) (2.0.0)\n",
            "Requirement already satisfied: zipp>=0.5 in /usr/local/lib/python3.6/dist-packages (from importlib-metadata>=0.20; python_version < \"3.8\"->catalogue<1.1.0,>=0.0.7->spacy>=2.2.2->en_core_web_sm==2.2.5) (3.4.0)\n",
            "\u001b[38;5;2m✔ Download and installation successful\u001b[0m\n",
            "You can now load the model via spacy.load('en_core_web_sm')\n",
            "\u001b[38;5;2m✔ Linking successful\u001b[0m\n",
            "/usr/local/lib/python3.6/dist-packages/en_core_web_sm -->\n",
            "/usr/local/lib/python3.6/dist-packages/spacy/data/en\n",
            "You can now load the model via spacy.load('en')\n",
            "[nltk_data] Downloading package punkt to /root/nltk_data...\n",
            "[nltk_data]   Unzipping tokenizers/punkt.zip.\n",
            "[nltk_data] Downloading package stopwords to /root/nltk_data...\n",
            "[nltk_data]   Package stopwords is already up-to-date!\n",
            "[nltk_data] Downloading package wordnet to /root/nltk_data...\n",
            "[nltk_data]   Unzipping corpora/wordnet.zip.\n",
            "Collecting langcodes\n",
            "\u001b[?25l  Downloading https://files.pythonhosted.org/packages/09/f7/51b1d31a1ec3023c8eb4b2e11e1571d714c990fa64baf352d5a30f6f9d83/langcodes-2.1.0.tar.gz (5.0MB)\n",
            "\u001b[K     |████████████████████████████████| 5.0MB 9.4MB/s \n",
            "\u001b[?25hCollecting marisa-trie\n",
            "\u001b[?25l  Downloading https://files.pythonhosted.org/packages/20/95/d23071d0992dabcb61c948fb118a90683193befc88c23e745b050a29e7db/marisa-trie-0.7.5.tar.gz (270kB)\n",
            "\u001b[K     |████████████████████████████████| 276kB 44.4MB/s \n",
            "\u001b[?25hBuilding wheels for collected packages: langcodes, marisa-trie\n",
            "  Building wheel for langcodes (setup.py) ... \u001b[?25l\u001b[?25hdone\n",
            "  Created wheel for langcodes: filename=langcodes-2.1.0-cp36-none-any.whl size=5068034 sha256=ede822d8146ae54d796e3e3fef193b782a54532d5e71fd157aaacb379816e3aa\n",
            "  Stored in directory: /root/.cache/pip/wheels/f7/aa/f5/285652c17bb68a5f6d30bdfeebb517d210cabe18268fcb80b5\n",
            "  Building wheel for marisa-trie (setup.py) ... \u001b[?25l\u001b[?25hdone\n",
            "  Created wheel for marisa-trie: filename=marisa_trie-0.7.5-cp36-cp36m-linux_x86_64.whl size=862260 sha256=ca6d11e4af59794646010afb726bbc695031690696cc28bca0077e76b3919230\n",
            "  Stored in directory: /root/.cache/pip/wheels/45/24/79/022624fc914f0e559fe8a1141aaff1f9df810905a13fc75d57\n",
            "Successfully built langcodes marisa-trie\n",
            "Installing collected packages: marisa-trie, langcodes\n",
            "Successfully installed langcodes-2.1.0 marisa-trie-0.7.5\n"
          ],
          "name": "stdout"
        }
      ]
    },
    {
      "cell_type": "code",
      "metadata": {
        "id": "6KJPvaTHqGpd"
      },
      "source": [
        ""
      ],
      "execution_count": null,
      "outputs": []
    },
    {
      "cell_type": "code",
      "metadata": {
        "colab": {
          "base_uri": "https://localhost:8080/"
        },
        "id": "vl4zgiVjpHH6",
        "outputId": "a8f6dc46-9204-4697-ba1b-4e17a803d03d"
      },
      "source": [
        "import nltk\n",
        "nltk.download('averaged_perceptron_tagger')\n",
        "!pip install wikipedia\n",
        "import wikipedia as wiki\n",
        "\n",
        "def checkingInfo(word):\n",
        "  if not wiki.search(word):\n",
        "    return ''\n",
        "  else :\n",
        "    return wiki.search(word)[0]\n",
        "\n",
        "def keyWordsExtraction(input):\n",
        "  #Convert text to lower case:\n",
        "  input_str = input.lower()\n",
        "  #Remove number if it is not relevant to ur analysis:\n",
        "  #input_str = re.sub(r'\\d+', '', input_str)\n",
        "  #Remove punctuation:\n",
        "  input_str = input_str.translate(str.maketrans('', '', string.punctuation))\n",
        "  #Remove white space:\n",
        "  input_str = input_str.strip()\n",
        "  #lemmatizer=WordNetLemmatizer()\n",
        "  #input_str=word_tokenize(input_str)\n",
        "  #input_str= ' '.join([lemmatizer.lemmatize(w) for w in input_str])\n",
        "\n",
        "\n",
        "  stop_words = list(stopwords.words('english'))\n",
        "  extras = list(['including'])\n",
        "  # 1. create a TfIdf extractor.\n",
        "  extractor = pke.unsupervised.TfIdf()\n",
        "  # 2. load the content of the document.\n",
        "  extractor.load_document(input_str,\n",
        "                        language='en',\n",
        "                        normalization=True)\n",
        "  # 3. select {1-3}-grams not containing punctuation marks as candidates.\n",
        "  extractor.candidate_selection(n=3, stoplist=list(string.punctuation)+stop_words+extras)\n",
        "  # 4. weight the candidates using a `tf` x `idf`\n",
        "  extractor.candidate_weighting()\n",
        "  # 5. get the 15-highest scored candidates as keyphrases\n",
        "  keyphrases= extractor.get_n_best(n=15,stemming=True,redundancy_removal=True)\n",
        "  unzip = [[ i for i, j in keyphrases], \n",
        "        [ j for i, j in keyphrases ]] \n",
        "  words= unzip[0]\n",
        "  singleton = list()\n",
        "  phrase = list()\n",
        "  for x in words:\n",
        "    if ' ' in x :\n",
        "      phrase.append(x)\n",
        "    else :\n",
        "     singleton.append(x)\n",
        "\n",
        " \n",
        "\n",
        "  a = nltk.pos_tag(phrase)\n",
        "  b = [word for word, tag in a if tag in ('NN', 'VBG')]\n",
        "  c = b.copy()\n",
        "\n",
        "  for k in range(0, len(b)):\n",
        "    if any(element in b[k] for element in stoplist):\n",
        "     c.remove(b[k])\n",
        "\n",
        "  for i in range(0,len(c)):\n",
        "    print([c[i],checkingInfo(c[i])]) \n",
        "\n",
        "  res = ''\n",
        "\n",
        "  if len(c) != 0: \n",
        "   d = np.array([checkingInfo(item) for item in c]) \n",
        "   d = d[d!='']\n",
        "   res = ','.join(np.unique(d))\n",
        "  \n",
        "  return res"
      ],
      "execution_count": null,
      "outputs": [
        {
          "output_type": "stream",
          "text": [
            "[nltk_data] Downloading package averaged_perceptron_tagger to\n",
            "[nltk_data]     /root/nltk_data...\n",
            "[nltk_data]   Package averaged_perceptron_tagger is already up-to-\n",
            "[nltk_data]       date!\n",
            "Requirement already satisfied: wikipedia in /usr/local/lib/python3.6/dist-packages (1.4.0)\n",
            "Requirement already satisfied: beautifulsoup4 in /usr/local/lib/python3.6/dist-packages (from wikipedia) (4.6.3)\n",
            "Requirement already satisfied: requests<3.0.0,>=2.0.0 in /usr/local/lib/python3.6/dist-packages (from wikipedia) (2.23.0)\n",
            "Requirement already satisfied: chardet<4,>=3.0.2 in /usr/local/lib/python3.6/dist-packages (from requests<3.0.0,>=2.0.0->wikipedia) (3.0.4)\n",
            "Requirement already satisfied: idna<3,>=2.5 in /usr/local/lib/python3.6/dist-packages (from requests<3.0.0,>=2.0.0->wikipedia) (2.10)\n",
            "Requirement already satisfied: urllib3!=1.25.0,!=1.25.1,<1.26,>=1.21.1 in /usr/local/lib/python3.6/dist-packages (from requests<3.0.0,>=2.0.0->wikipedia) (1.24.3)\n",
            "Requirement already satisfied: certifi>=2017.4.17 in /usr/local/lib/python3.6/dist-packages (from requests<3.0.0,>=2.0.0->wikipedia) (2020.11.8)\n"
          ],
          "name": "stdout"
        }
      ]
    },
    {
      "cell_type": "code",
      "metadata": {
        "colab": {
          "base_uri": "https://localhost:8080/",
          "height": 443
        },
        "id": "Qb0RgOjD7yYB",
        "outputId": "35bdfdcd-03a8-443a-89b2-d934de22e7db"
      },
      "source": [
        "def keyWordsExtraction(input):\n",
        "  #Convert text to lower case:\n",
        "  input_str = input.lower()\n",
        "  #Remove number if it is not relevant to ur analysis:\n",
        "  #input_str = re.sub(r'\\d+', '', input_str)\n",
        "  #Remove punctuation:\n",
        "  input_str = input_str.translate(str.maketrans('', '', string.punctuation))\n",
        "  #Remove white space:\n",
        "  input_str = input_str.strip()\n",
        "  #lemmatizer=WordNetLemmatizer()\n",
        "  #input_str=word_tokenize(input_str)\n",
        "  #input_str= ' '.join([lemmatizer.lemmatize(w) for w in input_str])\n",
        "\n",
        "\n",
        "  stop_words = list(stopwords.words('english'))\n",
        "  extras = list(['including'])\n",
        "  # 1. create a TfIdf extractor.\n",
        "  extractor = pke.unsupervised.TfIdf()\n",
        "  # 2. load the content of the document.\n",
        "  extractor.load_document(input_str,\n",
        "                        language='en',\n",
        "                        normalization=True)\n",
        "  # 3. select {1-3}-grams not containing punctuation marks as candidates.\n",
        "  extractor.candidate_selection(n=3, stoplist=list(string.punctuation)+stop_words+extras)\n",
        "  # 4. weight the candidates using a `tf` x `idf`\n",
        "  extractor.candidate_weighting()\n",
        "  # 5. get the 15-highest scored candidates as keyphrases\n",
        "  keyphrases= extractor.get_n_best(n=15,stemming=True,redundancy_removal=True)\n",
        "  unzip = [[ i for i, j in keyphrases], \n",
        "        [ j for i, j in keyphrases ]] \n",
        "  words= unzip[0]\n",
        "  singleton = list()\n",
        "  phrase = list()\n",
        "  for x in words:\n",
        "    if ' ' in x :\n",
        "      phrase.append(x)\n",
        "    else :\n",
        "     singleton.append(x)\n",
        "\n",
        " \n",
        "\n",
        "  a = nltk.pos_tag(phrase)\n",
        "  b = [word for word, tag in a if tag in ('NN', 'VBG')]\n",
        "  c = b.copy()\n",
        "\n",
        "  for k in range(0, len(b)):\n",
        "    if any(element in b[k] for element in stoplist):\n",
        "     c.remove(b[k])\n",
        "\n",
        "  for i in range(0,len(c)):\n",
        "    print([c[i],checkingInfo(c[i])]) \n",
        "\n",
        "  res = ''\n",
        "\n",
        "  if len(c) != 0: \n",
        "   d = np.array([checkingInfo(item) for item in c]) \n",
        "   d = d[d!='']\n",
        "   res = ','.join(np.unique(d))\n",
        "  \n",
        "  return a\n",
        "\n",
        "\n",
        "text = pd.read_csv('All_conf.csv')\n",
        "description =     text['description'].values.tolist()\n",
        "keyWordsExtraction(description[0])"
      ],
      "execution_count": null,
      "outputs": [
        {
          "output_type": "error",
          "ename": "FileNotFoundError",
          "evalue": "ignored",
          "traceback": [
            "\u001b[0;31m---------------------------------------------------------------------------\u001b[0m",
            "\u001b[0;31mFileNotFoundError\u001b[0m                         Traceback (most recent call last)",
            "\u001b[0;32m<ipython-input-16-a3aedadc7aee>\u001b[0m in \u001b[0;36m<module>\u001b[0;34m()\u001b[0m\n\u001b[1;32m     61\u001b[0m \u001b[0;34m\u001b[0m\u001b[0m\n\u001b[1;32m     62\u001b[0m \u001b[0;34m\u001b[0m\u001b[0m\n\u001b[0;32m---> 63\u001b[0;31m \u001b[0mtext\u001b[0m \u001b[0;34m=\u001b[0m \u001b[0mpd\u001b[0m\u001b[0;34m.\u001b[0m\u001b[0mread_csv\u001b[0m\u001b[0;34m(\u001b[0m\u001b[0;34m'All_conf.csv'\u001b[0m\u001b[0;34m)\u001b[0m\u001b[0;34m\u001b[0m\u001b[0;34m\u001b[0m\u001b[0m\n\u001b[0m\u001b[1;32m     64\u001b[0m \u001b[0mdescription\u001b[0m \u001b[0;34m=\u001b[0m     \u001b[0mtext\u001b[0m\u001b[0;34m[\u001b[0m\u001b[0;34m'description'\u001b[0m\u001b[0;34m]\u001b[0m\u001b[0;34m.\u001b[0m\u001b[0mvalues\u001b[0m\u001b[0;34m.\u001b[0m\u001b[0mtolist\u001b[0m\u001b[0;34m(\u001b[0m\u001b[0;34m)\u001b[0m\u001b[0;34m\u001b[0m\u001b[0;34m\u001b[0m\u001b[0m\n\u001b[1;32m     65\u001b[0m \u001b[0mkeyWordsExtraction\u001b[0m\u001b[0;34m(\u001b[0m\u001b[0mdescription\u001b[0m\u001b[0;34m[\u001b[0m\u001b[0;36m0\u001b[0m\u001b[0;34m]\u001b[0m\u001b[0;34m)\u001b[0m\u001b[0;34m\u001b[0m\u001b[0;34m\u001b[0m\u001b[0m\n",
            "\u001b[0;32m/usr/local/lib/python3.6/dist-packages/pandas/io/parsers.py\u001b[0m in \u001b[0;36mread_csv\u001b[0;34m(filepath_or_buffer, sep, delimiter, header, names, index_col, usecols, squeeze, prefix, mangle_dupe_cols, dtype, engine, converters, true_values, false_values, skipinitialspace, skiprows, skipfooter, nrows, na_values, keep_default_na, na_filter, verbose, skip_blank_lines, parse_dates, infer_datetime_format, keep_date_col, date_parser, dayfirst, cache_dates, iterator, chunksize, compression, thousands, decimal, lineterminator, quotechar, quoting, doublequote, escapechar, comment, encoding, dialect, error_bad_lines, warn_bad_lines, delim_whitespace, low_memory, memory_map, float_precision)\u001b[0m\n\u001b[1;32m    686\u001b[0m     )\n\u001b[1;32m    687\u001b[0m \u001b[0;34m\u001b[0m\u001b[0m\n\u001b[0;32m--> 688\u001b[0;31m     \u001b[0;32mreturn\u001b[0m \u001b[0m_read\u001b[0m\u001b[0;34m(\u001b[0m\u001b[0mfilepath_or_buffer\u001b[0m\u001b[0;34m,\u001b[0m \u001b[0mkwds\u001b[0m\u001b[0;34m)\u001b[0m\u001b[0;34m\u001b[0m\u001b[0;34m\u001b[0m\u001b[0m\n\u001b[0m\u001b[1;32m    689\u001b[0m \u001b[0;34m\u001b[0m\u001b[0m\n\u001b[1;32m    690\u001b[0m \u001b[0;34m\u001b[0m\u001b[0m\n",
            "\u001b[0;32m/usr/local/lib/python3.6/dist-packages/pandas/io/parsers.py\u001b[0m in \u001b[0;36m_read\u001b[0;34m(filepath_or_buffer, kwds)\u001b[0m\n\u001b[1;32m    452\u001b[0m \u001b[0;34m\u001b[0m\u001b[0m\n\u001b[1;32m    453\u001b[0m     \u001b[0;31m# Create the parser.\u001b[0m\u001b[0;34m\u001b[0m\u001b[0;34m\u001b[0m\u001b[0;34m\u001b[0m\u001b[0m\n\u001b[0;32m--> 454\u001b[0;31m     \u001b[0mparser\u001b[0m \u001b[0;34m=\u001b[0m \u001b[0mTextFileReader\u001b[0m\u001b[0;34m(\u001b[0m\u001b[0mfp_or_buf\u001b[0m\u001b[0;34m,\u001b[0m \u001b[0;34m**\u001b[0m\u001b[0mkwds\u001b[0m\u001b[0;34m)\u001b[0m\u001b[0;34m\u001b[0m\u001b[0;34m\u001b[0m\u001b[0m\n\u001b[0m\u001b[1;32m    455\u001b[0m \u001b[0;34m\u001b[0m\u001b[0m\n\u001b[1;32m    456\u001b[0m     \u001b[0;32mif\u001b[0m \u001b[0mchunksize\u001b[0m \u001b[0;32mor\u001b[0m \u001b[0miterator\u001b[0m\u001b[0;34m:\u001b[0m\u001b[0;34m\u001b[0m\u001b[0;34m\u001b[0m\u001b[0m\n",
            "\u001b[0;32m/usr/local/lib/python3.6/dist-packages/pandas/io/parsers.py\u001b[0m in \u001b[0;36m__init__\u001b[0;34m(self, f, engine, **kwds)\u001b[0m\n\u001b[1;32m    946\u001b[0m             \u001b[0mself\u001b[0m\u001b[0;34m.\u001b[0m\u001b[0moptions\u001b[0m\u001b[0;34m[\u001b[0m\u001b[0;34m\"has_index_names\"\u001b[0m\u001b[0;34m]\u001b[0m \u001b[0;34m=\u001b[0m \u001b[0mkwds\u001b[0m\u001b[0;34m[\u001b[0m\u001b[0;34m\"has_index_names\"\u001b[0m\u001b[0;34m]\u001b[0m\u001b[0;34m\u001b[0m\u001b[0;34m\u001b[0m\u001b[0m\n\u001b[1;32m    947\u001b[0m \u001b[0;34m\u001b[0m\u001b[0m\n\u001b[0;32m--> 948\u001b[0;31m         \u001b[0mself\u001b[0m\u001b[0;34m.\u001b[0m\u001b[0m_make_engine\u001b[0m\u001b[0;34m(\u001b[0m\u001b[0mself\u001b[0m\u001b[0;34m.\u001b[0m\u001b[0mengine\u001b[0m\u001b[0;34m)\u001b[0m\u001b[0;34m\u001b[0m\u001b[0;34m\u001b[0m\u001b[0m\n\u001b[0m\u001b[1;32m    949\u001b[0m \u001b[0;34m\u001b[0m\u001b[0m\n\u001b[1;32m    950\u001b[0m     \u001b[0;32mdef\u001b[0m \u001b[0mclose\u001b[0m\u001b[0;34m(\u001b[0m\u001b[0mself\u001b[0m\u001b[0;34m)\u001b[0m\u001b[0;34m:\u001b[0m\u001b[0;34m\u001b[0m\u001b[0;34m\u001b[0m\u001b[0m\n",
            "\u001b[0;32m/usr/local/lib/python3.6/dist-packages/pandas/io/parsers.py\u001b[0m in \u001b[0;36m_make_engine\u001b[0;34m(self, engine)\u001b[0m\n\u001b[1;32m   1178\u001b[0m     \u001b[0;32mdef\u001b[0m \u001b[0m_make_engine\u001b[0m\u001b[0;34m(\u001b[0m\u001b[0mself\u001b[0m\u001b[0;34m,\u001b[0m \u001b[0mengine\u001b[0m\u001b[0;34m=\u001b[0m\u001b[0;34m\"c\"\u001b[0m\u001b[0;34m)\u001b[0m\u001b[0;34m:\u001b[0m\u001b[0;34m\u001b[0m\u001b[0;34m\u001b[0m\u001b[0m\n\u001b[1;32m   1179\u001b[0m         \u001b[0;32mif\u001b[0m \u001b[0mengine\u001b[0m \u001b[0;34m==\u001b[0m \u001b[0;34m\"c\"\u001b[0m\u001b[0;34m:\u001b[0m\u001b[0;34m\u001b[0m\u001b[0;34m\u001b[0m\u001b[0m\n\u001b[0;32m-> 1180\u001b[0;31m             \u001b[0mself\u001b[0m\u001b[0;34m.\u001b[0m\u001b[0m_engine\u001b[0m \u001b[0;34m=\u001b[0m \u001b[0mCParserWrapper\u001b[0m\u001b[0;34m(\u001b[0m\u001b[0mself\u001b[0m\u001b[0;34m.\u001b[0m\u001b[0mf\u001b[0m\u001b[0;34m,\u001b[0m \u001b[0;34m**\u001b[0m\u001b[0mself\u001b[0m\u001b[0;34m.\u001b[0m\u001b[0moptions\u001b[0m\u001b[0;34m)\u001b[0m\u001b[0;34m\u001b[0m\u001b[0;34m\u001b[0m\u001b[0m\n\u001b[0m\u001b[1;32m   1181\u001b[0m         \u001b[0;32melse\u001b[0m\u001b[0;34m:\u001b[0m\u001b[0;34m\u001b[0m\u001b[0;34m\u001b[0m\u001b[0m\n\u001b[1;32m   1182\u001b[0m             \u001b[0;32mif\u001b[0m \u001b[0mengine\u001b[0m \u001b[0;34m==\u001b[0m \u001b[0;34m\"python\"\u001b[0m\u001b[0;34m:\u001b[0m\u001b[0;34m\u001b[0m\u001b[0;34m\u001b[0m\u001b[0m\n",
            "\u001b[0;32m/usr/local/lib/python3.6/dist-packages/pandas/io/parsers.py\u001b[0m in \u001b[0;36m__init__\u001b[0;34m(self, src, **kwds)\u001b[0m\n\u001b[1;32m   2008\u001b[0m         \u001b[0mkwds\u001b[0m\u001b[0;34m[\u001b[0m\u001b[0;34m\"usecols\"\u001b[0m\u001b[0;34m]\u001b[0m \u001b[0;34m=\u001b[0m \u001b[0mself\u001b[0m\u001b[0;34m.\u001b[0m\u001b[0musecols\u001b[0m\u001b[0;34m\u001b[0m\u001b[0;34m\u001b[0m\u001b[0m\n\u001b[1;32m   2009\u001b[0m \u001b[0;34m\u001b[0m\u001b[0m\n\u001b[0;32m-> 2010\u001b[0;31m         \u001b[0mself\u001b[0m\u001b[0;34m.\u001b[0m\u001b[0m_reader\u001b[0m \u001b[0;34m=\u001b[0m \u001b[0mparsers\u001b[0m\u001b[0;34m.\u001b[0m\u001b[0mTextReader\u001b[0m\u001b[0;34m(\u001b[0m\u001b[0msrc\u001b[0m\u001b[0;34m,\u001b[0m \u001b[0;34m**\u001b[0m\u001b[0mkwds\u001b[0m\u001b[0;34m)\u001b[0m\u001b[0;34m\u001b[0m\u001b[0;34m\u001b[0m\u001b[0m\n\u001b[0m\u001b[1;32m   2011\u001b[0m         \u001b[0mself\u001b[0m\u001b[0;34m.\u001b[0m\u001b[0munnamed_cols\u001b[0m \u001b[0;34m=\u001b[0m \u001b[0mself\u001b[0m\u001b[0;34m.\u001b[0m\u001b[0m_reader\u001b[0m\u001b[0;34m.\u001b[0m\u001b[0munnamed_cols\u001b[0m\u001b[0;34m\u001b[0m\u001b[0;34m\u001b[0m\u001b[0m\n\u001b[1;32m   2012\u001b[0m \u001b[0;34m\u001b[0m\u001b[0m\n",
            "\u001b[0;32mpandas/_libs/parsers.pyx\u001b[0m in \u001b[0;36mpandas._libs.parsers.TextReader.__cinit__\u001b[0;34m()\u001b[0m\n",
            "\u001b[0;32mpandas/_libs/parsers.pyx\u001b[0m in \u001b[0;36mpandas._libs.parsers.TextReader._setup_parser_source\u001b[0;34m()\u001b[0m\n",
            "\u001b[0;31mFileNotFoundError\u001b[0m: [Errno 2] No such file or directory: 'All_conf.csv'"
          ]
        }
      ]
    },
    {
      "cell_type": "code",
      "metadata": {
        "id": "b1uHnVdF84BZ"
      },
      "source": [
        "description[0]"
      ],
      "execution_count": null,
      "outputs": []
    },
    {
      "cell_type": "code",
      "metadata": {
        "id": "LUuXW2zr9hXD"
      },
      "source": [
        "keyWordsExtraction(description[0])"
      ],
      "execution_count": null,
      "outputs": []
    },
    {
      "cell_type": "code",
      "metadata": {
        "id": "Tw1Tf8stpMtf"
      },
      "source": [
        "import spacy\n",
        "from spacy import displacy\n",
        "from collections import Counter\n",
        "import en_core_web_sm\n",
        "def entityExtraction(input):\n",
        "  nlp = en_core_web_sm.load()\n",
        "  doc = nlp(input)\n",
        "  table = [(X.text) for X in doc.ents if X.label_ is 'GPE' or X.label_ is 'ORG' or X.label_ is 'PRODUCT']\n",
        "  result = Counter(table).keys()\n",
        "  res = list(result)\n",
        "  return ','.join(res)"
      ],
      "execution_count": null,
      "outputs": []
    },
    {
      "cell_type": "code",
      "metadata": {
        "id": "lB5jqEwipO69"
      },
      "source": [
        "def calString(input):\n",
        "  input_str = input.translate(str.maketrans('', '', string.punctuation))\n",
        "  input_str = input_str.strip()\n",
        "  return len(word_tokenize(input_str))"
      ],
      "execution_count": null,
      "outputs": []
    },
    {
      "cell_type": "code",
      "metadata": {
        "id": "FbDJ4JDppSL4"
      },
      "source": [
        "def getINC(input):\n",
        "  nlp = en_core_web_sm.load()\n",
        "  doc = nlp(input)\n",
        "  table = [(X.text) for X in doc.ents if X.label_ == 'PERSON']\n",
        "  res = ','.join(table)\n",
        "  if ',' in res:\n",
        "    a = res.split(',')\n",
        "    res = a[0]\n",
        "  return res\n"
      ],
      "execution_count": null,
      "outputs": []
    },
    {
      "cell_type": "code",
      "metadata": {
        "id": "f_iHirLipU0V"
      },
      "source": [
        "def clean(input):\n",
        "  return input.lower().replace(' / ',',').replace(' & ',',')"
      ],
      "execution_count": null,
      "outputs": []
    },
    {
      "cell_type": "code",
      "metadata": {
        "id": "QwXu-DkppX1J"
      },
      "source": [
        "text = pd.read_csv('All_conf.csv')\n",
        "#inc =      text['Inc'].values.tolist()\n",
        "description =     text['description'].values.tolist()\n",
        "#title =    text['Title'].values.tolist()\n",
        "\n",
        "\n",
        "final = pd.DataFrame ({}, columns = ['Length','Keywords','Entity'])\n",
        "for i in range(len(text)):\n",
        "  #company = inc[i]\n",
        "  KandS   = keyWordsExtraction(description[i])\n",
        "  ent = entityExtraction(description[i])\n",
        "  add = pd.DataFrame({         \n",
        "                      \"Length\":    [calString(description[i])],   \n",
        "                      \"Keywords\":  [KandS],\n",
        "                      \"Entity\":    [ent]\n",
        "                      })\n",
        "  final = final.append(add, ignore_index=True)\n",
        "final"
      ],
      "execution_count": null,
      "outputs": []
    },
    {
      "cell_type": "code",
      "metadata": {
        "id": "TsENGvIiqIxj"
      },
      "source": [
        "stoplist=['also discus',\n",
        "'still',\n",
        "'well',\n",
        "'present',\n",
        "'drone',\n",
        "'first',\n",
        "'large',\n",
        "'every',\n",
        "'cause',\n",
        "'sufficiently',\n",
        "'streamlined',\n",
        "'unique approach',\n",
        "'using',\n",
        "'current effort',\n",
        "'often',\n",
        "'benchmark tool spatter',\n",
        "'upcoming',\n",
        "'several',\n",
        "'poster present',\n",
        "'technical detail',\n",
        "'take',\n",
        "'poster show',\n",
        "'tackle',\n",
        "'trust',\n",
        "'well',\n",
        "'previous work',\n",
        "'defense method',\n",
        "'highly',\n",
        "'relatively',\n",
        "'asynchronous execution',\n",
        "'currently',\n",
        "'experience',\n",
        "'neural chemistry',\n",
        "'joining',\n",
        "'combining',\n",
        "'board range',\n",
        "'furthermore',\n",
        "'desire',\n",
        "'getting lot',\n",
        "'like',\n",
        "'faster',\n",
        "'show breakthrough performance',\n",
        "'various deep',\n",
        "'model like mask',\n",
        "'take lot',\n",
        "'label noise',\n",
        "'neighborhood ann search',\n",
        "'massive scaling',\n",
        "'ai solution',\n",
        "'ha moved beyond',\n",
        "'moved beyond research',\n",
        "'move faster',\n",
        "'solving',\n",
        "'target',\n",
        "'many',\n",
        "'tqi ha',\n",
        "'highest quality',\n",
        "'leading',\n",
        "'domestic intelligent video',\n",
        "'manually',\n",
        "'well introduce',\n",
        "'owner still face',\n",
        "'design factor',\n",
        "'particle problem',\n",
        "'featuring',\n",
        "'since 2018',\n",
        "'actively',\n",
        "'provide',\n",
        "'simple multicamera',\n",
        "'multicamera medium server',\n",
        "'diverse combination',\n",
        "'four gate',\n",
        "'recent success',\n",
        "'human feedback',\n",
        "'video demostration',\n",
        "'third person video',\n",
        "'opensource ml framework',\n",
        "'evaluate',\n",
        "'three novel',\n",
        "'novel design criterion',\n",
        "'recent',\n",
        "'achieved',\n",
        "'japan research',\n",
        "'various',\n",
        "'extract',\n",
        "'discus',\n",
        "'covering',\n",
        "'social medium',\n",
        "'deep learning ha',\n",
        "'essential element',\n",
        "'product talk',\n",
        "'clara',\n",
        "'latest feature',\n",
        "'continue',\n",
        "'increasing',\n",
        "'often',\n",
        "'latest performance',\n",
        "'reference framework',\n",
        "'anomalous event',\n",
        "'de novo',\n",
        "'ai software',\n",
        "'dl application',\n",
        "'patient journey',\n",
        "'collectively',\n",
        "'best treatment',\n",
        "'shown promising',\n",
        "'ai offer',\n",
        "'analysis iga ha',\n",
        "'san francisco',\n",
        "'wideranging',\n",
        "'powerful technique',\n",
        "'rapid advancement',\n",
        "'opensource contribution',\n",
        "'talk cover',\n",
        "'feature like realtime',\n",
        "'various consideration',\n",
        "'scan time',\n",
        "'substantially',\n",
        "'dramatic',\n",
        "'reinvneted',\n",
        "'skeletal injury',\n",
        "'like much',\n",
        "'iowa',\n",
        "'taken many fields',\n",
        "'relatively little use',\n",
        "'ha begun',\n",
        "'pacc help lower',\n",
        "'language instruction',\n",
        "'coffee maker',\n",
        "'dl model',\n",
        "'current profiling',\n",
        "'highly',\n",
        "'characterize ideal',\n",
        "'teaching kit',\n",
        "'front line',\n",
        "'last september',\n",
        "'milwaukee',\n",
        "'certain object feature',\n",
        "'important task',\n",
        "'active topic',\n",
        "'surface texture',\n",
        "'drug response hidden',\n",
        "'world however',\n",
        "'present unique challenge',\n",
        "'elevated',\n",
        "'synthesis vid2vid',\n",
        "'core application',\n",
        "'md engine',\n",
        "'shanghai jiao',\n",
        "'imply',\n",
        "'well explain',\n",
        "'sciencetific advancement',\n",
        "'important reducing',\n",
        "'minion device',\n",
        "'well report',\n",
        "'well present submit',\n",
        "'without',\n",
        "'completing',\n",
        "'approach combine',\n",
        "'ongoing work',\n",
        "'poster present',\n",
        "'tasking framework',\n",
        "'poster cover',\n",
        "'making progress',\n",
        "'resolving speed',\n",
        "'cost challenge',\n",
        "'realtime performance',\n",
        "'immersive experience',\n",
        "'two decade',\n",
        "'cpu render',\n",
        "'biggest pain',\n",
        "'widely',\n",
        "'care center',\n",
        "'continually looking',\n",
        "'gtc 2019',\n",
        "'substance alchemist',\n",
        "'produce hole distortion',\n",
        "'obscured part',\n",
        "'application like graph',\n",
        "'rd team',\n",
        "'video game technology',\n",
        "'year wide',\n",
        "'significant progress',\n",
        "'system show great',\n",
        "'show great performance',\n",
        "'bike demand',\n",
        "'worldwide one',\n",
        "'one important',\n",
        "'create',\n",
        "'product presentation design',\n",
        "'presentation design review',\n",
        "'vehicle industry ha',\n",
        "'many company',\n",
        "'core problem',\n",
        "'broad range',\n",
        "'road user',\n",
        "'deepti mahajan',\n",
        "'daytoday life',\n",
        "'related topic',\n",
        "'topic first',\n",
        "'hd map',\n",
        "'current real world',\n",
        "'employ',\n",
        "'application workload',\n",
        "'robust sensor',\n",
        "'panoptic segmentation deep',\n",
        "'digital road',\n",
        "'continued advance',\n",
        "'autonomous vehicle company',\n",
        "'well talk',\n",
        "'also leading',\n",
        "'onboard processing',\n",
        "'nvidias metropolis application',\n",
        "'virtual validation vv',\n",
        "'general strength',\n",
        "'vv briefly',\n",
        "'ha machine',\n",
        "'ha machine learning',\n",
        "'share insight',\n",
        "'best architecture',\n",
        "'intelligent scenario',\n",
        "'common solution many',\n",
        "'project however',\n",
        "'magnitude smaller',\n",
        "'new possibility',\n",
        "'exciting world',\n",
        "'talk ill',\n",
        "'streaming platform part',\n",
        "'platform part ',\n",
        "'recent decade',\n",
        "'knowledge quiz show',\n",
        "'right question',\n",
        "'dimension like never',\n",
        "'player perform',\n",
        "'jeopardy',\n",
        "'active user',\n",
        "'twitter',\n",
        "'training complex image',\n",
        "'intelligently connecting',\n",
        "'connecting',\n",
        "'infinite world',\n",
        "'new possibility',\n",
        "'company around',\n",
        "'michal would',\n",
        "'best practice',\n",
        "'painful pushing',\n",
        "'make split second',\n",
        "'reallife story',\n",
        "'method much effort',\n",
        "'fun part',\n",
        "'part ie training',\n",
        "'favorite performance',\n",
        "'intelligence give retailer',\n",
        "'great opportunity',\n",
        "'experience convinience',\n",
        "'cause issue',\n",
        "'gaining insight',\n",
        "'large amount',\n",
        "'whole different',\n",
        "'generating new',\n",
        "'ha mature',\n",
        "'offline analysis',\n",
        "'lacked option',\n",
        "'prominent comment',\n",
        "'building amazing',\n",
        "'bi solution',\n",
        "'basic building',\n",
        "'innovative solution',\n",
        "'require manually',\n",
        "'development wa',\n",
        "'phenomenal growth',\n",
        "'many challenge',\n",
        "'incredibly sophisticated',\n",
        "'short introduction',\n",
        "'many different',\n",
        "'empty phrase meaning',\n",
        "'flank stack',\n",
        "'phrase meaning everything',\n",
        "'build fast',\n",
        "'since everybody',\n",
        "'sound super',\n",
        "'vague sense',\n",
        "'organisation question',\n",
        "'common use',\n",
        "'provide tip',\n",
        "'good practice',\n",
        "'exciting yet getting',\n",
        "'race wa',\n",
        "'soviet union',\n",
        "'beautiful window',\n",
        "'pose real limit',\n",
        "'answer nontrivial question',\n",
        "'key new challenge',\n",
        "'industry 40',\n",
        "'huge ethical gap',\n",
        "'without leaving',\n",
        "'build machine',\n",
        "'best manage',\n",
        "'huge mass',\n",
        "'processing model ha',\n",
        "'otherwise inaccurate',\n",
        "'widespread excitement',\n",
        "'fairness accountability',\n",
        "'practice case',\n",
        "'ai kane',\n",
        "'wide us',\n",
        "'sucessful implementation',\n",
        "'key enabler',\n",
        "'session mat',\n",
        "'interesting segment',\n",
        "'get high',\n",
        "'web visitor',\n",
        "'fast data',\n",
        "'covid19',\n",
        "'spreading across',\n",
        "'posing',\n",
        "'goverment try',\n",
        "'since 2013',\n",
        "'minimum passenger',\n",
        "'overfilled vehicle',\n",
        "'idea development',\n",
        "'ingesting billion',\n",
        "'multiple',\n",
        "'ai solution',\n",
        "'significant challenge',\n",
        "'comapny trying',\n",
        "'ai technologist',\n",
        "'keynote address',\n",
        "'kristine',\n",
        "'kristine dery',\n",
        "'people work',\n",
        "'true anywhere organization',\n",
        "'basic tenet',\n",
        "'team attempt',\n",
        "'katie king',\n",
        "'confusion hype',\n",
        "'surrounding',\n",
        "'well fargo',\n",
        "'christy punch',\n",
        "'inside look',\n",
        "'responsible part',\n",
        "'include redesigning',\n",
        "'impact every aspect',\n",
        "'work transformation',\n",
        "'today workplace',\n",
        "'still moving',\n",
        "'often left',\n",
        "'exceptional pace',\n",
        "'exclusive group',\n",
        "'challenging part',\n",
        "'biggest workplace',\n",
        "'hootsuite ha',\n",
        "'enjoyed rapid growth',\n",
        "'rapid growth',\n",
        "'since',\n",
        "'best learning',\n",
        "'invisible adjusting',\n",
        "'team dwindling',\n",
        "'flexible working ha',\n",
        "'support employee',\n",
        "'employee journey',\n",
        "'pandemic ha',\n",
        "'new urgency',\n",
        "'constant change',\n",
        "'procedure come',\n",
        "'siobhan',\n",
        "'fagan',\n",
        "'sarah kimmel',\n",
        "'report key',\n",
        "'fast company',\n",
        "'year interviewing',\n",
        "'digital workplace experience',\n",
        "'putting employee',\n",
        "'disconnected application',\n",
        "'exclusive group',\n",
        "'connected culture',\n",
        "'exceed expectation',\n",
        "'project team',\n",
        "'change management',\n",
        "'imperative grew',\n",
        "'right',\n",
        "'key trend across',\n",
        "'across department function',\n",
        "'workplace make',\n",
        "'industry ha',\n",
        "'second look',\n",
        "'ear organization',\n",
        "'better business',\n",
        "'company must',\n",
        "'work otherwise',\n",
        "'risk leaving',\n",
        "'covid',\n",
        "'hybrid',\n",
        "'unifying platform',\n",
        "'doe change',\n",
        "'really feel like',\n",
        "'mass global shift',\n",
        "'permeate',\n",
        "'every',\n",
        "'lower cost increase',\n",
        "'explore nine',\n",
        "'technology operating',\n",
        "'impacting every',\n",
        "'stay ahead',\n",
        "'competition also',\n",
        "'help reshape',\n",
        "'unified identity',\n",
        "'development adoption',\n",
        "'cloud present',\n",
        "'coming next',\n",
        "'development team',\n",
        "'epm development leader',\n",
        "'trailblazing customer',\n",
        "'onpremises software',\n",
        "'inmemory functionality',\n",
        "'lost person',\n",
        "'land payload',\n",
        "'people around',\n",
        "'lightweight',\n",
        "'model explosive weapon',\n",
        "'finding']\n",
        "stoplist"
      ],
      "execution_count": null,
      "outputs": []
    },
    {
      "cell_type": "code",
      "metadata": {
        "id": "BpSFhdoBONL4"
      },
      "source": [
        "!pip install pytrends\n",
        "from pytrends.request import TrendReq\n",
        "\n",
        "pytrends = TrendReq(hl='en-US', tz=360)"
      ],
      "execution_count": null,
      "outputs": []
    },
    {
      "cell_type": "code",
      "metadata": {
        "id": "jq8CAbU1bluP"
      },
      "source": [
        "def display_scores(vectorizer, tfidf_result):\n",
        "    # http://stackoverflow.com/questions/16078015/\n",
        "    scores = zip(vectorizer.get_feature_names(),\n",
        "                 np.asarray(tfidf_result.sum(axis=0)).ravel())\n",
        "    sorted_scores = sorted(scores, key=lambda x: x[1], reverse=True)\n",
        "    for item in sorted_scores:\n",
        "        print (\"{0:50} Score: {1}\".format(item[0], item[1]))\n",
        "\n",
        "\n",
        "\n",
        "display_scores(tfidfvectorizer, tfidf_wm)"
      ],
      "execution_count": null,
      "outputs": []
    },
    {
      "cell_type": "code",
      "metadata": {
        "id": "qrHPlvhMVlU5"
      },
      "source": [
        "from sklearn import svm\n",
        "import numpy as np\n",
        "from sklearn.model_selection import train_test_split\n",
        "\n",
        "X = new_df.drop(\"Industry\", axis=1)\n",
        "y = new_df[\"Industry\"]\n",
        "X_train, X_test, y_train, y_test = train_test_split(X, y, test_size=0.25, random_state=42)\n",
        "\n",
        "clf = svm.SVC()\n",
        "clf.fit(X_train, y_train)\n"
      ],
      "execution_count": null,
      "outputs": []
    },
    {
      "cell_type": "code",
      "metadata": {
        "id": "iX1tmWIEXh5O"
      },
      "source": [
        "from sklearn.metrics import confusion_matrix\n",
        "y_pred = clf.predict(X_test)\n",
        "confusion_matrix(y_pred, y_test)\n",
        "print(classification_report(y_test, y_pred))"
      ],
      "execution_count": null,
      "outputs": []
    },
    {
      "cell_type": "code",
      "metadata": {
        "id": "0FjspmZKt3j0",
        "colab": {
          "base_uri": "https://localhost:8080/",
          "height": 232
        },
        "outputId": "058fabcf-3b86-4e09-b327-b8c9b3c3b7fc"
      },
      "source": [
        "from sklearn.ensemble import RandomForestClassifier\n",
        "from sklearn.metrics import classification_report\n",
        "\n",
        "target_names = ['class 0', 'class 1', 'class 2']\n",
        "# Instantiate model with 1000 decision trees\n",
        "rf = RandomForestClassifier(n_estimators = 100, random_state = 42)\n",
        "# Train the model on training data\n",
        "rf.fit(X_train, y_train)\n",
        "y_pred = rf.predict(X_test)\n",
        "confusion_matrix(y_pred, y_test)\n",
        "print(classification_report(y_test, y_pred))"
      ],
      "execution_count": null,
      "outputs": [
        {
          "output_type": "error",
          "ename": "NameError",
          "evalue": "ignored",
          "traceback": [
            "\u001b[0;31m---------------------------------------------------------------------------\u001b[0m",
            "\u001b[0;31mNameError\u001b[0m                                 Traceback (most recent call last)",
            "\u001b[0;32m<ipython-input-8-559f92579311>\u001b[0m in \u001b[0;36m<module>\u001b[0;34m()\u001b[0m\n\u001b[1;32m      6\u001b[0m \u001b[0mrf\u001b[0m \u001b[0;34m=\u001b[0m \u001b[0mRandomForestClassifier\u001b[0m\u001b[0;34m(\u001b[0m\u001b[0mn_estimators\u001b[0m \u001b[0;34m=\u001b[0m \u001b[0;36m100\u001b[0m\u001b[0;34m,\u001b[0m \u001b[0mrandom_state\u001b[0m \u001b[0;34m=\u001b[0m \u001b[0;36m42\u001b[0m\u001b[0;34m)\u001b[0m\u001b[0;34m\u001b[0m\u001b[0;34m\u001b[0m\u001b[0m\n\u001b[1;32m      7\u001b[0m \u001b[0;31m# Train the model on training data\u001b[0m\u001b[0;34m\u001b[0m\u001b[0;34m\u001b[0m\u001b[0;34m\u001b[0m\u001b[0m\n\u001b[0;32m----> 8\u001b[0;31m \u001b[0mrf\u001b[0m\u001b[0;34m.\u001b[0m\u001b[0mfit\u001b[0m\u001b[0;34m(\u001b[0m\u001b[0mX_train\u001b[0m\u001b[0;34m,\u001b[0m \u001b[0my_train\u001b[0m\u001b[0;34m)\u001b[0m\u001b[0;34m\u001b[0m\u001b[0;34m\u001b[0m\u001b[0m\n\u001b[0m\u001b[1;32m      9\u001b[0m \u001b[0my_pred\u001b[0m \u001b[0;34m=\u001b[0m \u001b[0mrf\u001b[0m\u001b[0;34m.\u001b[0m\u001b[0mpredict\u001b[0m\u001b[0;34m(\u001b[0m\u001b[0mX_test\u001b[0m\u001b[0;34m)\u001b[0m\u001b[0;34m\u001b[0m\u001b[0;34m\u001b[0m\u001b[0m\n\u001b[1;32m     10\u001b[0m \u001b[0mconfusion_matrix\u001b[0m\u001b[0;34m(\u001b[0m\u001b[0my_pred\u001b[0m\u001b[0;34m,\u001b[0m \u001b[0my_test\u001b[0m\u001b[0;34m)\u001b[0m\u001b[0;34m\u001b[0m\u001b[0;34m\u001b[0m\u001b[0m\n",
            "\u001b[0;31mNameError\u001b[0m: name 'X_train' is not defined"
          ]
        }
      ]
    },
    {
      "cell_type": "code",
      "metadata": {
        "id": "NSIITyNsaLi0",
        "colab": {
          "base_uri": "https://localhost:8080/",
          "height": 375
        },
        "outputId": "06c8e943-e871-4379-8c54-2378d600f21a"
      },
      "source": [
        "raw = pd.read_csv('ALL_DATA.csv', encoding='Latin-1')\n",
        "raw.pop(\"Singleton\")\n",
        "raw.pop('Length')\n",
        "raw.pop('Entity')\n",
        "df = raw.replace(np.nan, '', regex=True)\n",
        "df"
      ],
      "execution_count": null,
      "outputs": [
        {
          "output_type": "error",
          "ename": "FileNotFoundError",
          "evalue": "ignored",
          "traceback": [
            "\u001b[0;31m---------------------------------------------------------------------------\u001b[0m",
            "\u001b[0;31mFileNotFoundError\u001b[0m                         Traceback (most recent call last)",
            "\u001b[0;32m<ipython-input-7-325e1f855356>\u001b[0m in \u001b[0;36m<module>\u001b[0;34m()\u001b[0m\n\u001b[0;32m----> 1\u001b[0;31m \u001b[0mraw\u001b[0m \u001b[0;34m=\u001b[0m \u001b[0mpd\u001b[0m\u001b[0;34m.\u001b[0m\u001b[0mread_csv\u001b[0m\u001b[0;34m(\u001b[0m\u001b[0;34m'ALL_DATA.csv'\u001b[0m\u001b[0;34m,\u001b[0m \u001b[0mencoding\u001b[0m\u001b[0;34m=\u001b[0m\u001b[0;34m'Latin-1'\u001b[0m\u001b[0;34m)\u001b[0m\u001b[0;34m\u001b[0m\u001b[0;34m\u001b[0m\u001b[0m\n\u001b[0m\u001b[1;32m      2\u001b[0m \u001b[0mraw\u001b[0m\u001b[0;34m.\u001b[0m\u001b[0mpop\u001b[0m\u001b[0;34m(\u001b[0m\u001b[0;34m\"Singleton\"\u001b[0m\u001b[0;34m)\u001b[0m\u001b[0;34m\u001b[0m\u001b[0;34m\u001b[0m\u001b[0m\n\u001b[1;32m      3\u001b[0m \u001b[0mraw\u001b[0m\u001b[0;34m.\u001b[0m\u001b[0mpop\u001b[0m\u001b[0;34m(\u001b[0m\u001b[0;34m'Length'\u001b[0m\u001b[0;34m)\u001b[0m\u001b[0;34m\u001b[0m\u001b[0;34m\u001b[0m\u001b[0m\n\u001b[1;32m      4\u001b[0m \u001b[0mraw\u001b[0m\u001b[0;34m.\u001b[0m\u001b[0mpop\u001b[0m\u001b[0;34m(\u001b[0m\u001b[0;34m'Entity'\u001b[0m\u001b[0;34m)\u001b[0m\u001b[0;34m\u001b[0m\u001b[0;34m\u001b[0m\u001b[0m\n\u001b[1;32m      5\u001b[0m \u001b[0mdf\u001b[0m \u001b[0;34m=\u001b[0m \u001b[0mraw\u001b[0m\u001b[0;34m.\u001b[0m\u001b[0mreplace\u001b[0m\u001b[0;34m(\u001b[0m\u001b[0mnp\u001b[0m\u001b[0;34m.\u001b[0m\u001b[0mnan\u001b[0m\u001b[0;34m,\u001b[0m \u001b[0;34m''\u001b[0m\u001b[0;34m,\u001b[0m \u001b[0mregex\u001b[0m\u001b[0;34m=\u001b[0m\u001b[0;32mTrue\u001b[0m\u001b[0;34m)\u001b[0m\u001b[0;34m\u001b[0m\u001b[0;34m\u001b[0m\u001b[0m\n",
            "\u001b[0;32m/usr/local/lib/python3.6/dist-packages/pandas/io/parsers.py\u001b[0m in \u001b[0;36mread_csv\u001b[0;34m(filepath_or_buffer, sep, delimiter, header, names, index_col, usecols, squeeze, prefix, mangle_dupe_cols, dtype, engine, converters, true_values, false_values, skipinitialspace, skiprows, skipfooter, nrows, na_values, keep_default_na, na_filter, verbose, skip_blank_lines, parse_dates, infer_datetime_format, keep_date_col, date_parser, dayfirst, cache_dates, iterator, chunksize, compression, thousands, decimal, lineterminator, quotechar, quoting, doublequote, escapechar, comment, encoding, dialect, error_bad_lines, warn_bad_lines, delim_whitespace, low_memory, memory_map, float_precision)\u001b[0m\n\u001b[1;32m    686\u001b[0m     )\n\u001b[1;32m    687\u001b[0m \u001b[0;34m\u001b[0m\u001b[0m\n\u001b[0;32m--> 688\u001b[0;31m     \u001b[0;32mreturn\u001b[0m \u001b[0m_read\u001b[0m\u001b[0;34m(\u001b[0m\u001b[0mfilepath_or_buffer\u001b[0m\u001b[0;34m,\u001b[0m \u001b[0mkwds\u001b[0m\u001b[0;34m)\u001b[0m\u001b[0;34m\u001b[0m\u001b[0;34m\u001b[0m\u001b[0m\n\u001b[0m\u001b[1;32m    689\u001b[0m \u001b[0;34m\u001b[0m\u001b[0m\n\u001b[1;32m    690\u001b[0m \u001b[0;34m\u001b[0m\u001b[0m\n",
            "\u001b[0;32m/usr/local/lib/python3.6/dist-packages/pandas/io/parsers.py\u001b[0m in \u001b[0;36m_read\u001b[0;34m(filepath_or_buffer, kwds)\u001b[0m\n\u001b[1;32m    452\u001b[0m \u001b[0;34m\u001b[0m\u001b[0m\n\u001b[1;32m    453\u001b[0m     \u001b[0;31m# Create the parser.\u001b[0m\u001b[0;34m\u001b[0m\u001b[0;34m\u001b[0m\u001b[0;34m\u001b[0m\u001b[0m\n\u001b[0;32m--> 454\u001b[0;31m     \u001b[0mparser\u001b[0m \u001b[0;34m=\u001b[0m \u001b[0mTextFileReader\u001b[0m\u001b[0;34m(\u001b[0m\u001b[0mfp_or_buf\u001b[0m\u001b[0;34m,\u001b[0m \u001b[0;34m**\u001b[0m\u001b[0mkwds\u001b[0m\u001b[0;34m)\u001b[0m\u001b[0;34m\u001b[0m\u001b[0;34m\u001b[0m\u001b[0m\n\u001b[0m\u001b[1;32m    455\u001b[0m \u001b[0;34m\u001b[0m\u001b[0m\n\u001b[1;32m    456\u001b[0m     \u001b[0;32mif\u001b[0m \u001b[0mchunksize\u001b[0m \u001b[0;32mor\u001b[0m \u001b[0miterator\u001b[0m\u001b[0;34m:\u001b[0m\u001b[0;34m\u001b[0m\u001b[0;34m\u001b[0m\u001b[0m\n",
            "\u001b[0;32m/usr/local/lib/python3.6/dist-packages/pandas/io/parsers.py\u001b[0m in \u001b[0;36m__init__\u001b[0;34m(self, f, engine, **kwds)\u001b[0m\n\u001b[1;32m    946\u001b[0m             \u001b[0mself\u001b[0m\u001b[0;34m.\u001b[0m\u001b[0moptions\u001b[0m\u001b[0;34m[\u001b[0m\u001b[0;34m\"has_index_names\"\u001b[0m\u001b[0;34m]\u001b[0m \u001b[0;34m=\u001b[0m \u001b[0mkwds\u001b[0m\u001b[0;34m[\u001b[0m\u001b[0;34m\"has_index_names\"\u001b[0m\u001b[0;34m]\u001b[0m\u001b[0;34m\u001b[0m\u001b[0;34m\u001b[0m\u001b[0m\n\u001b[1;32m    947\u001b[0m \u001b[0;34m\u001b[0m\u001b[0m\n\u001b[0;32m--> 948\u001b[0;31m         \u001b[0mself\u001b[0m\u001b[0;34m.\u001b[0m\u001b[0m_make_engine\u001b[0m\u001b[0;34m(\u001b[0m\u001b[0mself\u001b[0m\u001b[0;34m.\u001b[0m\u001b[0mengine\u001b[0m\u001b[0;34m)\u001b[0m\u001b[0;34m\u001b[0m\u001b[0;34m\u001b[0m\u001b[0m\n\u001b[0m\u001b[1;32m    949\u001b[0m \u001b[0;34m\u001b[0m\u001b[0m\n\u001b[1;32m    950\u001b[0m     \u001b[0;32mdef\u001b[0m \u001b[0mclose\u001b[0m\u001b[0;34m(\u001b[0m\u001b[0mself\u001b[0m\u001b[0;34m)\u001b[0m\u001b[0;34m:\u001b[0m\u001b[0;34m\u001b[0m\u001b[0;34m\u001b[0m\u001b[0m\n",
            "\u001b[0;32m/usr/local/lib/python3.6/dist-packages/pandas/io/parsers.py\u001b[0m in \u001b[0;36m_make_engine\u001b[0;34m(self, engine)\u001b[0m\n\u001b[1;32m   1178\u001b[0m     \u001b[0;32mdef\u001b[0m \u001b[0m_make_engine\u001b[0m\u001b[0;34m(\u001b[0m\u001b[0mself\u001b[0m\u001b[0;34m,\u001b[0m \u001b[0mengine\u001b[0m\u001b[0;34m=\u001b[0m\u001b[0;34m\"c\"\u001b[0m\u001b[0;34m)\u001b[0m\u001b[0;34m:\u001b[0m\u001b[0;34m\u001b[0m\u001b[0;34m\u001b[0m\u001b[0m\n\u001b[1;32m   1179\u001b[0m         \u001b[0;32mif\u001b[0m \u001b[0mengine\u001b[0m \u001b[0;34m==\u001b[0m \u001b[0;34m\"c\"\u001b[0m\u001b[0;34m:\u001b[0m\u001b[0;34m\u001b[0m\u001b[0;34m\u001b[0m\u001b[0m\n\u001b[0;32m-> 1180\u001b[0;31m             \u001b[0mself\u001b[0m\u001b[0;34m.\u001b[0m\u001b[0m_engine\u001b[0m \u001b[0;34m=\u001b[0m \u001b[0mCParserWrapper\u001b[0m\u001b[0;34m(\u001b[0m\u001b[0mself\u001b[0m\u001b[0;34m.\u001b[0m\u001b[0mf\u001b[0m\u001b[0;34m,\u001b[0m \u001b[0;34m**\u001b[0m\u001b[0mself\u001b[0m\u001b[0;34m.\u001b[0m\u001b[0moptions\u001b[0m\u001b[0;34m)\u001b[0m\u001b[0;34m\u001b[0m\u001b[0;34m\u001b[0m\u001b[0m\n\u001b[0m\u001b[1;32m   1181\u001b[0m         \u001b[0;32melse\u001b[0m\u001b[0;34m:\u001b[0m\u001b[0;34m\u001b[0m\u001b[0;34m\u001b[0m\u001b[0m\n\u001b[1;32m   1182\u001b[0m             \u001b[0;32mif\u001b[0m \u001b[0mengine\u001b[0m \u001b[0;34m==\u001b[0m \u001b[0;34m\"python\"\u001b[0m\u001b[0;34m:\u001b[0m\u001b[0;34m\u001b[0m\u001b[0;34m\u001b[0m\u001b[0m\n",
            "\u001b[0;32m/usr/local/lib/python3.6/dist-packages/pandas/io/parsers.py\u001b[0m in \u001b[0;36m__init__\u001b[0;34m(self, src, **kwds)\u001b[0m\n\u001b[1;32m   1991\u001b[0m         \u001b[0;32mif\u001b[0m \u001b[0mkwds\u001b[0m\u001b[0;34m.\u001b[0m\u001b[0mget\u001b[0m\u001b[0;34m(\u001b[0m\u001b[0;34m\"compression\"\u001b[0m\u001b[0;34m)\u001b[0m \u001b[0;32mis\u001b[0m \u001b[0;32mNone\u001b[0m \u001b[0;32mand\u001b[0m \u001b[0mencoding\u001b[0m\u001b[0;34m:\u001b[0m\u001b[0;34m\u001b[0m\u001b[0;34m\u001b[0m\u001b[0m\n\u001b[1;32m   1992\u001b[0m             \u001b[0;32mif\u001b[0m \u001b[0misinstance\u001b[0m\u001b[0;34m(\u001b[0m\u001b[0msrc\u001b[0m\u001b[0;34m,\u001b[0m \u001b[0mstr\u001b[0m\u001b[0;34m)\u001b[0m\u001b[0;34m:\u001b[0m\u001b[0;34m\u001b[0m\u001b[0;34m\u001b[0m\u001b[0m\n\u001b[0;32m-> 1993\u001b[0;31m                 \u001b[0msrc\u001b[0m \u001b[0;34m=\u001b[0m \u001b[0mopen\u001b[0m\u001b[0;34m(\u001b[0m\u001b[0msrc\u001b[0m\u001b[0;34m,\u001b[0m \u001b[0;34m\"rb\"\u001b[0m\u001b[0;34m)\u001b[0m\u001b[0;34m\u001b[0m\u001b[0;34m\u001b[0m\u001b[0m\n\u001b[0m\u001b[1;32m   1994\u001b[0m                 \u001b[0mself\u001b[0m\u001b[0;34m.\u001b[0m\u001b[0mhandles\u001b[0m\u001b[0;34m.\u001b[0m\u001b[0mappend\u001b[0m\u001b[0;34m(\u001b[0m\u001b[0msrc\u001b[0m\u001b[0;34m)\u001b[0m\u001b[0;34m\u001b[0m\u001b[0;34m\u001b[0m\u001b[0m\n\u001b[1;32m   1995\u001b[0m \u001b[0;34m\u001b[0m\u001b[0m\n",
            "\u001b[0;31mFileNotFoundError\u001b[0m: [Errno 2] No such file or directory: 'ALL_DATA.csv'"
          ]
        }
      ]
    },
    {
      "cell_type": "code",
      "metadata": {
        "id": "VlpRjrGauFSQ"
      },
      "source": [
        ""
      ],
      "execution_count": null,
      "outputs": []
    },
    {
      "cell_type": "code",
      "metadata": {
        "id": "EwBbzteNPq6f"
      },
      "source": [
        "import collections\n",
        "\n",
        "def highlightedTopic(text, entities):\n",
        "  filter = df[df[entities] == text]\n",
        "  train = list(filter.Keywords)\n",
        "  t = [item.split(',') for item in train]\n",
        "  flat_list = []\n",
        "  for sublist in t:\n",
        "    for item in sublist:\n",
        "        flat_list.append(item)\n",
        "  counter = collections.Counter(flat_list)\n",
        "  c= counter.most_common()\n",
        "  return c[:10]\n"
      ],
      "execution_count": null,
      "outputs": []
    },
    {
      "cell_type": "code",
      "metadata": {
        "id": "r-iZrgzxL7jE"
      },
      "source": [
        "highlightedTopic('Hazelcast','Inc')"
      ],
      "execution_count": null,
      "outputs": []
    },
    {
      "cell_type": "code",
      "metadata": {
        "id": "XN8qOuze_0kZ"
      },
      "source": [
        "highlightedTopic('SHI GmbH','Inc')"
      ],
      "execution_count": null,
      "outputs": []
    },
    {
      "cell_type": "code",
      "metadata": {
        "id": "PewPjPcDBsLj"
      },
      "source": [
        "highlightedTopic('Code4Thought','Inc')"
      ],
      "execution_count": null,
      "outputs": []
    },
    {
      "cell_type": "code",
      "metadata": {
        "id": "u3bKzEmlPSA2"
      },
      "source": [
        "train = list(df.Keywords)\n",
        "t = [item.split(',') for item in train]\n",
        "flat_list = []\n",
        "for sublist in t:\n",
        "    for item in sublist:\n",
        "        flat_list.append(item)\n",
        "flat_list"
      ],
      "execution_count": null,
      "outputs": []
    },
    {
      "cell_type": "code",
      "metadata": {
        "id": "E-ljxDaPHedL"
      },
      "source": [
        "import os\n",
        "import re\n",
        "import math\n",
        "\n",
        "class PageManager(object):\n",
        "    \"\"\"Class for managing pages.\"\"\"\n",
        "\n",
        "    def __init__(self):\n",
        "        self.pages = {}\n",
        "\n",
        "    def load_with_title(self, title):\n",
        "        \"\"\"Load the page with given title.\"\"\"\n",
        "\n",
        "        if title in self.pages.keys():\n",
        "            return\n",
        "        url = \"http://en.wikipedia.org/wiki/\" + title\n",
        "        self.pages[title] = Page(url)\n",
        "\n",
        "    def sort_page_relevance(self, title):\n",
        "        \"\"\"Return a sorted list of titles and relevance sorted by relevance\n",
        "        Relevance is determined by the ratio of common links from both pages\n",
        "        to total number of links in the second.\"\"\"\n",
        "        self.load_with_title(title)\n",
        "        relevance = []\n",
        "        page = self.pages[title]\n",
        "        for t in self.pages:\n",
        "            ratio = page.get_common_link_ratio(self.pages[t])\n",
        "            relevance.append((t, ratio))\n",
        "        relevance.sort(key= lambda x: x[1])\n",
        "        relevance.reverse()\n",
        "        return relevance\n",
        "\n",
        "\n",
        "\n",
        "class Page(object):\n",
        "\n",
        "    def __init__(self, url):\n",
        "        self.url = url\n",
        "        # http://en.wikipedia.org/wiki/TITLE#INNER_LINK\n",
        "        self.title = url.split(\"/\")[-1].split(\"#\")[0]\n",
        "        self.title = self.title.replace('%27',\"'\")\n",
        "        self.read_page()\n",
        "        self.get_main_div()\n",
        "        self.find_links()\n",
        "\n",
        "    def read_page(self):\n",
        "        \"\"\"Read the page\n",
        "        Tries to read from local disk first. If the file is not found,\n",
        "        it is downloaded.\"\"\"\n",
        "        try:\n",
        "            tempfile = open(self.title)\n",
        "        except FileNotFoundError:\n",
        "            os.system(\"wget '{}'\".format(self.url))\n",
        "            tempfile = open(self.title)\n",
        "        self.lines = tempfile.readlines()\n",
        "        tempfile.close()\n",
        "\n",
        "    def get_main_div(self):\n",
        "        self.main_div_content = []\n",
        "        started = False\n",
        "        for line in self.lines:\n",
        "            if not started:\n",
        "                if line.strip().startswith('<div id=\"bodyContent'):\n",
        "                    self.main_div_content.append(line)\n",
        "                    started = True\n",
        "            else:\n",
        "                if line.strip().startswith('<div id=\"mw-navigation'):\n",
        "                    break\n",
        "                self.main_div_content.append(line)\n",
        "        # Rip off first generic lines (links to search etc.)\n",
        "        self.main_div_content = self.main_div_content[9:]\n",
        "\n",
        "    def find_links(self):\n",
        "        self.links = []\n",
        "        for line in self.main_div_content:\n",
        "            match = re.search('/wiki/([a-zA-Z_:]*)', line)\n",
        "            if not match: continue\n",
        "            if \":\" not in match.group(1): self.links.append(match.group(1))\n",
        "        self.links = set(self.links)\n",
        "\n",
        "    def find_common_links(self, page):\n",
        "        common_links =[]\n",
        "        for link in self.links:\n",
        "            if link in page.links:\n",
        "                common_links.append(link)\n",
        "        return common_links\n",
        "\n",
        "    def count_common_links(self, page):\n",
        "        return len(self.find_common_links(page))\n",
        "\n",
        "    def get_common_link_ratio(self, page):\n",
        "        count = self.count_common_links(page)\n",
        "        return math.tan(((count/(len(page.links)+len(self.links)))*math.pi/2))\n",
        "\n"
      ],
      "execution_count": null,
      "outputs": []
    },
    {
      "cell_type": "code",
      "metadata": {
        "id": "xLc3PBiSRBhi"
      },
      "source": [
        "import math\n",
        "math.tan(0.5*math.pi/2)"
      ],
      "execution_count": null,
      "outputs": []
    },
    {
      "cell_type": "code",
      "metadata": {
        "id": "AmVUK9EqFNxe"
      },
      "source": [
        "b = [item.replace(' ', '_') for item in flat_list]\n",
        "c = [item.replace('\\x96','–')for item in b]\n",
        "a = [item.replace(\"'\",'%27')for item in c]\n",
        "#index = a.index(\"Parkinson's_disease\")\n",
        "#a[index] = 'Parkinson%27s_disease'\n",
        "a.remove('')\n",
        "a.remove('')\n",
        "a.remove('')\n",
        "a.remove('')\n",
        "a.remove('')\n",
        "a.remove('')\n",
        "a.remove('')\n",
        "a.remove('')\n",
        "a.remove('')\n",
        "a.remove('')\n",
        "a.remove('')\n",
        "a.remove('')\n",
        "a.remove('')\n",
        "a.remove('')\n",
        "a.remove('')\n",
        "a.remove('')\n",
        "a.remove(\"You_didn%27t_build_that\")"
      ],
      "execution_count": null,
      "outputs": []
    },
    {
      "cell_type": "code",
      "metadata": {
        "id": "_VezjDiSVAFY"
      },
      "source": [
        "a"
      ],
      "execution_count": null,
      "outputs": []
    },
    {
      "cell_type": "code",
      "metadata": {
        "id": "TNzQPpwqHphk"
      },
      "source": [
        "page_manager = PageManager()\n",
        "example_titles = a\n",
        "\n",
        "for title in example_titles:\n",
        "  page_manager.load_with_title(title)\n",
        "  if (len(Page(title).links)==0):\n",
        "   print(title)\n",
        "   \n",
        "#print(page_manager.pages[\"Data_science\"].get_common_link_ratio(page_manager.pages[\"Directive_(programming)\"]))\n",
        "#print(page_manager.pages[\"Data_science\"].get_common_link_ratio(page_manager.pages[\"Dog\"]))\n",
        "#print(page_manager.pages[\"data_science\"].get_common_link_ratio(page_manager.pages[\"artificial_intelligence\"]))\n",
        "#print(page_manager.pages[\"Data_science\"].get_common_link_ratio(page_manager.pages[\"Machine_learning\"]))\n",
        "#print(page_manager.pages[\"List_of_Nvidia_graphics_processing_units\"].get_common_link_ratio(page_manager.pages[\"Nvidia\"]))\n",
        "    \n",
        "    "
      ],
      "execution_count": null,
      "outputs": []
    },
    {
      "cell_type": "code",
      "metadata": {
        "id": "ukkToL1KT59r"
      },
      "source": [
        "page_manager = PageManager()\n",
        "example_titles = ['data_science','dog','artificial_intelligence']\n",
        "\n",
        "for title in example_titles:\n",
        "  page_manager.load_with_title(title)\n",
        "\n",
        "print(page_manager.pages[\"artificial_intelligence\"].get_common_link_ratio(page_manager.pages[\"dog\"]))\n",
        "print(page_manager.pages[\"data_science\"].get_common_link_ratio(page_manager.pages[\"dog\"]))\n",
        "print(page_manager.pages[\"data_science\"].get_common_link_ratio(page_manager.pages[\"artificial_intelligence\"]))"
      ],
      "execution_count": null,
      "outputs": []
    },
    {
      "cell_type": "code",
      "metadata": {
        "id": "uZVfa2tlhm8S"
      },
      "source": [
        "df['Keywords'] = df['Keywords'].apply(lambda x: ''.join([item.replace(' ', '_') for item in x]))\n",
        "df['Keywords'] = df['Keywords'].apply(lambda x: ''.join([item.replace('\\x96','–')for item in x]))\n",
        "df['Keywords'] = df['Keywords'].apply(lambda x: ''.join([item.replace(\"'\",'%27')for item in x]))\n",
        "df"
      ],
      "execution_count": null,
      "outputs": []
    },
    {
      "cell_type": "code",
      "metadata": {
        "id": "IiSTESN6mWdb"
      },
      "source": [
        "df[df['Keywords'] != '']"
      ],
      "execution_count": null,
      "outputs": []
    },
    {
      "cell_type": "code",
      "metadata": {
        "id": "Eovo1xyFVBjV"
      },
      "source": [
        "FullKey = df[df['Keywords'] != '']\n",
        "e = list(FullKey.Inc.unique())\n",
        "len(e)\n",
        "initializeMatrix = np.zeros((len(e), len(e)))\n",
        "initializeMatrix.shape\n",
        "for i in range(0,len(e)):\n",
        "  for j in range(0,len(e)):\n",
        "    comp1 = FullKey[FullKey['Inc'] == e[i]]\n",
        "    comp2 = FullKey[FullKey['Inc'] == e[j]]\n",
        "    list1 = [item.split(',') for item in comp1['Keywords'].values]\n",
        "    list2 = [item.split(',') for item in comp2['Keywords'].values]\n",
        "    flatten1 = []\n",
        "    for sublist in list1:\n",
        "      for item in sublist:\n",
        "        flatten1.append(item)\n",
        "\n",
        "    flatten2 = [] \n",
        "    for sublist in list2:\n",
        "      for item in sublist:\n",
        "        flatten2.append(item)\n",
        "    #Filter 1\n",
        "    if (\"You_didn%27t_build_that\" in flatten1):\n",
        "      flatten1.remove(\"You_didn%27t_build_that\")\n",
        "    if (\"Average_selling_price\" in flatten1):\n",
        "      flatten1.remove(\"Average_selling_price\")\n",
        "    if (\"Business_domain\" in flatten1):\n",
        "      flatten1.remove(\"Business_domain\")\n",
        "    #Filter 2\n",
        "    if (\"You_didn%27t_build_that\" in flatten2):\n",
        "      flatten2.remove(\"You_didn%27t_build_that\")\n",
        "    if (\"Average_selling_price\" in flatten2):\n",
        "      flatten2.remove(\"Average_selling_price\")\n",
        "    if (\"Business_domain\" in flatten2):\n",
        "      flatten2.remove(\"Business_domain\")\n",
        "    initializeMatrix[i,j] = wikiCompare(list1=flatten1, list2=flatten2)\n",
        "initializeMatrix"
      ],
      "execution_count": null,
      "outputs": []
    },
    {
      "cell_type": "code",
      "metadata": {
        "id": "KYxkJUjOwhK2"
      },
      "source": [
        "comp2 = df[df['Inc'] == 'The Boeing Company']\n",
        "list2 = [item.split(',') for item in comp2['Keywords'].values]\n",
        "list2[0]"
      ],
      "execution_count": null,
      "outputs": []
    },
    {
      "cell_type": "code",
      "metadata": {
        "id": "SJ9XS7Qswylp"
      },
      "source": [
        "comp2 = df[df['Inc'] == 'University of Cambridge']\n",
        "list2 = [item.split(',') for item in comp2['Keywords'].values]\n",
        "list2[0]"
      ],
      "execution_count": null,
      "outputs": []
    },
    {
      "cell_type": "code",
      "metadata": {
        "id": "O4CslNt-vp0Z"
      },
      "source": [
        "final = pd.DataFrame(initializeMatrix, e, e)\n",
        "sortingL = []\n",
        "for i in range(0,len(e)):\n",
        "  sortingL.append((initializeMatrix[0][i],e[i]))\n",
        "sorted(sortingL,key=lambda x: x[0],reverse=True)"
      ],
      "execution_count": null,
      "outputs": []
    },
    {
      "cell_type": "code",
      "metadata": {
        "id": "d4FM2uAQHiY7"
      },
      "source": [
        "final.to_csv('similarityMatrix.csv', index=False)  "
      ],
      "execution_count": null,
      "outputs": []
    },
    {
      "cell_type": "code",
      "metadata": {
        "id": "iv5h6PpJ39bO"
      },
      "source": [
        "! pip install networkx\n",
        "import networkx as nx"
      ],
      "execution_count": null,
      "outputs": []
    },
    {
      "cell_type": "code",
      "metadata": {
        "id": "B23YJNs-imLi"
      },
      "source": [
        "dist_df = forComp\n",
        "# build the similarity graph\n",
        "G = nx.Graph()\n",
        "for i, row_i in dist_df.iterrows():\n",
        "    for j, row_j in dist_df.iterrows():\n",
        "        # the weights are 1 - distance (if distance is 0, similarity is 1)\n",
        "        G.add_edge(i,j,weight=dist_df.loc[i][j]*15)\n",
        "\n",
        "# Possible ways of spreading the vertices in the plot, try the best (there are others as well)\n",
        "# pos = nx.spring_layout(G)\n",
        "pos = nx.circular_layout(G)\n",
        "\n",
        "# get the edges\n",
        "edges = G.edges()\n",
        "# get the weights\n",
        "weights = [G[u][v]['weight'] for u,v in edges]\n",
        "\n",
        "# color palette\n",
        "cmap = 'bwr'\n",
        "\n",
        "# draw the graph \n",
        "# layout is pos\n",
        "# the color of the edges follows the weights\n",
        "# the width of the edges follows the weights\n",
        "# the name of the vertex is printed\n",
        "# the colormap is cmap\n",
        "nx.draw(G, pos, edge_color=weights, width=weights, with_labels=True, cmap=cmap)"
      ],
      "execution_count": null,
      "outputs": []
    },
    {
      "cell_type": "code",
      "metadata": {
        "id": "2hkEEfGRq1ML"
      },
      "source": [
        "sortingL = []\n",
        "for i in range(0,len(e)):\n",
        "  sortingL.append((initializeMatrix[0][i],e[i],i))\n",
        "res1 = sorted(sortingL,key=lambda x: x[0],reverse=True)[:9]\n",
        "res2 = [i[2] for i in res1]\n",
        "compName = [i[1] for i in res1]\n",
        "res2\n",
        "resMatrix = np.zeros((len(res2), len(res2)))\n",
        "for i in range(0,len(res2)):\n",
        "  for j in range(0,len(res2)):\n",
        "      resMatrix[i][j] = initializeMatrix[res2[i]][res2[j]]\n",
        "forComp = pd.DataFrame(resMatrix,compName,compName)\n",
        "forComp\n",
        "\n"
      ],
      "execution_count": null,
      "outputs": []
    },
    {
      "cell_type": "code",
      "metadata": {
        "id": "x1hTKQNrrjRM"
      },
      "source": [
        "#! pip install networkx\n",
        "#import networkx as nx\n",
        "\n",
        "def CompSim(name): \n",
        "# e = companyList.values\n",
        "# initializeMatrix = similarityMatrix.values (after pd.read csv for both case) \n",
        "  index = e.index(name)\n",
        "  sortingL = []\n",
        "  for i in range(0,len(e)):\n",
        "    sortingL.append((initializeMatrix[index][i],e[i],i))\n",
        "  res1 = sorted(sortingL,key=lambda x: x[0],reverse=True)[:9]\n",
        "  res2 = [i[2] for i in res1]\n",
        "  compName = [i[1] for i in res1]\n",
        "  resMatrix = np.zeros((len(res2), len(res2)))\n",
        "  for i in range(0,len(res2)):\n",
        "    for j in range(0,len(res2)):\n",
        "      resMatrix[i][j] = initializeMatrix[res2[i]][res2[j]]\n",
        "\n",
        "  forComp = pd.DataFrame(resMatrix,compName,compName)\n",
        "  dist_df = forComp\n",
        "  G = nx.Graph()\n",
        "  for i, row_i in dist_df.iterrows():\n",
        "    for j, row_j in dist_df.iterrows():\n",
        "        G.add_edge(i,j,weight=dist_df.loc[i][j]*20)\n",
        "\n",
        "  pos = nx.kamada_kawai_layout(G)\n",
        "  edges = G.edges()\n",
        "  weights = [G[u][v]['weight'] for u,v in edges]\n",
        "  cmap = 'bwr'\n",
        "\n",
        "  fig, ax = plt.subplots(figsize=(10, 10))\n",
        "  # Visualize graph components\n",
        "  nx.draw_networkx_edges(G, pos, alpha=0.3, width=weights, edge_color=weights)\n",
        "  nx.draw_networkx_nodes(G, pos, node_color=\"#210070\", alpha=0.9)\n",
        "  label_options = {\"ec\": \"k\", \"fc\": \"white\", \"alpha\": 0.7}\n",
        "  nx.draw_networkx_labels(G, pos, font_size=10, bbox=label_options)\n",
        "\n",
        "  # Resize figure for label readibility\n",
        "  ax.margins(0.1, 0.05)\n",
        "  fig.tight_layout()\n",
        "  plt.axis(\"off\")\n",
        "  plt.show()\n",
        " \n",
        "\n",
        "CompSim('Google')"
      ],
      "execution_count": null,
      "outputs": []
    },
    {
      "cell_type": "code",
      "metadata": {
        "id": "S5TP3wFEbD3E"
      },
      "source": [
        "e"
      ],
      "execution_count": null,
      "outputs": []
    },
    {
      "cell_type": "code",
      "metadata": {
        "id": "N3MHjtnxN1-J"
      },
      "source": [
        "hello = pd.DataFrame(e)\n",
        "hello.to_csv('companyList.csv', index=False)"
      ],
      "execution_count": null,
      "outputs": []
    },
    {
      "cell_type": "code",
      "metadata": {
        "id": "HCVKUWF5bwQP"
      },
      "source": [
        "def wikiCompare(list1,list2):\n",
        "  common_ratio = np.zeros(len(list1)*len(list2))\n",
        "  for i in range(0,len(list1)):\n",
        "    for j in range(0,len(list2)):\n",
        "      common_ratio[i*len(list2)+j] = page_manager.pages[list1[i]].get_common_link_ratio(page_manager.pages[list2[j]])\n",
        "  return np.average(common_ratio)    "
      ],
      "execution_count": null,
      "outputs": []
    },
    {
      "cell_type": "code",
      "metadata": {
        "id": "h5OP0NQhx1F7"
      },
      "source": [
        "print(page_manager.pages['Shared_memory'].get_common_link_ratio(page_manager.pages['Fluid_bearing']))\n",
        "print(page_manager.pages['Fluid_bearing'].get_common_link_ratio(page_manager.pages['Shared_memory']))"
      ],
      "execution_count": null,
      "outputs": []
    },
    {
      "cell_type": "code",
      "metadata": {
        "id": "VA4jTezsKVvy"
      },
      "source": [
        "title = 'Direct_method_(education)'\n",
        "url = \"http://en.wikipedia.org/wiki/\" + title\n",
        "res = url.split(\"/\")[-1].split(\"#\")[0]\n",
        "os.system(\"wget '{}'\".format(url))"
      ],
      "execution_count": null,
      "outputs": []
    },
    {
      "cell_type": "code",
      "metadata": {
        "id": "Spx061C9WMXH"
      },
      "source": [
        ""
      ],
      "execution_count": null,
      "outputs": []
    },
    {
      "cell_type": "code",
      "metadata": {
        "id": "kcYN3deR2aFp"
      },
      "source": [
        "import nltk\n",
        "nltk.download('wordnet')\n",
        "from nltk.corpus import wordnet\n",
        "\n",
        "print(flat_list[4])\n",
        "synset = wordnet.synsets(\"learning\")\n",
        "\n",
        "for i in range(0,len(synset)):\n",
        "  print('Word and Type : ' + synset[i].name())\n",
        "  print('The meaning of the word : ' + synset[i].definition())"
      ],
      "execution_count": null,
      "outputs": []
    },
    {
      "cell_type": "code",
      "metadata": {
        "id": "MBSopdhFMGNG"
      },
      "source": [
        "data = wordnet.synsets(\"information\")[1]\n",
        "science = wordnet.synsets(\"discipline\")[0]\n",
        "machine = wordnet.synsets(\"machine\")[0]\n",
        "learning = wordnet.synsets(\"learning\")[0]\n",
        "print(data.hypernyms())\n",
        "print(science.hypernyms())"
      ],
      "execution_count": null,
      "outputs": []
    },
    {
      "cell_type": "code",
      "metadata": {
        "id": "qfg297ygcVPZ"
      },
      "source": [
        "df1 = df\n",
        "df2 = df1.apply(lambda x: ','.join(x.astype(str)), axis=1)\n",
        "# Store them in a pandas dataframe\n",
        "df_clean = pd.DataFrame({'clean': df2})\n",
        "# Create the list of list format of the custom corpus for gensim modeling \n",
        "sent = [row.split(',') for row in df_clean['clean']]\n",
        "# show the example of list of list format of the custom corpus for gensim modeling \n",
        "sent[3]"
      ],
      "execution_count": null,
      "outputs": []
    },
    {
      "cell_type": "code",
      "metadata": {
        "id": "SQQGq1ONcMMs"
      },
      "source": [
        "!pip install --upgrade gensim\n",
        "from gensim.models import Word2Vec\n",
        "model = Word2Vec(sent, min_count=1,size= 16,workers=3, window =3, sg = 1)"
      ],
      "execution_count": null,
      "outputs": []
    },
    {
      "cell_type": "code",
      "metadata": {
        "id": "7Tl5T9HndQgV"
      },
      "source": [
        "import numpy as np\n",
        "X1= list(df.Conference.unique())\n",
        "Y1 = list([])\n",
        "for item in X1:\n",
        "  Y1 = np.append(Y1,model[item])\n",
        "ConfDf=pd.DataFrame(Y1.reshape(5,16))\n",
        "ConfDf\n",
        "\n",
        "#Computing the correlation matrix\n",
        "X_corr=ConfDf.corr()\n",
        "#Computing eigen values and eigen vectors\n",
        "values,vectors=np.linalg.eig(X_corr)\n",
        "#Sorting the eigen vectors coresponding to eigen values in descending order\n",
        "args = (-values).argsort()\n",
        "values = vectors[args]\n",
        "vectors = vectors[:, args]\n",
        "#Taking first 2 components which explain maximum variance for projecting\n",
        "new_vectors=vectors[:,:2]\n",
        "#Projecting it onto new dimesion with 2 axis\n",
        "conf_X=np.dot(Y1.reshape(5,16),new_vectors)\n",
        "conf_X = pd.DataFrame(conf_X.reshape(5,2),columns=['x','y'])\n",
        "conf_X"
      ],
      "execution_count": null,
      "outputs": []
    },
    {
      "cell_type": "code",
      "metadata": {
        "id": "FWt_hrmXjCXw"
      },
      "source": [
        "conf_X = conf_X.applymap(lambda x: x.real)\n",
        "conf_X"
      ],
      "execution_count": null,
      "outputs": []
    },
    {
      "cell_type": "code",
      "metadata": {
        "id": "Vx0zYXVbdlxl"
      },
      "source": [
        "import numpy as np\n",
        "X2= list(df.Inc.unique())\n",
        "Y2 = list([])\n",
        "for item in X2:\n",
        "  Y2 = np.append(Y2,model[item])\n",
        "IncDf=pd.DataFrame(Y2.reshape(280,16))\n",
        "\n",
        "#Computing the correlation matrix\n",
        "X_corr=IncDf.corr()\n",
        "#Computing eigen values and eigen vectors\n",
        "values,vectors=np.linalg.eig(X_corr)\n",
        "#Sorting the eigen vectors coresponding to eigen values in descending order\n",
        "args = (-values).argsort()\n",
        "values = vectors[args]\n",
        "vectors = vectors[:, args]\n",
        "#Taking first 2 components which explain maximum variance for projecting\n",
        "new_vectors=vectors[:,:2]\n",
        "#Projecting it onto new dimesion with 2 axis\n",
        "Inc_X=np.dot(Y2.reshape(280,16),new_vectors)\n",
        "Inc_X = pd.DataFrame(Inc_X.reshape(280,2),columns=['x','y'])\n",
        "Inc_X\n"
      ],
      "execution_count": null,
      "outputs": []
    },
    {
      "cell_type": "code",
      "metadata": {
        "id": "1Pj8OvE5rDqx"
      },
      "source": [
        "Inc_df = Inc_X.assign(Industry = X2) \n",
        "Inc_df"
      ],
      "execution_count": null,
      "outputs": []
    },
    {
      "cell_type": "code",
      "metadata": {
        "id": "dx5N2_fBoIzF"
      },
      "source": [
        "#X1(Conf). X2(Inc):\n",
        "#df['a'] = df['a'].apply(lambda x: x + 1)\n",
        "\n",
        "to0= df[df['Conference'] == X1[0]]['Inc'].unique() \n",
        "to1= df[df['Conference'] == X1[1]]['Inc'].unique() \n",
        "to2= df[df['Conference'] == X1[2]]['Inc'].unique() \n",
        "to3= df[df['Conference'] == X1[3]]['Inc'].unique() \n",
        "to4= df[df['Conference'] == X1[4]]['Inc'].unique() \n",
        "new_label = X2.copy()\n",
        "shift = [to0,to1,to2,to3,to4]\n",
        "for a in range(0,len(new_label)):\n",
        "  for i in range(0,5):\n",
        "    if new_label[a] in shift[i]:\n",
        "      new_label[a] = i\n",
        "\n",
        "new_label"
      ],
      "execution_count": null,
      "outputs": []
    },
    {
      "cell_type": "code",
      "metadata": {
        "id": "P8aObBpNkJq-"
      },
      "source": [
        "import nltk\n",
        "from nltk.cluster import KMeansClusterer\n",
        "from sklearn import cluster\n",
        "from sklearn import metrics\n",
        "import pylab as pl\n",
        "\n",
        "input = Inc_X\n",
        "NUM_CLUSTERS=5 \n",
        "kmeans = cluster.KMeans(n_clusters=NUM_CLUSTERS)\n",
        "kmeans.fit(input)\n",
        "labels = kmeans.labels_\n",
        "pl.figure('K-means with 3 clusters')\n",
        "pl.scatter(input.iloc[:, 0], input.iloc[:, 1], c=kmeans.labels_)\n",
        "\n",
        "pl.show()"
      ],
      "execution_count": null,
      "outputs": []
    },
    {
      "cell_type": "code",
      "metadata": {
        "id": "S4xoB3ouxOwd"
      },
      "source": [
        "from sklearn.cluster import KMeans \n",
        "from google.colab import files\n",
        "kmeans = KMeans(n_clusters=5, init='random', n_init=1, random_state=0, max_iter=1)\n",
        "kmeans.fit(Inc_X) \n",
        "y_kmeans = kmeans.predict(Inc_X) # cluster index for each observation \n",
        "centers = kmeans.cluster_centers_ # cluster center coordinates \n",
        "plt.scatter(Inc_X.iloc[:, 0], Inc_X.iloc[:, 1], c=y_kmeans, s=5, cmap='gist_rainbow') \n",
        "plt.scatter(centers[:, 0], centers[:, 1], c='black', s=100, alpha=0.5)\n",
        "plt.savefig('5_mean.png')\n",
        "plt.show()\n",
        "\n",
        "\n",
        "files.download('5_mean.png')"
      ],
      "execution_count": null,
      "outputs": []
    },
    {
      "cell_type": "code",
      "metadata": {
        "id": "cl_jYWAh1LWL"
      },
      "source": [
        "y_kmeans"
      ],
      "execution_count": null,
      "outputs": []
    },
    {
      "cell_type": "code",
      "metadata": {
        "id": "DYwZaujZyVXT"
      },
      "source": [
        "from scipy.spatial import Voronoi, voronoi_plot_2d \n",
        "kmeans = KMeans(n_clusters=5, init='random', n_init=1, random_state=0, max_iter=1) \n",
        "kmeans.fit(Inc_X) \n",
        "y_kmeans = kmeans.predict(Inc_X) # cluster index for each observation \n",
        "centers = kmeans.cluster_centers_ # cluster center coordinates \n",
        "vor = Voronoi(centers) \n",
        "voronoi_plot_2d(vor) \n",
        "plt.scatter(Inc_X.iloc[:, 0], Inc_X.iloc[:, 1], c=new_label, s=5, cmap='gist_rainbow') \n",
        "plt.savefig('voronoi.png')\n",
        "plt.show()\n",
        "\n",
        "files.download('voronoi.png')"
      ],
      "execution_count": null,
      "outputs": []
    },
    {
      "cell_type": "code",
      "metadata": {
        "id": "XI3mL3ZiCGDi"
      },
      "source": [
        "import pandas as pd\n",
        "vec = pd.read_csv('vectors_inc.csv', encoding=\"utf-8-sig\") \n",
        "vec"
      ],
      "execution_count": null,
      "outputs": []
    },
    {
      "cell_type": "code",
      "metadata": {
        "id": "ckZay-2BNboi"
      },
      "source": [
        "model = pd.read_csv('vecdf.csv', encoding=\"utf-8-sig\")\n",
        "model"
      ],
      "execution_count": null,
      "outputs": []
    },
    {
      "cell_type": "code",
      "metadata": {
        "id": "ybRTe-NPDbdO"
      },
      "source": [
        ""
      ],
      "execution_count": null,
      "outputs": []
    },
    {
      "cell_type": "code",
      "metadata": {
        "id": "W4vjbYmlbdiJ"
      },
      "source": [
        "e = list(FullKey.Inc.unique())\n",
        "len(e)\n",
        "initializeMatrix = np.zeros((len(e), len(e)))\n",
        "initializeMatrix.shape\n",
        "for i in range(0,len(e)):\n",
        "  for j in range(0,len(e)):\n",
        "    comp1 = FullKey[FullKey['Inc'] == e[i]]\n",
        "    comp2 = FullKey[FullKey['Inc'] == e[j]]\n",
        "    list1 = [item.split(',') for item in comp1['Keywords'].values]\n",
        "    list2 = [item.split(',') for item in comp2['Keywords'].values]\n",
        "    flatten1 = []\n",
        "    for sublist in list1:\n",
        "      for item in sublist:\n",
        "        flatten1.append(item)"
      ],
      "execution_count": null,
      "outputs": []
    },
    {
      "cell_type": "code",
      "metadata": {
        "id": "sKSjKekeblaW"
      },
      "source": [
        "LP = list(vec.Inc.unique())\n",
        "manage = pd.DataFrame(LP)\n",
        "manage.to_csv('CompName.csv', index=False)"
      ],
      "execution_count": null,
      "outputs": []
    },
    {
      "cell_type": "code",
      "metadata": {
        "id": "7d9G0NK1TESG"
      },
      "source": [
        "extract = model.values\n",
        "distanceMatrix = np.zeros((len(LP), len(LP)))\n",
        "for i in range(0,len(LP)):\n",
        " for j in range(0,len(LP)):\n",
        "   comp1 = vec[vec['Inc'] == LP[i]]\n",
        "   comp2 = vec[vec['Inc'] == LP[j]]\n",
        "   extract1 = comp1.mean().values\n",
        "   extract2 =comp2.mean().values\n",
        "   distanceMatrix[i][j] = np.linalg.norm(extract1-extract2)\n",
        "   print([i,j])\n"
      ],
      "execution_count": null,
      "outputs": []
    },
    {
      "cell_type": "code",
      "metadata": {
        "id": "7wwSPzjDApmq"
      },
      "source": [
        "matx = pd.DataFrame(distanceMatrix,LP,LP)\n",
        "matx"
      ],
      "execution_count": null,
      "outputs": []
    },
    {
      "cell_type": "code",
      "metadata": {
        "id": "B4qlpoF5BYbV"
      },
      "source": [
        "matx.to_csv('companyDis.csv', index=False)"
      ],
      "execution_count": null,
      "outputs": []
    },
    {
      "cell_type": "code",
      "metadata": {
        "id": "DSsoG0kqBp5z",
        "colab": {
          "base_uri": "https://localhost:8080/"
        },
        "outputId": "a2715098-b620-4a39-d599-ba817f04832f"
      },
      "source": [
        "! pip install networkx\n",
        "import networkx as nx\n"
      ],
      "execution_count": null,
      "outputs": [
        {
          "output_type": "stream",
          "text": [
            "Requirement already satisfied: networkx in /usr/local/lib/python3.6/dist-packages (2.5)\n",
            "Requirement already satisfied: decorator>=4.3.0 in /usr/local/lib/python3.6/dist-packages (from networkx) (4.4.2)\n"
          ],
          "name": "stdout"
        }
      ]
    },
    {
      "cell_type": "code",
      "metadata": {
        "id": "d50G5lzglZ0H"
      },
      "source": [
        "import pandas as pd\n",
        "\n",
        "dm = pd.read_csv('companyDis.csv')\n",
        "vec = pd.read_csv('vectors_inc.csv', encoding=\"utf-8-sig\")"
      ],
      "execution_count": null,
      "outputs": []
    },
    {
      "cell_type": "code",
      "metadata": {
        "id": "Vp43ZQK7O0P4"
      },
      "source": [
        "dm"
      ],
      "execution_count": null,
      "outputs": []
    },
    {
      "cell_type": "code",
      "metadata": {
        "id": "pyhtlUOWnuH6",
        "colab": {
          "base_uri": "https://localhost:8080/"
        },
        "outputId": "961a5f2a-aadb-409b-ef34-64ed1f3b6970"
      },
      "source": [
        "import numpy as np\n",
        "import matplotlib.pyplot as plt\n",
        "LP = list(vec.Inc.unique())\n",
        "len(vec)"
      ],
      "execution_count": null,
      "outputs": [
        {
          "output_type": "execute_result",
          "data": {
            "text/plain": [
              "404"
            ]
          },
          "metadata": {
            "tags": []
          },
          "execution_count": 6
        }
      ]
    },
    {
      "cell_type": "code",
      "metadata": {
        "id": "O0H9pyhWWS7g",
        "colab": {
          "base_uri": "https://localhost:8080/",
          "height": 1000
        },
        "outputId": "9cb417cb-9d82-4da4-8a06-5420a2999a61"
      },
      "source": [
        "def CompSim_2(name): \n",
        "  LP = list(vec.Inc.unique())\n",
        "  distanceMatrix = dm.values \n",
        "  index = LP.index(name)  \n",
        "  sortingL = []\n",
        "  for i in range(0,224):\n",
        "    sortingL.append((distanceMatrix[index][i],LP[i],i))\n",
        "  res1 = sorted(sortingL,key=lambda x: x[0],reverse=False)[:9]\n",
        "  res2 = [i[2] for i in res1]\n",
        "  compName = [i[1] for i in res1]\n",
        "  resMatrix = np.zeros((len(res2), len(res2)))\n",
        "  for i in range(0,len(res2)):\n",
        "    for j in range(0,len(res2)):\n",
        "      resMatrix[i][j] = distanceMatrix[res2[i]][res2[j]]\n",
        "  forComp = pd.DataFrame(resMatrix,compName,compName)\n",
        "  \n",
        "  dist_df = forComp\n",
        "  G = nx.Graph()\n",
        "  for i, row_i in dist_df.iterrows():\n",
        "    for j, row_j in dist_df.iterrows():\n",
        "        G.add_edge(i,j,weight=dist_df.loc[i][j]*2)\n",
        "\n",
        " \n",
        "\n",
        "  pos = nx.kamada_kawai_layout(G)\n",
        "  edges = G.edges()\n",
        "  weights = [G[u][v]['weight'] for u,v in edges]\n",
        "  cmap = 'bwr'\n",
        "\n",
        "\n",
        "\n",
        "  fig, ax = plt.subplots(figsize=(10, 10))\n",
        "  # Visualize graph components\n",
        "  nx.draw_networkx_edges(G, pos, alpha=0.3, width=weights, edge_color=weights)\n",
        "  nx.draw_networkx_nodes(G, pos, node_color=\"#210070\", alpha=0.9)\n",
        "  label_options = {\"ec\": \"k\", \"fc\": \"white\", \"alpha\": 0.7}\n",
        "  nx.draw_networkx_labels(G, pos, font_size=10, bbox=label_options)\n",
        "\n",
        "  # Resize figure for label readibility\n",
        "  ax.margins(0.1, 0.05)\n",
        "  fig.tight_layout()\n",
        "  plt.axis(\"off\")\n",
        "  plt.show()\n",
        "  return forComp\n",
        " \n",
        "\n",
        "CompSim_2('Google')"
      ],
      "execution_count": null,
      "outputs": [
        {
          "output_type": "display_data",
          "data": {
            "image/png": "[encoded data removed]",
            "text/plain": [
              "<Figure size 720x720 with 1 Axes>"
            ]
          },
          "metadata": {
            "tags": []
          }
        },
        {
          "output_type": "execute_result",
          "data": {
            "text/html": [
              "<div>\n",
              "<style scoped>\n",
              "    .dataframe tbody tr th:only-of-type {\n",
              "        vertical-align: middle;\n",
              "    }\n",
              "\n",
              "    .dataframe tbody tr th {\n",
              "        vertical-align: top;\n",
              "    }\n",
              "\n",
              "    .dataframe thead th {\n",
              "        text-align: right;\n",
              "    }\n",
              "</style>\n",
              "<table border=\"1\" class=\"dataframe\">\n",
              "  <thead>\n",
              "    <tr style=\"text-align: right;\">\n",
              "      <th></th>\n",
              "      <th>Google</th>\n",
              "      <th>NVIDIA</th>\n",
              "      <th>Microsoft</th>\n",
              "      <th>Lawrence Berkeley National Laboratory</th>\n",
              "      <th>National Tsing Hua University</th>\n",
              "      <th>Elastic</th>\n",
              "      <th>IBM</th>\n",
              "      <th>Preferred Networks</th>\n",
              "      <th>Lablup Inc.</th>\n",
              "    </tr>\n",
              "  </thead>\n",
              "  <tbody>\n",
              "    <tr>\n",
              "      <th>Google</th>\n",
              "      <td>0.000000</td>\n",
              "      <td>2.177681</td>\n",
              "      <td>2.533440</td>\n",
              "      <td>2.600907</td>\n",
              "      <td>2.787917</td>\n",
              "      <td>2.822384</td>\n",
              "      <td>2.823263</td>\n",
              "      <td>2.848352</td>\n",
              "      <td>2.941594</td>\n",
              "    </tr>\n",
              "    <tr>\n",
              "      <th>NVIDIA</th>\n",
              "      <td>2.177681</td>\n",
              "      <td>0.000000</td>\n",
              "      <td>2.313475</td>\n",
              "      <td>1.644294</td>\n",
              "      <td>2.125368</td>\n",
              "      <td>2.799286</td>\n",
              "      <td>1.694858</td>\n",
              "      <td>2.314324</td>\n",
              "      <td>2.845806</td>\n",
              "    </tr>\n",
              "    <tr>\n",
              "      <th>Microsoft</th>\n",
              "      <td>2.533440</td>\n",
              "      <td>2.313475</td>\n",
              "      <td>0.000000</td>\n",
              "      <td>2.398616</td>\n",
              "      <td>3.140265</td>\n",
              "      <td>2.616632</td>\n",
              "      <td>2.661092</td>\n",
              "      <td>2.678526</td>\n",
              "      <td>3.505720</td>\n",
              "    </tr>\n",
              "    <tr>\n",
              "      <th>Lawrence Berkeley National Laboratory</th>\n",
              "      <td>2.600907</td>\n",
              "      <td>1.644294</td>\n",
              "      <td>2.398616</td>\n",
              "      <td>0.000000</td>\n",
              "      <td>2.759797</td>\n",
              "      <td>3.192677</td>\n",
              "      <td>2.512974</td>\n",
              "      <td>2.528834</td>\n",
              "      <td>3.041808</td>\n",
              "    </tr>\n",
              "    <tr>\n",
              "      <th>National Tsing Hua University</th>\n",
              "      <td>2.787917</td>\n",
              "      <td>2.125368</td>\n",
              "      <td>3.140265</td>\n",
              "      <td>2.759797</td>\n",
              "      <td>0.000000</td>\n",
              "      <td>3.431328</td>\n",
              "      <td>2.532783</td>\n",
              "      <td>3.290767</td>\n",
              "      <td>3.717006</td>\n",
              "    </tr>\n",
              "    <tr>\n",
              "      <th>Elastic</th>\n",
              "      <td>2.822384</td>\n",
              "      <td>2.799286</td>\n",
              "      <td>2.616632</td>\n",
              "      <td>3.192677</td>\n",
              "      <td>3.431328</td>\n",
              "      <td>0.000000</td>\n",
              "      <td>2.628802</td>\n",
              "      <td>3.148796</td>\n",
              "      <td>3.659732</td>\n",
              "    </tr>\n",
              "    <tr>\n",
              "      <th>IBM</th>\n",
              "      <td>2.823263</td>\n",
              "      <td>1.694858</td>\n",
              "      <td>2.661092</td>\n",
              "      <td>2.512974</td>\n",
              "      <td>2.532783</td>\n",
              "      <td>2.628802</td>\n",
              "      <td>0.000000</td>\n",
              "      <td>2.785040</td>\n",
              "      <td>3.236730</td>\n",
              "    </tr>\n",
              "    <tr>\n",
              "      <th>Preferred Networks</th>\n",
              "      <td>2.848352</td>\n",
              "      <td>2.314324</td>\n",
              "      <td>2.678526</td>\n",
              "      <td>2.528834</td>\n",
              "      <td>3.290767</td>\n",
              "      <td>3.148796</td>\n",
              "      <td>2.785040</td>\n",
              "      <td>0.000000</td>\n",
              "      <td>3.394205</td>\n",
              "    </tr>\n",
              "    <tr>\n",
              "      <th>Lablup Inc.</th>\n",
              "      <td>2.941594</td>\n",
              "      <td>2.845806</td>\n",
              "      <td>3.505720</td>\n",
              "      <td>3.041808</td>\n",
              "      <td>3.717006</td>\n",
              "      <td>3.659732</td>\n",
              "      <td>3.236730</td>\n",
              "      <td>3.394205</td>\n",
              "      <td>0.000000</td>\n",
              "    </tr>\n",
              "  </tbody>\n",
              "</table>\n",
              "</div>"
            ],
            "text/plain": [
              "                                         Google    NVIDIA  Microsoft  \\\n",
              "Google                                 0.000000  2.177681   2.533440   \n",
              "NVIDIA                                 2.177681  0.000000   2.313475   \n",
              "Microsoft                              2.533440  2.313475   0.000000   \n",
              "Lawrence Berkeley National Laboratory  2.600907  1.644294   2.398616   \n",
              "National Tsing Hua University          2.787917  2.125368   3.140265   \n",
              "Elastic                                2.822384  2.799286   2.616632   \n",
              "IBM                                    2.823263  1.694858   2.661092   \n",
              "Preferred Networks                     2.848352  2.314324   2.678526   \n",
              "Lablup Inc.                            2.941594  2.845806   3.505720   \n",
              "\n",
              "                                       Lawrence Berkeley National Laboratory  \\\n",
              "Google                                                              2.600907   \n",
              "NVIDIA                                                              1.644294   \n",
              "Microsoft                                                           2.398616   \n",
              "Lawrence Berkeley National Laboratory                               0.000000   \n",
              "National Tsing Hua University                                       2.759797   \n",
              "Elastic                                                             3.192677   \n",
              "IBM                                                                 2.512974   \n",
              "Preferred Networks                                                  2.528834   \n",
              "Lablup Inc.                                                         3.041808   \n",
              "\n",
              "                                       National Tsing Hua University  \\\n",
              "Google                                                      2.787917   \n",
              "NVIDIA                                                      2.125368   \n",
              "Microsoft                                                   3.140265   \n",
              "Lawrence Berkeley National Laboratory                       2.759797   \n",
              "National Tsing Hua University                               0.000000   \n",
              "Elastic                                                     3.431328   \n",
              "IBM                                                         2.532783   \n",
              "Preferred Networks                                          3.290767   \n",
              "Lablup Inc.                                                 3.717006   \n",
              "\n",
              "                                        Elastic       IBM  Preferred Networks  \\\n",
              "Google                                 2.822384  2.823263            2.848352   \n",
              "NVIDIA                                 2.799286  1.694858            2.314324   \n",
              "Microsoft                              2.616632  2.661092            2.678526   \n",
              "Lawrence Berkeley National Laboratory  3.192677  2.512974            2.528834   \n",
              "National Tsing Hua University          3.431328  2.532783            3.290767   \n",
              "Elastic                                0.000000  2.628802            3.148796   \n",
              "IBM                                    2.628802  0.000000            2.785040   \n",
              "Preferred Networks                     3.148796  2.785040            0.000000   \n",
              "Lablup Inc.                            3.659732  3.236730            3.394205   \n",
              "\n",
              "                                       Lablup Inc.  \n",
              "Google                                    2.941594  \n",
              "NVIDIA                                    2.845806  \n",
              "Microsoft                                 3.505720  \n",
              "Lawrence Berkeley National Laboratory     3.041808  \n",
              "National Tsing Hua University             3.717006  \n",
              "Elastic                                   3.659732  \n",
              "IBM                                       3.236730  \n",
              "Preferred Networks                        3.394205  \n",
              "Lablup Inc.                               0.000000  "
            ]
          },
          "metadata": {
            "tags": []
          },
          "execution_count": 8
        }
      ]
    },
    {
      "cell_type": "code",
      "metadata": {
        "id": "yuKFV8CtKoee"
      },
      "source": [
        "df[df['Inc'] == 'Amazon']['Keywords'].values"
      ],
      "execution_count": null,
      "outputs": []
    },
    {
      "cell_type": "code",
      "metadata": {
        "id": "kwA7j1K-P_PF"
      },
      "source": [
        "df[df['Inc'] == 'NVIDIA']['Keywords'].values"
      ],
      "execution_count": null,
      "outputs": []
    },
    {
      "cell_type": "code",
      "metadata": {
        "id": "INWOoJCvP3TX"
      },
      "source": [
        "df[df['Inc'] == 'IBM']['Keywords'].values"
      ],
      "execution_count": null,
      "outputs": []
    },
    {
      "cell_type": "code",
      "metadata": {
        "id": "ajObDczsQKd9"
      },
      "source": [
        "df[df['Inc'] == 'Google']['Keywords'].values"
      ],
      "execution_count": null,
      "outputs": []
    },
    {
      "cell_type": "code",
      "metadata": {
        "id": "dnAWkHoAQUD_"
      },
      "source": [
        "df[df['Inc'] == 'Amazon Web Services']['Keywords'].values"
      ],
      "execution_count": null,
      "outputs": []
    },
    {
      "cell_type": "code",
      "metadata": {
        "id": "S1VvLW7SQfPk"
      },
      "source": [
        "df[df['Inc'] == 'Preferred Networks']['Keywords'].values"
      ],
      "execution_count": null,
      "outputs": []
    },
    {
      "cell_type": "code",
      "metadata": {
        "id": "qzcakWQxRChe"
      },
      "source": [
        "df[df['Inc'] == 'Lawrence Berkeley National Laboratory']['Keywords'].values"
      ],
      "execution_count": null,
      "outputs": []
    },
    {
      "cell_type": "code",
      "metadata": {
        "id": "vd-Dx1ENRNlL"
      },
      "source": [
        "df[df['Inc'] == 'Microsoft']['Keywords'].values"
      ],
      "execution_count": null,
      "outputs": []
    },
    {
      "cell_type": "code",
      "metadata": {
        "id": "aOpaPStyRfil"
      },
      "source": [
        "vec[vec['Inc'] == 'Amazon']"
      ],
      "execution_count": null,
      "outputs": []
    },
    {
      "cell_type": "code",
      "metadata": {
        "id": "d7I-RsctSinL"
      },
      "source": [
        "a = vec[vec['Inc'] == 'NVIDIA']"
      ],
      "execution_count": null,
      "outputs": []
    },
    {
      "cell_type": "code",
      "metadata": {
        "id": "z7ywdLm5UnYQ"
      },
      "source": [
        "np.zeros((54,54))\n",
        "extract[i]"
      ],
      "execution_count": null,
      "outputs": []
    },
    {
      "cell_type": "code",
      "metadata": {
        "id": "Cx5Eiva_UbuK"
      },
      "source": [
        "\n",
        "extract = a.values\n",
        "distanceMatrix = np.zeros((54, 54))\n",
        "for i in range(0,54):\n",
        " for j in range(0,54):\n",
        "   distanceMatrix[i][j] = np.linalg.norm(extract[i] - extract[j])\n",
        "   print([i,j])\n",
        "pd.DataFrame(distanceMatrix)"
      ],
      "execution_count": null,
      "outputs": []
    },
    {
      "cell_type": "code",
      "metadata": {
        "id": "qeqYMSHSXMas"
      },
      "source": [
        "np.where(CN == 'Google')"
      ],
      "execution_count": null,
      "outputs": []
    },
    {
      "cell_type": "code",
      "metadata": {
        "id": "_5Gq1vjdWrJj"
      },
      "source": [
        "  dist_df = forComp\n",
        "  G = nx.Graph()\n",
        "  for i, row_i in dist_df.iterrows():\n",
        "    for j, row_j in dist_df.iterrows():\n",
        "        G.add_edge(i,j,weight=dist_df.loc[i][j]*20)\n",
        "\n",
        "  pos = nx.kamada_kawai_layout(G)\n",
        "  edges = G.edges()\n",
        "  weights = [G[u][v]['weight'] for u,v in edges]\n",
        "\n",
        "  fig, ax = plt.subplots(figsize=(15, 15))\n",
        "  # Visualize graph components\n",
        "  nx.draw_networkx_edges(G, pos, alpha=0.3, width=weights, edge_color=weights)\n",
        "  nx.draw_networkx_nodes(G, pos, node_color=\"#210070\", alpha=0.9)\n",
        "  label_options = {\"ec\": \"k\", \"fc\": \"white\", \"alpha\": 0.7}\n",
        "  nx.draw_networkx_labels(G, pos, font_size=10, bbox=label_options)\n",
        "\n",
        "  # Resize figure for label readibility\n",
        "  ax.margins(0.1, 0.05)\n",
        "  fig.tight_layout()\n",
        "  plt.axis(\"off\")\n",
        "  plt.show()"
      ],
      "execution_count": null,
      "outputs": []
    },
    {
      "cell_type": "code",
      "metadata": {
        "id": "lzPJ7-A32FRa"
      },
      "source": [
        "import plotly.graph_objects as go\n",
        "import networkx as nx\n",
        "\n",
        "G = nx.random_geometric_graph(200, 0.125)\n",
        "\n",
        "\n",
        "edge_x = []\n",
        "edge_y = []\n",
        "for edge in G.edges():\n",
        "    x0, y0 = G.nodes[edge[0]]['pos']\n",
        "    x1, y1 = G.nodes[edge[1]]['pos']\n",
        "    edge_x.append(x0)\n",
        "    edge_x.append(x1)\n",
        "    edge_x.append(None)\n",
        "    edge_y.append(y0)\n",
        "    edge_y.append(y1)\n",
        "    edge_y.append(None)\n",
        "\n",
        "edge_trace = go.Scatter(\n",
        "    x=edge_x, y=edge_y,\n",
        "    line=dict(width=0.5, color='#888'),\n",
        "    hoverinfo='none',\n",
        "    mode='lines')\n",
        "\n",
        "node_x = []\n",
        "node_y = []\n",
        "for node in G.nodes():\n",
        "    x, y = G.nodes[node]['pos']\n",
        "    node_x.append(x)\n",
        "    node_y.append(y)\n",
        "\n",
        "node_trace = go.Scatter(\n",
        "    x=node_x, y=node_y,\n",
        "    mode='markers',\n",
        "    hoverinfo='text',\n",
        "    marker=dict(\n",
        "        showscale=True,\n",
        "        # colorscale options\n",
        "        #'Greys' | 'YlGnBu' | 'Greens' | 'YlOrRd' | 'Bluered' | 'RdBu' |\n",
        "        #'Reds' | 'Blues' | 'Picnic' | 'Rainbow' | 'Portland' | 'Jet' |\n",
        "        #'Hot' | 'Blackbody' | 'Earth' | 'Electric' | 'Viridis' |\n",
        "        colorscale='YlGnBu',\n",
        "        reversescale=True,\n",
        "        color=[],\n",
        "        size=10,\n",
        "        colorbar=dict(\n",
        "            thickness=15,\n",
        "            title='Node Connections',\n",
        "            xanchor='left',\n",
        "            titleside='right'\n",
        "        ),\n",
        "        line_width=2))\n",
        "\n",
        "\n",
        "node_adjacencies = []\n",
        "node_text = []\n",
        "for node, adjacencies in enumerate(G.adjacency()):\n",
        "    node_adjacencies.append(len(adjacencies[1]))\n",
        "    node_text.append('# of connections: '+str(len(adjacencies[1])))\n",
        "\n",
        "node_trace.marker.color = node_adjacencies\n",
        "node_trace.text = node_text\n",
        "fig = go.Figure(data=[edge_trace, node_trace],\n",
        "             layout=go.Layout(\n",
        "                title='<br>Network graph made with Python',\n",
        "                titlefont_size=16,\n",
        "                showlegend=False,\n",
        "                hovermode='closest',\n",
        "                margin=dict(b=20,l=5,r=5,t=40),\n",
        "                annotations=[ dict(\n",
        "                    text=\"Python code: <a href='https://plotly.com/ipython-notebooks/network-graphs/'> https://plotly.com/ipython-notebooks/network-graphs/</a>\",\n",
        "                    showarrow=False,\n",
        "                    xref=\"paper\", yref=\"paper\",\n",
        "                    x=0.005, y=-0.002 ) ],\n",
        "                xaxis=dict(showgrid=False, zeroline=False, showticklabels=False),\n",
        "                yaxis=dict(showgrid=False, zeroline=False, showticklabels=False))\n",
        "                )\n",
        "fig.show()"
      ],
      "execution_count": null,
      "outputs": []
    },
    {
      "cell_type": "code",
      "metadata": {
        "id": "za1Hn58L6dTg"
      },
      "source": [
        "node_trace"
      ],
      "execution_count": null,
      "outputs": []
    },
    {
      "cell_type": "code",
      "metadata": {
        "id": "h6UbsZn_6k3a"
      },
      "source": [
        "edge_trace"
      ],
      "execution_count": null,
      "outputs": []
    },
    {
      "cell_type": "code",
      "metadata": {
        "id": "UCoZi5yv6yJB"
      },
      "source": [
        "pos = nx.kamada_kawai_layout(H)\n",
        "nx.draw_networkx_edges(H, pos, alpha=0.3)\n",
        "plt.show()"
      ],
      "execution_count": null,
      "outputs": []
    },
    {
      "cell_type": "code",
      "metadata": {
        "id": "R489iqYD6yVR"
      },
      "source": [
        "import pandas as pd\n",
        "\n",
        "a = pd.read_csv('similarityMatrix.csv')\n",
        "companyName = []\n",
        "for col in a.columns:\n",
        "  companyName.append(col)\n",
        "companyName\n",
        "pd.DataFrame(companyName.to_csv('companyName.csv',index = False)"
      ],
      "execution_count": null,
      "outputs": []
    },
    {
      "cell_type": "code",
      "metadata": {
        "id": "9bzmd4IFQwhv"
      },
      "source": [
        "refineMatrix = pd.DataFrame(a.values,companyName,companyName)\n",
        "refineMatrix.to_csv('refineMatrix.csv',index = False)"
      ],
      "execution_count": null,
      "outputs": []
    },
    {
      "cell_type": "code",
      "metadata": {
        "id": "u1y0eET-RNbr"
      },
      "source": [
        "! pip install networkx\n",
        "import networkx as nx\n",
        "import matplotlib.pyplot as plt\n",
        "import numpy as np"
      ],
      "execution_count": null,
      "outputs": []
    },
    {
      "cell_type": "code",
      "metadata": {
        "id": "-w8uM68RRBnL",
        "colab": {
          "base_uri": "https://localhost:8080/",
          "height": 1000
        },
        "outputId": "0e795588-bb8e-45cf-d91e-eadeda950238"
      },
      "source": [
        "companyList = pd.read_csv('companyName.csv')\n",
        "similarityMatrix = pd.read_csv('refineMatrix.csv')\n",
        "b = companyList.values\n",
        "e = []\n",
        "for sublist in b:\n",
        "  for item in sublist:\n",
        "    e.append(item)\n",
        "\n",
        "def CompSim(name): \n",
        "  initializeMatrix = similarityMatrix.values \n",
        "  index = e.index(name)\n",
        "  sortingL = []\n",
        "  for i in range(0,len(e)):\n",
        "    sortingL.append((initializeMatrix[index][i],e[i],i))\n",
        "  res1 = sorted(sortingL,key=lambda x: x[0],reverse=True)[:9]\n",
        "  res2 = [i[2] for i in res1]\n",
        "  compName = [i[1] for i in res1]\n",
        "  resMatrix = np.zeros((len(res2), len(res2)))\n",
        "  for i in range(0,len(res2)):\n",
        "    for j in range(0,len(res2)):\n",
        "      resMatrix[i][j] = initializeMatrix[res2[i]][res2[j]]\n",
        "\n",
        "  forComp = pd.DataFrame(resMatrix,compName,compName)\n",
        "  dist_df = forComp\n",
        "  G = nx.Graph()\n",
        "  for i, row_i in dist_df.iterrows():\n",
        "    for j, row_j in dist_df.iterrows():\n",
        "        G.add_edge(i,j,weight=dist_df.loc[i][j]*20)\n",
        "\n",
        "  pos = nx.kamada_kawai_layout(G)\n",
        "  edges = G.edges()\n",
        "  weights = [G[u][v]['weight'] for u,v in edges]\n",
        "  cmap = 'bwr'\n",
        "\n",
        "  fig, ax = plt.subplots(figsize=(10, 10))\n",
        "  # Visualize graph components\n",
        "  nx.draw_networkx_edges(G, pos, alpha=0.3, width=weights, edge_color=weights)\n",
        "  nx.draw_networkx_nodes(G, pos, node_color=\"#210070\", alpha=0.9)\n",
        "  label_options = {\"ec\": \"k\", \"fc\": \"white\", \"alpha\": 0.7}\n",
        "  nx.draw_networkx_labels(G, pos, font_size=10, bbox=label_options)\n",
        "\n",
        "  # Resize figure for label readibility\n",
        "  ax.margins(0.1, 0.05)\n",
        "  fig.tight_layout()\n",
        "  plt.axis(\"off\")\n",
        "  plt.show()\n",
        "  return forComp\n",
        " \n",
        "\n",
        "CompSim('Google')"
      ],
      "execution_count": null,
      "outputs": [
        {
          "output_type": "display_data",
          "data": {
            "image/png": "[encoded data removed]",
            "text/plain": [
              "<Figure size 720x720 with 1 Axes>"
            ]
          },
          "metadata": {
            "tags": []
          }
        },
        {
          "output_type": "execute_result",
          "data": {
            "text/html": [
              "<div>\n",
              "<style scoped>\n",
              "    .dataframe tbody tr th:only-of-type {\n",
              "        vertical-align: middle;\n",
              "    }\n",
              "\n",
              "    .dataframe tbody tr th {\n",
              "        vertical-align: top;\n",
              "    }\n",
              "\n",
              "    .dataframe thead th {\n",
              "        text-align: right;\n",
              "    }\n",
              "</style>\n",
              "<table border=\"1\" class=\"dataframe\">\n",
              "  <thead>\n",
              "    <tr style=\"text-align: right;\">\n",
              "      <th></th>\n",
              "      <th>National Institute of Information and Communications Technology</th>\n",
              "      <th>INC.</th>\n",
              "      <th>Google Brain</th>\n",
              "      <th>Google</th>\n",
              "      <th>Voxeleron</th>\n",
              "      <th>Adform</th>\n",
              "      <th>Hawk:AI</th>\n",
              "      <th>Bouvet Norge AS</th>\n",
              "      <th>Optum Technology</th>\n",
              "    </tr>\n",
              "  </thead>\n",
              "  <tbody>\n",
              "    <tr>\n",
              "      <th>National Institute of Information and Communications Technology</th>\n",
              "      <td>1.000000</td>\n",
              "      <td>1.000000</td>\n",
              "      <td>0.635953</td>\n",
              "      <td>0.215609</td>\n",
              "      <td>0.484144</td>\n",
              "      <td>0.271905</td>\n",
              "      <td>0.271905</td>\n",
              "      <td>0.335886</td>\n",
              "      <td>0.340216</td>\n",
              "    </tr>\n",
              "    <tr>\n",
              "      <th>INC.</th>\n",
              "      <td>1.000000</td>\n",
              "      <td>1.000000</td>\n",
              "      <td>0.635953</td>\n",
              "      <td>0.215609</td>\n",
              "      <td>0.484144</td>\n",
              "      <td>0.271905</td>\n",
              "      <td>0.271905</td>\n",
              "      <td>0.335886</td>\n",
              "      <td>0.340216</td>\n",
              "    </tr>\n",
              "    <tr>\n",
              "      <th>Google Brain</th>\n",
              "      <td>0.635953</td>\n",
              "      <td>0.635953</td>\n",
              "      <td>0.635953</td>\n",
              "      <td>0.172590</td>\n",
              "      <td>0.337789</td>\n",
              "      <td>0.635953</td>\n",
              "      <td>0.635953</td>\n",
              "      <td>0.481178</td>\n",
              "      <td>0.218784</td>\n",
              "    </tr>\n",
              "    <tr>\n",
              "      <th>Google</th>\n",
              "      <td>0.215609</td>\n",
              "      <td>0.215609</td>\n",
              "      <td>0.172590</td>\n",
              "      <td>0.170047</td>\n",
              "      <td>0.152268</td>\n",
              "      <td>0.129572</td>\n",
              "      <td>0.129572</td>\n",
              "      <td>0.127003</td>\n",
              "      <td>0.125339</td>\n",
              "    </tr>\n",
              "    <tr>\n",
              "      <th>Voxeleron</th>\n",
              "      <td>0.484144</td>\n",
              "      <td>0.484144</td>\n",
              "      <td>0.337789</td>\n",
              "      <td>0.152268</td>\n",
              "      <td>0.448857</td>\n",
              "      <td>0.191434</td>\n",
              "      <td>0.191434</td>\n",
              "      <td>0.234399</td>\n",
              "      <td>0.169966</td>\n",
              "    </tr>\n",
              "    <tr>\n",
              "      <th>Adform</th>\n",
              "      <td>0.271905</td>\n",
              "      <td>0.271905</td>\n",
              "      <td>0.635953</td>\n",
              "      <td>0.129572</td>\n",
              "      <td>0.191434</td>\n",
              "      <td>1.000000</td>\n",
              "      <td>1.000000</td>\n",
              "      <td>0.626470</td>\n",
              "      <td>0.097352</td>\n",
              "    </tr>\n",
              "    <tr>\n",
              "      <th>Hawk:AI</th>\n",
              "      <td>0.271905</td>\n",
              "      <td>0.271905</td>\n",
              "      <td>0.635953</td>\n",
              "      <td>0.129572</td>\n",
              "      <td>0.191434</td>\n",
              "      <td>1.000000</td>\n",
              "      <td>1.000000</td>\n",
              "      <td>0.626470</td>\n",
              "      <td>0.097352</td>\n",
              "    </tr>\n",
              "    <tr>\n",
              "      <th>Bouvet Norge AS</th>\n",
              "      <td>0.335886</td>\n",
              "      <td>0.335886</td>\n",
              "      <td>0.481178</td>\n",
              "      <td>0.127003</td>\n",
              "      <td>0.234399</td>\n",
              "      <td>0.626470</td>\n",
              "      <td>0.626470</td>\n",
              "      <td>0.626470</td>\n",
              "      <td>0.117259</td>\n",
              "    </tr>\n",
              "    <tr>\n",
              "      <th>Optum Technology</th>\n",
              "      <td>0.340216</td>\n",
              "      <td>0.340216</td>\n",
              "      <td>0.218784</td>\n",
              "      <td>0.125339</td>\n",
              "      <td>0.169966</td>\n",
              "      <td>0.097352</td>\n",
              "      <td>0.097352</td>\n",
              "      <td>0.117259</td>\n",
              "      <td>0.339113</td>\n",
              "    </tr>\n",
              "  </tbody>\n",
              "</table>\n",
              "</div>"
            ],
            "text/plain": [
              "                                                    National Institute of Information and Communications Technology  \\\n",
              "National Institute of Information and Communica...                                           1.000000                 \n",
              "INC.                                                                                         1.000000                 \n",
              "Google Brain                                                                                 0.635953                 \n",
              "Google                                                                                       0.215609                 \n",
              "Voxeleron                                                                                    0.484144                 \n",
              " Adform                                                                                      0.271905                 \n",
              "Hawk:AI                                                                                      0.271905                 \n",
              "Bouvet Norge AS                                                                              0.335886                 \n",
              "Optum Technology                                                                             0.340216                 \n",
              "\n",
              "                                                        INC.  Google Brain  \\\n",
              "National Institute of Information and Communica...  1.000000      0.635953   \n",
              "INC.                                                1.000000      0.635953   \n",
              "Google Brain                                        0.635953      0.635953   \n",
              "Google                                              0.215609      0.172590   \n",
              "Voxeleron                                           0.484144      0.337789   \n",
              " Adform                                             0.271905      0.635953   \n",
              "Hawk:AI                                             0.271905      0.635953   \n",
              "Bouvet Norge AS                                     0.335886      0.481178   \n",
              "Optum Technology                                    0.340216      0.218784   \n",
              "\n",
              "                                                      Google  Voxeleron  \\\n",
              "National Institute of Information and Communica...  0.215609   0.484144   \n",
              "INC.                                                0.215609   0.484144   \n",
              "Google Brain                                        0.172590   0.337789   \n",
              "Google                                              0.170047   0.152268   \n",
              "Voxeleron                                           0.152268   0.448857   \n",
              " Adform                                             0.129572   0.191434   \n",
              "Hawk:AI                                             0.129572   0.191434   \n",
              "Bouvet Norge AS                                     0.127003   0.234399   \n",
              "Optum Technology                                    0.125339   0.169966   \n",
              "\n",
              "                                                      Adform   Hawk:AI  \\\n",
              "National Institute of Information and Communica...  0.271905  0.271905   \n",
              "INC.                                                0.271905  0.271905   \n",
              "Google Brain                                        0.635953  0.635953   \n",
              "Google                                              0.129572  0.129572   \n",
              "Voxeleron                                           0.191434  0.191434   \n",
              " Adform                                             1.000000  1.000000   \n",
              "Hawk:AI                                             1.000000  1.000000   \n",
              "Bouvet Norge AS                                     0.626470  0.626470   \n",
              "Optum Technology                                    0.097352  0.097352   \n",
              "\n",
              "                                                    Bouvet Norge AS  \\\n",
              "National Institute of Information and Communica...         0.335886   \n",
              "INC.                                                       0.335886   \n",
              "Google Brain                                               0.481178   \n",
              "Google                                                     0.127003   \n",
              "Voxeleron                                                  0.234399   \n",
              " Adform                                                    0.626470   \n",
              "Hawk:AI                                                    0.626470   \n",
              "Bouvet Norge AS                                            0.626470   \n",
              "Optum Technology                                           0.117259   \n",
              "\n",
              "                                                    Optum Technology  \n",
              "National Institute of Information and Communica...          0.340216  \n",
              "INC.                                                        0.340216  \n",
              "Google Brain                                                0.218784  \n",
              "Google                                                      0.125339  \n",
              "Voxeleron                                                   0.169966  \n",
              " Adform                                                     0.097352  \n",
              "Hawk:AI                                                     0.097352  \n",
              "Bouvet Norge AS                                             0.117259  \n",
              "Optum Technology                                            0.339113  "
            ]
          },
          "metadata": {
            "tags": []
          },
          "execution_count": 9
        }
      ]
    },
    {
      "cell_type": "code",
      "metadata": {
        "id": "lBZAH2zRS7v_"
      },
      "source": [
        "df[df['Inc'] == 'Hazelcast']['Keywords'].values"
      ],
      "execution_count": null,
      "outputs": []
    },
    {
      "cell_type": "code",
      "metadata": {
        "id": "3jgLakqzN2wC"
      },
      "source": [
        "df[df['Inc'] == 'Datatonic']['Keywords'].values"
      ],
      "execution_count": null,
      "outputs": []
    },
    {
      "cell_type": "code",
      "metadata": {
        "id": "ugz5eyEROJ7t"
      },
      "source": [
        "df[df['Inc'] == 'Datatonic']['Keywords'].values"
      ],
      "execution_count": null,
      "outputs": []
    },
    {
      "cell_type": "code",
      "metadata": {
        "id": "D_Ys3epqOLv6"
      },
      "source": [
        "df[df['Inc'] == 'Datatonic']['Keywords'].values"
      ],
      "execution_count": null,
      "outputs": []
    },
    {
      "cell_type": "code",
      "metadata": {
        "id": "zMmhI1QyOMdK"
      },
      "source": [
        "df[df['Inc'] == 'Datatonic']['Keywords'].values"
      ],
      "execution_count": null,
      "outputs": []
    },
    {
      "cell_type": "code",
      "metadata": {
        "id": "XO2mLNdWONMf"
      },
      "source": [
        "df[df['Inc'] == 'Datatonic']['Keywords'].values"
      ],
      "execution_count": null,
      "outputs": []
    },
    {
      "cell_type": "code",
      "metadata": {
        "id": "vL_9uMosOOOy"
      },
      "source": [
        "df[df['Inc'] == 'Datatonic']['Keywords'].values"
      ],
      "execution_count": null,
      "outputs": []
    },
    {
      "cell_type": "code",
      "metadata": {
        "id": "p2n2f5KBOO4V"
      },
      "source": [
        ""
      ],
      "execution_count": null,
      "outputs": []
    }
  ]
}
